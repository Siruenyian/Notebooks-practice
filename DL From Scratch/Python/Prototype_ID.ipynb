{
 "cells": [
  {
   "cell_type": "markdown",
   "id": "409b9b89",
   "metadata": {},
   "source": [
    "# 📘 Mnist Classifier From Scratch - ID\n",
    "---"
   ]
  },
  {
   "cell_type": "markdown",
   "id": "434f0f7d",
   "metadata": {},
   "source": [
    "Notebook ini menyediakan **implementasi hands-on dari Deep Neural Network (DNN)** menggunakan NumPy. Dengan tidak menggunakan library tingkat tinggi seperti TensorFlow atau PyTorch, latihan ini berfokus pada membangun komponen inti secara manual untuk lebih memahami bagaimana *Neural network* bekerja secara mendalam — termasuk proses forward pass, backward pass, pembaruan weight, dan training loop."
   ]
  },
  {
   "cell_type": "markdown",
   "id": "6ecd8b80",
   "metadata": {},
   "source": [
    "## Table of Contents\n",
    "\n",
    "- [1. Download Mnist Dataset and Unzip](#1-download-mnist-dataset-and-unzip)\n",
    "- [2. Preprocess the Data](#2-preprocess-the-data)\n",
    "- [3. Split Dataset to Training and Testing](#3-split-dataset-to-training-and-testing)\n",
    "- [4. Define Activation Functions](#4-define-activation-functions)\n",
    "- [5. Define Loss Function and Metrics](#5-define-loss-function-and-metrics)\n",
    "- [6. Define Layer Class](#6-define-layer-class)\n",
    "- [7. Define Model Class](#7-define-model-class)\n",
    "- [8. Build Model Object](#8-build-model-object)\n",
    "- [9. Train Model](#9-train-model)\n",
    "- [10. Build Confusion Matrix](#10-build-confusion-matrix)"
   ]
  },
  {
   "cell_type": "code",
   "execution_count": 1,
   "id": "e1bc106d",
   "metadata": {},
   "outputs": [],
   "source": [
    "import os\n",
    "import requests\n",
    "import zipfile\n",
    "import numpy as np\n",
    "from pathlib import Path\n",
    "import matplotlib.pyplot as plt\n",
    "import random\n",
    "import gzip\n",
    "import shutil"
   ]
  },
  {
   "cell_type": "markdown",
   "id": "c32b859c",
   "metadata": {},
   "source": [
    "## 1. Download Mnist Dataset and Unzip\n",
    "---"
   ]
  },
  {
   "cell_type": "markdown",
   "id": "6216ea03",
   "metadata": {},
   "source": [
    "**MNIST** (Modified National Institute of Standard and Technology) adalah kumpulan data besar yang terdiri dari gambar digit tulisan tangan. MNIST sendiri berisi 60.000 gambar untuk data training dan 10.000 gambar untuk data testing. Dalam dataset ini, digit telah dinormalisasi ukurannya dan dipusatkan dalam gambar berukuran 28x28 piksel."
   ]
  },
  {
   "cell_type": "code",
   "execution_count": 2,
   "id": "a1ece16c",
   "metadata": {},
   "outputs": [],
   "source": [
    "# https://github.com/cvdfoundation/mnist?tab=readme-ov-file\n",
    "DATA_DIR = \"/app/dataset/MNIST\"\n",
    "os.makedirs(DATA_DIR, exist_ok=True)"
   ]
  },
  {
   "cell_type": "code",
   "execution_count": 3,
   "id": "10cb955d",
   "metadata": {},
   "outputs": [],
   "source": [
    "\n",
    "def download_mnist():\n",
    "    MNIST_FILES = {\n",
    "    \"train_images\": \"https://storage.googleapis.com/cvdf-datasets/mnist/train-images-idx3-ubyte.gz\",\n",
    "    \"train_labels\": \"https://storage.googleapis.com/cvdf-datasets/mnist/train-labels-idx1-ubyte.gz\",\n",
    "    \"test_images\":  \"https://storage.googleapis.com/cvdf-datasets/mnist/t10k-images-idx3-ubyte.gz\",\n",
    "    \"test_labels\":  \"https://storage.googleapis.com/cvdf-datasets/mnist/t10k-labels-idx1-ubyte.gz\",\n",
    "    }\n",
    "    for name, url in MNIST_FILES.items():\n",
    "        out_path = os.path.join(DATA_DIR, url.split('/')[-1])\n",
    "        result_path = out_path[:-3] \n",
    "        if not os.path.exists(result_path):\n",
    "            if not os.path.exists(out_path):\n",
    "                print(f\"Downloading {name}...\")\n",
    "                r = requests.get(url)\n",
    "                with open(out_path, 'wb') as f:\n",
    "                    f.write(r.content)\n",
    "            else:\n",
    "                print(f\"{name} already downloaded.\")\n",
    "            print(f\"Unzipping {out_path}...\")\n",
    "            with gzip.open(out_path, 'rb') as f_in:\n",
    "                with open(result_path, 'wb') as f_out:\n",
    "                    shutil.copyfileobj(f_in, f_out)\n",
    "        \n",
    "        else:\n",
    "            print(f\"{name} already unzipped.\")"
   ]
  },
  {
   "cell_type": "code",
   "execution_count": 4,
   "id": "0ee1b841",
   "metadata": {},
   "outputs": [
    {
     "name": "stdout",
     "output_type": "stream",
     "text": [
      "train_images already unzipped.\n",
      "train_labels already unzipped.\n",
      "test_images already unzipped.\n",
      "test_labels already unzipped.\n"
     ]
    }
   ],
   "source": [
    "download_mnist()"
   ]
  },
  {
   "cell_type": "code",
   "execution_count": 5,
   "id": "47042820",
   "metadata": {},
   "outputs": [
    {
     "name": "stdout",
     "output_type": "stream",
     "text": [
      "/app/dataset/MNIST/train-images-idx3-ubyte\n",
      "/app/dataset/MNIST/t10k-images-idx3-ubyte\n"
     ]
    }
   ],
   "source": [
    "def loadMNIST( prefix, folder ):\n",
    "    intType = np.dtype( 'int32' ).newbyteorder( '>' )\n",
    "    nMetaDataBytes = 4 * intType.itemsize\n",
    "\n",
    "    data = np.fromfile( folder + \"/\" + prefix + '-images-idx3-ubyte', dtype = 'ubyte' )\n",
    "    print(folder + \"/\" + prefix + '-images-idx3-ubyte')\n",
    "    magicBytes, nImages, width, height = np.frombuffer( data[:nMetaDataBytes].tobytes(), intType )\n",
    "    data = data[nMetaDataBytes:].astype( dtype = 'float32' ).reshape( [ nImages, width, height ] )\n",
    "\n",
    "    labels = np.fromfile( folder + \"/\" + prefix + '-labels-idx1-ubyte',\n",
    "                          dtype = 'ubyte' )[2 * intType.itemsize:]\n",
    "\n",
    "    return data, labels\n",
    "\n",
    "trainingImages, trainingLabels = loadMNIST( \"train\", \"/app/dataset/MNIST\" )\n",
    "testImages, testLabels = loadMNIST( \"t10k\", \"/app/dataset/MNIST\" )"
   ]
  },
  {
   "cell_type": "markdown",
   "id": "f933b9ea",
   "metadata": {},
   "source": [
    "## 2. Preprocess the Data\n",
    "---\n"
   ]
  },
  {
   "cell_type": "markdown",
   "id": "bd2037b6",
   "metadata": {},
   "source": [
    "Untuk menyiapkan data MNIST agar dapat digunakan dalam training *Neural Network*, dua langkah praproses dilakukan:\n",
    "\n",
    "- **Normalisasi Nilai Piksel**: Nilai piksel dalam gambar biasanya berkisar antara 0 hingga 255. Nilai-nilai ini dinormalisasi ke rentang 0 hingga 1 dengan membagi setiap piksel dengan 255. Proses ini membantu network belajar dengan lebih efektif.\n",
    "\n",
    "- **One-hot Encoding Label**: Label dikonversi ke vektor one-hot encoding untuk merepresentasikan kelas kategori dalam format yang dapat dipahami oleh neural network. Dalam vektor one-hot, setiap kategori direpresentasikan oleh sebuah vektor (array) dengan $N$ elemen, di mana $N$ adalah jumlah kategori.\n",
    "![Representasi vektor one-hot](https://developers.google.com/static/machine-learning/crash-course/images/vocabulary-index-sparse-feature.svg)"
   ]
  },
  {
   "cell_type": "code",
   "execution_count": 6,
   "id": "8f6c6dcd",
   "metadata": {},
   "outputs": [],
   "source": [
    "def toHotEncoding( classification ):\n",
    "    # emulasi fungsi tensorflow tf.keras.utils.to_categorical( y )\n",
    "    classification = classification.astype(int)  \n",
    "    num_samples = classification.shape[0]\n",
    "    num_classes = np.max(classification) + 1\n",
    "    hotEncoding = np.zeros((num_samples, num_classes), dtype=np.float32)\n",
    "    hotEncoding[np.arange(num_samples), classification] = 1\n",
    "    return hotEncoding"
   ]
  },
  {
   "cell_type": "code",
   "execution_count": 7,
   "id": "222c9c80",
   "metadata": {},
   "outputs": [],
   "source": [
    "X_train = trainingImages / 255.0\n",
    "X_train = X_train.reshape(X_train.shape[0], -1)\n",
    "\n",
    "X_test = testImages / 255.0\n",
    "X_test = X_test.reshape(X_test.shape[0], -1)\n",
    "\n",
    "y_train = toHotEncoding( trainingLabels )\n",
    "y_test = toHotEncoding( testLabels )"
   ]
  },
  {
   "cell_type": "markdown",
   "id": "67f5ab0d",
   "metadata": {},
   "source": [
    "### 2.1 Show Sample image from the dataset\n",
    "Untuk memahami lebih baik struktur dan tampilan satu gambar dari MNIST, data tersebut bisa divisualisasikan menggunakan matplotlib. "
   ]
  },
  {
   "cell_type": "code",
   "execution_count": 8,
   "id": "c5b6f8b6",
   "metadata": {},
   "outputs": [
    {
     "data": {
      "image/png": "[encoded data removed]",
      "text/plain": [
       "<Figure size 640x480 with 1 Axes>"
      ]
     },
     "metadata": {},
     "output_type": "display_data"
    }
   ],
   "source": [
    "i = 0\n",
    "\n",
    "image = trainingImages[i]  \n",
    "label = trainingLabels[i]\n",
    "\n",
    "plt.imshow(image, cmap='gray')\n",
    "plt.title(f\"Label: {label}\")\n",
    "plt.axis('off')\n",
    "plt.show()"
   ]
  },
  {
   "cell_type": "markdown",
   "id": "d0fb13e9",
   "metadata": {},
   "source": [
    "## 3. Split Dataset to Training and Testing\n",
    "---"
   ]
  },
  {
   "cell_type": "markdown",
   "id": "92e31fe9",
   "metadata": {},
   "source": [
    "Setelah proses preprocess selesai, dataset kemudian **diacak** agar data training dan testing memiliki sebaran yang representatif terhadap keseluruhan data. Setelah diacak, data **dibagi** menjadi 80% untuk training dan 20% untuk testing, agar performa model dapat dievaluasi menggunakan data yang belum pernah dilihat sebelumnya."
   ]
  },
  {
   "cell_type": "code",
   "execution_count": 9,
   "id": "7e19efec",
   "metadata": {},
   "outputs": [
    {
     "name": "stdout",
     "output_type": "stream",
     "text": [
      "(48000, 784):(48000, 10)\n",
      "(12000, 784):(12000, 10)\n"
     ]
    }
   ],
   "source": [
    "# Acak training set\n",
    "indices = np.random.permutation(X_train.shape[0])\n",
    "X_train = X_train[indices]\n",
    "y_train = y_train[indices]\n",
    "\n",
    "# Bagi training dan testing data ke rasio 80:20\n",
    "split_index = int(X_train.shape[0] * 0.8)\n",
    "X_test = X_train[split_index:]\n",
    "y_test = y_train[split_index:]\n",
    "X_train = X_train[:split_index]\n",
    "y_train = y_train[:split_index]\n",
    "\n",
    "# Uncomment jika memakai library\n",
    "# from sklearn.model_selection import train_test_split    \n",
    "# X_train, X_test, y_train, y_test = train_test_split(\n",
    "#     X_train, y_train, test_size=0.2, random_state=42, shuffle=True\n",
    "# )\n",
    "\n",
    "# print out the shape of each\n",
    "# Gambar training: 60000 gambar with 784 kolom(tiap gambar 28x28, jika satu dimensi 784)\n",
    "# Label training: has 60000 label dengan 10 kolom\n",
    "\n",
    "print(f\"{X_train.shape}:{y_train.shape}\")\n",
    "print(f\"{X_test.shape}:{y_test.shape}\")"
   ]
  },
  {
   "cell_type": "markdown",
   "id": "060bde05",
   "metadata": {},
   "source": [
    "## 4. Define Activation Functions\n",
    "---"
   ]
  },
  {
   "cell_type": "markdown",
   "id": "7336b164",
   "metadata": {},
   "source": [
    "Dalam proses training, sebuah **fungsi aktivasi** digunakan untuk mengenali pola-pola kompleks dan tidak linier antara input dan target. Fungsi ini mengubah output mentah (logits) menjadi bentuk yang lebih berguna dengan menerapkan operasi matematika tertentu. Ada berbagai jenis fungsi aktivasi, masing-masing memiliki kelebihan dan kegunaan yang berbeda.\n",
    "\n",
    "<br>\n",
    "\n",
    "**SoftMax**\n",
    "\n",
    "\\begin{align*}\n",
    "\\sigma(z_i) = \\frac{e^{z_i}}{\\sum_{j=1}^{K} e^{z_j}} \\quad \\text{untuk } i = 1, 2, \\dots, K\n",
    "\\end{align*}\n",
    "\n",
    "Softmax adalah fungsi yang menghasilkan probabilitas untuk setiap kelas yang mungkin ($K$) dalam kasus klasifikasi multi-kelas. Jumlah total probabilitas akan selalu sama dengan 1.0.\n",
    "\n",
    "\n",
    "**ReLU**\n",
    "\n",
    "\\begin{align*}\n",
    "\\text{ReLU}(x) =\n",
    "\\begin{cases}\n",
    "x & \\text{jika } x > 0 \\\\\n",
    "0 & \\text{jika } x \\leq 0\n",
    "\\end{cases}\n",
    "\\end{align*}\n",
    "\n",
    "ReLU (Rectified Linear Unit) adalah fungsi yang hanya menghasilkan output jika input bernilai positif. Meskipun sederhana, ini adalah salah satu fungsi aktivasi yang paling populer digunakan.\n",
    "\n",
    "\n",
    "**Sigmoid**\n",
    "\n",
    "\\begin{align*}\n",
    "sigmoid(x) = \\frac{1}{1 + e^{-\\text{x}}}\n",
    "\\end{align*}\n",
    "\n",
    "Sigmoid adalah fungsi yang memetakan nilai input apa pun ke dalam rentang antara 0 dan 1. Namun, fungsi ini memiliki kekurangan berupa masalah vanishing gradient — ketika input sangat besar atau kecil, gradien menjadi sangat kecil, yang bisa memperlambat atau menghentikan proses belajar.\n",
    "\n",
    "\n",
    "**Leaky ReLU**\n",
    "\n",
    "\\begin{align*}\n",
    "\\text{LeakyReLU}(x) =\n",
    "\\begin{cases}\n",
    "x & \\text{jika } x \\geq 0 \\\\\n",
    "\\alpha x & \\text{jika } x < 0\n",
    "\\end{cases}\n",
    "\\quad \\text{dengan } \\alpha \\in (0, 1)\n",
    "\\end{align*}\n",
    "\n",
    "Leaky ReLU adalah variasi dari ReLU yang memberikan kemiringan kecil untuk nilai negatif, bukan nol. Fungsi ini sering digunakan saat melatih model generatif seperti GAN.\n",
    "\n",
    "\n",
    "**TanH**\n",
    "\n",
    "\\begin{align*}\n",
    "\\tanh(x) = \\frac{e^x - e^{-x}}{e^x + e^{-x}} = \\frac{2}{1 + e^{-2x}} - 1\n",
    "\\end{align*}\n",
    "\n",
    "TanH adalah fungsi yang menghasilkan output dalam rentang -1 hingga 1, sehingga lebih baik dalam menangani input negatif dibandingkan fungsi seperti Sigmoid yang hanya menghasilkan nilai antara 0 dan 1.\n",
    "\n",
    "\n",
    "**Masih banyak lagi...**\n",
    "\n",
    "Karena fungsi aktivasi mengubah hasil mentah menjadi representasi yang lebih bermakna lewat operasi matematika, ada banyak kemungkinan untuk membuat variasi fungsi baru sesuai kebutuhan.\n",
    "\n",
    "<br>"
   ]
  },
  {
   "cell_type": "code",
   "execution_count": 10,
   "id": "eaa3d092",
   "metadata": {},
   "outputs": [],
   "source": [
    "def softmax(x):\n",
    "    exps = np.exp(x - np.max(x, axis=-1, keepdims=True))\n",
    "    return exps / np.sum(exps, axis=-1, keepdims=True)\n",
    "\n",
    "def relu(x):\n",
    "    return np.maximum(0, x)\n",
    "\n",
    "def relu_derivative(x):\n",
    "    return np.where(x > 0, 1, 0).astype(np.float64)\n",
    "\n",
    "def sigmoid(x):\n",
    "    return np.where(\n",
    "        x >= 0,\n",
    "        1 / (1 + np.exp(-x)),\n",
    "        np.exp(x) / (1 + np.exp(x))\n",
    "    )\n",
    "\n",
    "def sigmoid_derivative(x):\n",
    "    sig = sigmoid(x)\n",
    "    return sig * (1 - sig)\n",
    "\n",
    "def leaky_relu(x, alpha=0.01):\n",
    "    return np.where(x > 0, x, alpha * x)\n",
    "\n",
    "def leaky_relu_derivative(x, alpha=0.01):\n",
    "    dx = np.ones_like(x)\n",
    "    dx[x < 0] = alpha\n",
    "    return dx\n",
    "\n",
    "def tanh(x):\n",
    "    return np.tanh(x)\n",
    "\n",
    "def tanh_derivative(x):\n",
    "    return 1 - np.tanh(x) ** 2\n",
    "\n",
    "# setiap aktivasi berada didalam sebuah map, \n",
    "# berguna untuk langsung mengambil derivatifnya di backpropagation\n",
    "activation_map = {\n",
    "    'sigmoid': (sigmoid, sigmoid_derivative),\n",
    "    'relu': (relu, relu_derivative),\n",
    "    'tanh': (tanh, tanh_derivative),\n",
    "    None: (lambda x: x, lambda x: np.ones_like(x))  # No activation\n",
    "}"
   ]
  },
  {
   "cell_type": "markdown",
   "id": "03eb5e8e",
   "metadata": {},
   "source": [
    "## 5. Define Loss Function and Metrics\n",
    "---"
   ]
  },
  {
   "cell_type": "markdown",
   "id": "0854965b",
   "metadata": {},
   "source": [
    "Dalam *Deep Learning*, **fungsi loss** adalah ukuran seberapa jauh prediksi dari model dibandingkan dengan label sebenarnya. Tujuan dari training adalah untuk meminimalkan nilai loss ini, yang berarti prediksi model semakin mendekati nilai yang sebenarnya. Beberapa fungsi loss yang umum digunakan:\n",
    "\n",
    "- **Mean Squared Error (MSE)**: digunakan untuk tugas regresi.\n",
    "- **Cross-Entropy Loss**: digunakan untuk tugas klasifikasi, dan sering dipasangkan dengan fungsi aktivasi **Softmax** dalam kasus klasifikasi multi-kelas.\n",
    "\n",
    "Sementara itu, **metrik** digunakan untuk mengevaluasi performa model, namun tidak digunakan secara langsung dalam proses optimisasi model seperti fungsi loss. Beberapa metrik umum antara lain:\n",
    "\n",
    "- **Akurasi**: Persentase prediksi model yang benar.\n",
    "- **Presisi, Recall, dan F1-Score**: Cocok digunakan untuk dataset yang tidak seimbang, terutama dalam klasifikasi biner.\n",
    "- **AUC-ROC**: Mengukur area di bawah kurva ROC, sering digunakan untuk menilai performa klasifikasi biner.\n"
   ]
  },
  {
   "cell_type": "code",
   "execution_count": 11,
   "id": "84ca664d",
   "metadata": {},
   "outputs": [],
   "source": [
    "\n",
    "def binary_cross_entropy(y_pred, y_true, epsilon=1e-12):\n",
    "    y_pred = np.clip(y_pred, epsilon, 1. - epsilon)\n",
    "    loss = - (y_true * np.log(y_pred) + (1 - y_true) * np.log(1 - y_pred))\n",
    "    return np.mean(loss)\n",
    "\n",
    "def categorical_cross_entropy(y_pred, y_true,  epsilon=1e-8):\n",
    "    y_pred = np.clip(y_pred, epsilon, 1 - epsilon)\n",
    "    loss = -np.sum(y_true * np.log(y_pred)) / y_true.shape[0]\n",
    "    return loss\n",
    "\n",
    "def accuracy(y_pred, y_true):\n",
    "    # Ambil indeks kelas\n",
    "    pred_labels = np.argmax(y_pred, axis=1)\n",
    "    \n",
    "    # Ubah one-hot menjadi indeks kelas jika diperlukan\n",
    "    if y_true.ndim == 2:\n",
    "        true_labels = np.argmax(y_true, axis=1)\n",
    "    else:\n",
    "        true_labels = y_true\n",
    "\n",
    "    correct = np.sum(pred_labels == true_labels)\n",
    "    total = y_true.shape[0]\n",
    "    return correct / total"
   ]
  },
  {
   "cell_type": "markdown",
   "id": "af3396a9",
   "metadata": {},
   "source": [
    "## 6. Define Layer Class\n",
    "---"
   ]
  },
  {
   "cell_type": "markdown",
   "id": "7c33b1a8",
   "metadata": {},
   "source": [
    "<!-- ![neural network](img/neuralnetwork.png) -->\n",
    "<p align=\"center\">\n",
    "  <img src=\"../img/neuralnetwork.png\"/>\n",
    "</p>\n"
   ]
  },
  {
   "cell_type": "markdown",
   "id": "fcd738a8",
   "metadata": {},
   "source": [
    "Sebuah model dapat dianggap sebagai sistem yang terdiri dari beberapa **layer**, di mana setiap layer mengubah representasi data. Umumnya terdiri dari input layer, satu atau lebih hidden layer, dan output layer. Setiap layer melakukan transformasi linier, lalu menerapkan fungsi aktivasi untuk menangkap hubungan yang tidak linier.\n",
    "\n",
    "- **layer Input**: Menerima data mentah dan meneruskannya ke layer berikutnya.\n",
    "\n",
    "- **layer Tersembunyi (Hidden Layer)**: Memproses data melalui serangkaian transformasi, mempelajari pola dan fitur kompleks dari input. Setiap neuron di layer ini memberikan weight/weight (seberapa penting sinyal tersebut) pada sinyal masuk, lalu menerapkan fungsi aktivasi untuk menghasilkan output yang akan diteruskan ke layer selanjutnya.\n",
    "\n",
    "- **layer Output**: Menghasilkan prediksi akhir, bisa berupa probabilitas kelas, nilai regresi, atau bentuk output lain tergantung pada jenis tugas.\n",
    "\n",
    "Selama proses training, model akan menghasilkan prediksi awal melalui **Forward Pass**, kemudian weight pada setiap layer disesuaikan menggunakan **Backward Pass (Backpropagation)**. Proses ini mengoptimalkan performa model dengan mengurangi kesalahan dari prediksi.\n"
   ]
  },
  {
   "cell_type": "markdown",
   "id": "6174aae6",
   "metadata": {},
   "source": [
    "### 6.1 Forward Pass"
   ]
  },
  {
   "cell_type": "markdown",
   "id": "ecb34237",
   "metadata": {},
   "source": [
    "\\begin{align*}\n",
    "z &= XW + b \\\\\n",
    "y &= f(z)\n",
    "\\end{align*}\n",
    "\n",
    "Where:\n",
    "\n",
    "- $X$: Input data or activations dari layer seblumnya  \n",
    "- $W$: Weight  \n",
    "- $b$: Bias  \n",
    "- $z$: Kombinasi linear inputs dan weight  \n",
    "- $f(z)$: Fungsi aktivasi yang diterapkan pada $z$, menghasilkan output $y$"
   ]
  },
  {
   "cell_type": "markdown",
   "id": "499874ce",
   "metadata": {},
   "source": [
    "Forward pass adalah proses di mana **data input dilewatkan melalui seluruh layer hingga menghasilkan output**. Proses ini bisa dilakukan dengan menghitung satu per satu output dari neuron, tetapi lebih efisien jika diperlakukan sebagai operasi perkalian matriks.\n"
   ]
  },
  {
   "cell_type": "markdown",
   "id": "d0a6c074",
   "metadata": {},
   "source": [
    "##### 6.1.1 Matrix Representation of a Forward Pass\n",
    "Jika input terdiri dari $n$ fitur, input tersebut bisa disusun dalam bentuk baris datar. Saat ada $k$ data input, semuanya dapat ditumpuk secara vertikal menjadi sebuah matriks berukuran $(k, n)$ — $k$ baris dan $n$ kolom. Matriks ini dapat langsung dikalikan dengan **matriks weight** berukuran $(m, n)$, di mana $m$ adalah jumlah neuron di layer berikutnya. Tiap kolom mewakili weight untuk satu neuron, dan disusun secara horizontal.\n",
    "\n",
    "Hasil perkalian tersebut adalah matriks berisi kombinasi linier dari input dan weight. Kemudian, **bias** ditambahkan pada setiap baris dari hasil tersebut. Hasil akhirnya adalah matriks keluaran mentah (sering disebut *logits*) $z$.\n",
    "\n",
    "Setiap elemen dari matriks logits kemudian dilewatkan melalui fungsi aktivasi untuk menghasilkan output akhir $y$."
   ]
  },
  {
   "cell_type": "markdown",
   "id": "b32a1095",
   "metadata": {},
   "source": [
    "### 6.2 Backward pass\n",
    "Backward Pass, atau yang sering disebut Backpropagation, adalah proses menghitung turunan dari loss terhadap setiap weight (weight) di dalam jaringan menggunakan **aturan rantai(()) (chain rule). Hasil turunan ini kemudian digunakan oleh **Gradient Descent** (atau variasinya) untuk memperbarui weight dan meminimalkan nilai loss. Persamaan umum untuk pembaruan weight menggunakan Gradient Descent adalah sebagai berikut:"
   ]
  },
  {
   "cell_type": "markdown",
   "id": "f6f02e84",
   "metadata": {},
   "source": [
    "\\begin{align*}\n",
    "W_u &= W_0 - \\alpha \\frac{dE}{dW}\n",
    "\\end{align*}\n",
    "\n",
    "Where:\n",
    "\n",
    "- $W_u$ : Weight setelah backpropagation\n",
    "- $W_0$ : Weight original sebelum update  \n",
    "- $\\alpha$ : Learning rate, nilai skalar yang mengontrol berapa banyak weight diubah\n",
    "- $\\frac{dE}{dW}$ : Turunan dari fungsi loss terhadap weight"
   ]
  },
  {
   "cell_type": "markdown",
   "id": "9ab4d3fa",
   "metadata": {},
   "source": [
    "#### 6.2.1 Gradient Descent\n",
    "\n",
    "Terdapat beberapa jenis **Gradient Descent**, masing-masing dengan pendekatan berbeda dalam memperbarui weight:\n",
    "\n",
    "- **Stochastic Gradient Descent (SGD)**  \n",
    "  Merupakan variasi dari Gradient Descent yang memperbarui weight **setelah setiap contoh training**. Pendekatan ini memperkenalkan *noise* dalam proses pembaruan, tetapi dapat membantu keluar dari *local minima*. Biasanya digunakan dalam penjelasan pembelajaran daring (*online learning*).\n",
    "\n",
    "- **Batch Gradient Descent**  \n",
    "  Variasi gradient descent yang menghitung error (*loss*) untuk **seluruh data training**, kemudian melakukan **satu kali pembaruan** setelah seluruh dataset dievaluasi. Operasi matriks digunakan untuk efisiensi komputasi.  \n",
    "  > Inilah alasan mengapa kita membagi dengan ukuran batch — untuk menormalkan gradien dan mendekati kontribusi rata-rata dari error.\n",
    "\n",
    "- **Mini-Batch Gradient Descent**  \n",
    "  Mini-batch membagi dataset menjadi batch kecil. Untuk setiap batch, model menghitung loss dan memperbarui weight. Ini merupakan implementasi Gradient Descent yang paling umum dalam *deep learning*.  \n",
    "  > Implementasi bisa berbeda — beberapa menjumlahkan gradien dalam batch, sementara yang lain menghitung rata-ratanya.  \n",
    "  Metode ini menggabungkan keunggulan dari SGD dan Batch Gradient Descent.\n"
   ]
  },
  {
   "cell_type": "markdown",
   "id": "1b452c12",
   "metadata": {},
   "source": [
    "#### 6.2.2 Backward Pass Breakdown\n",
    "Pada awal training, weight $W$ diinisialisasi secara acak, dan nilai **learning rate** $\\alpha$ ditentukan oleh pengguna. Yang perlu dihitung selanjutnya adalah **gradien loss terhadap weight** $\\frac{dE}{dW}$, yaitu turunan dari error terhadap weight, yang sangat penting dalam proses penyesuaian weight saat backward pass berlangsung.\n"
   ]
  },
  {
   "cell_type": "markdown",
   "id": "df30478e",
   "metadata": {},
   "source": [
    "<p align=\"center\">\n",
    "  <img src=\"../img/backpropagation.png\"/>\n",
    "</p>"
   ]
  },
  {
   "cell_type": "markdown",
   "id": "4d5013a4",
   "metadata": {},
   "source": [
    "Seperti terlihat pada ilustrasi, untuk menghitung $ \\frac{dE}{dW} $ (gradien update) dan membantu dalam pembaruan weight antar layer, ada beberapa komponen yang disimpan di tiap layer:\n",
    "\n",
    "- $ \\frac{dE}{dz} $: Gradien error terhadap output pre-aktivasi dari layer saat ini. Ini berguna untuk meneruskan error ke layer sebelumnya.\n",
    "\n",
    "- $ \\frac{dE}{dy} $: Gradien error yang diteruskan dari layer berikutnya. Gradien ini diteruskan ke layer sbelumnya dan menjadi titik awal untuk proses backpropagation.\n",
    "\n",
    "- $ z_0 $: Nilai keluaran sebelum aktivasi $ z_0 = XW + b $, yang digunakan untuk menghitung turunan dari fungsi aktivasi.\n",
    "\n",
    "- $ y_0 $: Nilai keluaran setelah fungsi aktivasi diterapkan, yaitu $ \\phi(z_0) $. Nilai ini digunakan di proses forward maupun backward.\n",
    "\n",
    "- $ X $: Input ke layer, diperlukan untuk menghitung gradien terhadap weight $ \\frac{dE}{dW} $.\n"
   ]
  },
  {
   "cell_type": "markdown",
   "id": "9c66d113",
   "metadata": {},
   "source": [
    "Untuk mengimplementasikan proses ini dalam kode, biasanya dibuat sebuah kelas Layer yang merepresentasikan layer dengan $m$ fitur input dan $n$ neuron output. Setelah dibuat, tiap objek layer akan menyimpan berbagai variabel seperti matriks weight $W$, vektor bias $b$, serta nilai-nilai seperti $X$, $z_0$, dan $y_0$ dari proses forward pass. Nilai-nilai ini kemudian digunakan ulang saat backpropagation untuk menghitung gradien dan memperbarui weight dengan efisien."
   ]
  },
  {
   "cell_type": "code",
   "execution_count": null,
   "id": "94621efe",
   "metadata": {},
   "outputs": [],
   "source": [
    "\n",
    "class Layer():\n",
    "\n",
    "    def __init__(self, inFeature, outFeature, activationFunction=None) -> None:\n",
    "        # Inisialisasi weight dengan shape(input connection, neuron count)\n",
    "        self.W = (np.random.randn(inFeature, outFeature) * np.sqrt(2 / (inFeature + outFeature))).astype(np.float64)\n",
    "        # intialize bias dengan shape(1, neuron count)\n",
    "        self.b = np.zeros((1, outFeature), dtype=np.float64)\n",
    "        # Set layer menjadi trainable(gradien dapat berubah)\n",
    "        self.trainable = True\n",
    "        # Ambil aktivasi dari map(key:value pair)\n",
    "        self.activation, self.activation_deriv = activation_map.get(activationFunction, (None, None))\n",
    "        self.y = self.z = self.X = None\n",
    "\n",
    "    #Fungsi Feed Forward\n",
    "    def Forward(self, X, isInference):\n",
    "        if isInference==True:\n",
    "            return self.activation(X @ self.W + self.b)\n",
    "        self.X = X\n",
    "        # Kalkulasi output\n",
    "        # z = W * X + b, with\n",
    "        self.z = X @ self.W + self.b\n",
    "        # Pasang Activation Fucntion\n",
    "        # y = activation(z)\n",
    "        self.y = self.activation(self.z)\n",
    "        return self.y\n",
    "\n",
    "\n",
    "    # Fungsi Back Propagation\n",
    "    def BackwardHidden(self, dEdy, lr=0.01):\n",
    "        # Menggunakan turunan dari fungsi aktivasi\n",
    "        # cari perubahan output terhadap output pre-aktivasi\n",
    "        dydz = self.activation_deriv(self.z)\n",
    "\n",
    "        # Gunakan aturan rantai (chain rule) untuk mendapatkan dEdz\n",
    "        dEdz = dEdy * dydz\n",
    "\n",
    "        # Gunakan aturan rantai untuk mendapatkan dEdW\n",
    "        # dEdW = dzdW * dEdx\n",
    "        # di mana dzdW didefinisikan sebagai output dari layer sebelumnya / input layer ini, yaitu X \n",
    "        dEdW = self.X.T @ dEdz\n",
    "\n",
    "        # dEdb = jumlah total perubahan error terhadap input\n",
    "        dEdb = np.sum(dEdz, axis=0, keepdims=True)\n",
    "\n",
    "        # Update parameter layer jika bisa dilatih\n",
    "        # Weight baru = weight awal - learning rate * perubahan error terhadap weight\n",
    "        # Bias baru = bias awal - learning rate * perubahan error terhadap bias\n",
    "        if self.trainable:\n",
    "            self.W -= lr * dEdW\n",
    "            self.b -= lr * dEdb\n",
    "\n",
    "        # Propagasi gradien ke layer sebelumnya\n",
    "        # Hitung perubahan error terhadap output sebelumnya\n",
    "        # dEdy = dEdz * dzdy\n",
    "        # di mana dydz adalah perubahan input terhadap output sebelum aktivasi,\n",
    "        # yaitu seberapa besar kontribusinya terhadap output akhir. Dalam hal ini adalah W\n",
    "        return dEdz @ self.W.T\n"
   ]
  },
  {
   "cell_type": "markdown",
   "id": "be2ac7ec",
   "metadata": {},
   "source": [
    "## 7. Define Model Class\n",
    "---"
   ]
  },
  {
   "cell_type": "markdown",
   "id": "74be54a0",
   "metadata": {},
   "source": [
    "Untuk membantu proses forward pass, backward pass, dan training, digunakan sebuah **kelas model** yang menerima daftar layer saat dibuat. Di dalam kelas model ini, terdapat tiga metode utama:\n",
    "\n",
    "- **ForwardProp**: Menjalankan forward pass melalui tiap layer, menghitung output berdasarkan weight dan aktivasi saat ini.\n",
    "\n",
    "- **BackwardProp**: Menjalankan backward pass untuk menghitung gradien dan memperbarui weight menggunakan metode backpropagation.\n",
    "\n",
    "- **Train**: Mengatur seluruh proses training, termasuk menjalankan forward dan backward pass dalam beberapa *epoch*, sambil menerapkan metode *gradient descent* untuk mengoptimalkan weight.\n",
    "\n",
    "- **Train Batched**: Mengatur proses pelatihan dengan menerapkan mini-batch gradient descent\n"
   ]
  },
  {
   "cell_type": "code",
   "execution_count": 13,
   "id": "94e8ccdc",
   "metadata": {},
   "outputs": [],
   "source": [
    "\n",
    "class Model():\n",
    "    \n",
    "    # Buat model dengan layer\n",
    "    def __init__(self, layers) -> None:\n",
    "        self.layers = layers\n",
    "    \n",
    "    # Forward Propagation\n",
    "    def ForwardProp(self, X, isinference=False):\n",
    "        for layer in self.layers:\n",
    "            X = layer.Forward(X, isinference)\n",
    "        return X\n",
    "    \n",
    "    # Backward Propagation\n",
    "    # Mulai dari layer terakhir\n",
    "    def BackwardProp(self, dEdy, learningRate=0.01):\n",
    "        for layer in reversed(self.layers):\n",
    "            dEdy = layer.BackwardHidden(dEdy, lr=learningRate)\n",
    "\n",
    "    # Fungsi train untuk training\n",
    "    def train(self, epochs, X_train, y_train, loss_fn, metrics_fn, learningRate=0.01, X_test=None, y_test=None):\n",
    "        train_loss=[]\n",
    "        train_metrics=[]\n",
    "        test_loss=[]\n",
    "        test_metrics=[]\n",
    "        for epoch in range(epochs):\n",
    "            # 1. Ambil raw output dengan Forward Propagation\n",
    "            logits = self.ForwardProp(X_train)\n",
    "            # 2. Gunakan softmax untuk mendapatkan probabilitas\n",
    "            # Softmax tidak di output layer karena dapat disimlifikasi dengan CCE \n",
    "            probs = softmax(logits)\n",
    "            # 3. Hitung loss and metrics\n",
    "            loss = loss_fn(probs, y_train)\n",
    "            metrics = metrics_fn(probs, y_train)\n",
    "            train_loss.append(loss)\n",
    "            train_metrics.append(metrics)\n",
    "            # 4. Hitung perubahan error terhadap output dari layer terakhir\n",
    "            # Turunan dari fungsi loss disederhanakan menjadi ypred - ytrue\n",
    "            # dan hasilnya kemudian dibagi dengan ukuran batch-nya\n",
    "\n",
    "            dEdy = (probs - y_train) / y_train.shape[0]\n",
    "            # 5. Hitung gradien dan update parameter model dengan Backward Propagation\n",
    "            # Lakukan prosedur yang sama dengan data testing dan tampilkan log hasilnya\n",
    "            if X_test.shape and y_test.shape is not None:\n",
    "                test_logits = self.ForwardProp(X_test, True)\n",
    "                test_probs = softmax(test_logits)\n",
    "                test_loss_value = loss_fn(test_probs, y_test)\n",
    "                test_metrics_value = metrics_fn(test_probs, y_test)\n",
    "                test_loss.append(test_loss_value)\n",
    "                test_metrics.append(test_metrics_value)\n",
    "                print(f\"Epoch: {epoch}, Loss: {loss:.4f}, Acc: {metrics:.4f}, Test Loss: {test_loss_value:.4f}, Test Acc: {test_metrics_value:.4f},\")\n",
    "            else:\n",
    "                print(f\"Epoch: {epoch}, Loss: {loss:.4f}, Acc: {metrics:.4f}\")\n",
    "            self.BackwardProp(dEdy, learningRate)\n",
    "\n",
    "                \n",
    "                \n",
    "        return {\"train_loss\": train_loss,\n",
    "             \"train_metrics\": train_metrics,\n",
    "             \"test_loss\": test_loss,\n",
    "             \"test_metrics\": test_metrics}\n",
    "\n",
    "    \n",
    "    def train_minibatch(self, epochs, X_train, y_train, loss_fn, metrics_fn, learningRate=0.01, batch_size=32, X_test=None, y_test=None):\n",
    "        train_loss = []\n",
    "        train_metrics = []\n",
    "        test_loss = []\n",
    "        test_metrics = []\n",
    "        # get sample size\n",
    "        num_samples = X_train.shape[0]\n",
    "        \n",
    "        for epoch in range(epochs):\n",
    "            # Shuffle the dataset at the start of each epoch\n",
    "            perm = np.random.permutation(num_samples)\n",
    "            X_train_shuffled = X_train[perm]\n",
    "            y_train_shuffled = y_train[perm]\n",
    "\n",
    "            epoch_loss = 0\n",
    "            epoch_metric = 0\n",
    "            num_batches = 0\n",
    "            # For each epoch, iterate from 0 until the sample size, step batch size\n",
    "            # this is the same as doing batchCount = num_samples / batch_size\n",
    "            for i in range(0, num_samples, batch_size):\n",
    "                X_batch = X_train_shuffled[i:i+batch_size]\n",
    "                y_batch = y_train_shuffled[i:i+batch_size]\n",
    "                # 1. Ambil raw output dengan Forward Propagation\n",
    "                \n",
    "                logits = self.ForwardProp(X_batch)\n",
    "         \n",
    "                 # 2. Gunakan softmax untuk mendapatkan probabilitas\n",
    "                # Softmax tidak di output layer karena dapat disimlifikasi dengan CCE \n",
    "                probs = softmax(logits)\n",
    "                # 3. Hitung loss and metrics\n",
    "                loss = loss_fn(probs, y_batch)\n",
    "                metrics = metrics_fn(probs, y_batch)\n",
    "                # 4. Hitung perubahan error terhadap output dari layer terakhir\n",
    "                # Turunan dari fungsi loss disederhanakan menjadi ypred - ytrue\n",
    "                # dan hasilnya kemudian dibagi dengan ukuran batch-nya\n",
    "\n",
    "                dEdy = (probs - y_batch) / y_batch.shape[0]\n",
    "                self.BackwardProp(dEdy, learningRate)\n",
    "                # Add to epoch loss\n",
    "                epoch_loss += loss\n",
    "                epoch_metric += metrics\n",
    "                num_batches += 1\n",
    "\n",
    "            # Get the average loss and metrics since this is batched\n",
    "            avg_loss = epoch_loss / num_batches\n",
    "            avg_metrics = epoch_metric / num_batches\n",
    "            train_loss.append(avg_loss)\n",
    "\n",
    "            train_metrics.append(avg_metrics)\n",
    "            # 5. Hitung gradien dan update parameter model dengan Backward Propagation\n",
    "            # Lakukan prosedur yang sama dengan data testing dan tampilkan log hasilnya\n",
    "            if X_test is not None and y_test is not None:\n",
    "                test_logits = self.ForwardProp(X_test, True)\n",
    "                test_probs = softmax(test_logits)\n",
    "                test_loss_value = loss_fn(test_probs, y_test)\n",
    "                test_metrics_value = metrics_fn(test_probs, y_test)\n",
    "                test_loss.append(test_loss_value)\n",
    "                test_metrics.append(test_metrics_value)\n",
    "                print(f\"Epoch: {epoch}, Loss: {avg_loss:.4f}, Acc: {avg_metrics:.4f}, Test Loss: {test_loss_value:.4f}, Test Acc: {test_metrics_value:.4f}\")\n",
    "            else:\n",
    "                print(f\"Epoch: {epoch}, Loss: {avg_loss:.4f}, Acc: {avg_metrics:.4f}\")\n",
    "\n",
    "        return {\n",
    "            \"train_loss\": train_loss,\n",
    "            \"train_metrics\": train_metrics,\n",
    "            \"test_loss\": test_loss,\n",
    "            \"test_metrics\": test_metrics\n",
    "        }\n"
   ]
  },
  {
   "cell_type": "markdown",
   "id": "c48b34b1",
   "metadata": {},
   "source": [
    "## 8. Build Model Object\n",
    "---"
   ]
  },
  {
   "cell_type": "markdown",
   "id": "7742799a",
   "metadata": {},
   "source": [
    "Dengan menggunakan kelas **Layer** dan **Model** secara bersamaan, List layer dengan parameternya dapat didefiniskan dan kemudian diberikan ke objek Model yang dibuat. Dalam kasus MNIST, digunakan 2 layer dengan jumlah fitur input sebanyak 784 (karena gambar 28x28 piksel)."
   ]
  },
  {
   "cell_type": "code",
   "execution_count": 14,
   "id": "0e12eb66",
   "metadata": {},
   "outputs": [],
   "source": [
    "layerSequence = [\n",
    "    Layer(inFeature=784, outFeature=32,activationFunction=\"relu\"),\n",
    "    # Layer terakhir tanpa aktivasi\n",
    "    Layer(inFeature=32, outFeature=10,activationFunction=None)  \n",
    "]\n",
    "model=Model(layerSequence)"
   ]
  },
  {
   "cell_type": "markdown",
   "id": "a4386087",
   "metadata": {},
   "source": [
    "### 8.1 Test Initial Prediction"
   ]
  },
  {
   "cell_type": "markdown",
   "id": "373e8091",
   "metadata": {},
   "source": [
    "Sebelum melatih model, ada baiknya untuk menguji performa awalnya terlebih dahulu. Pilih satu gambar secara acak dari dataset testing dan jalankan melalui model yang belum dilatih untuk melihat hasil prediksinya. Langkah ini berguna untuk memastikan bahwa model berjalan dengan benar serta memberikan prediksi awal yang bisa dijadikan perbandingan setelah training dilakukan."
   ]
  },
  {
   "cell_type": "code",
   "execution_count": 15,
   "id": "57499f72",
   "metadata": {},
   "outputs": [
    {
     "name": "stdout",
     "output_type": "stream",
     "text": [
      "True label: 9, Predicted label: 5\n"
     ]
    },
    {
     "data": {
      "image/png": "[encoded data removed]",
      "text/plain": [
       "<Figure size 640x480 with 1 Axes>"
      ]
     },
     "metadata": {},
     "output_type": "display_data"
    }
   ],
   "source": [
    "# Ambil random image\n",
    "i = random.randint(0,400)\n",
    "image_raw=testImages[i]\n",
    "image = testImages[i].reshape(1, -1) / 255.0  \n",
    "label = testLabels[i]\n",
    "y_logits = model.ForwardProp(image)\n",
    "# softmax\n",
    "y_pred = softmax(y_logits)\n",
    "\n",
    "\n",
    "# Ambil maksimum arraynya\n",
    "predicted_class = np.argmax(y_pred)\n",
    "\n",
    "# Tampilkan dengan matplotlib\n",
    "print(f\"True label: {label}, Predicted label: {predicted_class}\")\n",
    "plt.imshow(image_raw, cmap='gray')\n",
    "plt.title(f\"True Label: {label} \\n Pred Label: {predicted_class}\")\n",
    "plt.axis('off')\n",
    "plt.show()"
   ]
  },
  {
   "cell_type": "markdown",
   "id": "6c7a8117",
   "metadata": {},
   "source": [
    "## 9. Train Model\n",
    "---"
   ]
  },
  {
   "cell_type": "markdown",
   "id": "dfbcabee",
   "metadata": {},
   "source": [
    "Dengan menggunakan metode **train** yang didefinisikan dalam kelas **Model**, lakukan training *mini-batch* dengan memasukkan dataset training dan testing. Metode ini akan menangani seluruh proses forward pass, perhitungan loss, backpropagation, dan pembaruan weight untuk seluruh *epoch*. Hasil metrik training disimpan dalam sebuah dictionary."
   ]
  },
  {
   "cell_type": "code",
   "execution_count": 16,
   "id": "f02a3aa2",
   "metadata": {},
   "outputs": [
    {
     "name": "stdout",
     "output_type": "stream",
     "text": [
      "Epoch: 0, Loss: 0.7786, Acc: 0.8043, Test Loss: 0.4295, Test Acc: 0.8796\n",
      "Epoch: 1, Loss: 0.3859, Acc: 0.8927, Test Loss: 0.3488, Test Acc: 0.8988\n",
      "Epoch: 2, Loss: 0.3337, Acc: 0.9060, Test Loss: 0.3145, Test Acc: 0.9097\n",
      "Epoch: 3, Loss: 0.3063, Acc: 0.9130, Test Loss: 0.2943, Test Acc: 0.9153\n",
      "Epoch: 4, Loss: 0.2863, Acc: 0.9187, Test Loss: 0.2801, Test Acc: 0.9207\n",
      "Epoch: 5, Loss: 0.2705, Acc: 0.9233, Test Loss: 0.2660, Test Acc: 0.9237\n",
      "Epoch: 6, Loss: 0.2571, Acc: 0.9269, Test Loss: 0.2554, Test Acc: 0.9272\n",
      "Epoch: 7, Loss: 0.2456, Acc: 0.9301, Test Loss: 0.2447, Test Acc: 0.9297\n",
      "Epoch: 8, Loss: 0.2356, Acc: 0.9325, Test Loss: 0.2376, Test Acc: 0.9324\n",
      "Epoch: 9, Loss: 0.2264, Acc: 0.9354, Test Loss: 0.2318, Test Acc: 0.9336\n",
      "Epoch: 10, Loss: 0.2190, Acc: 0.9378, Test Loss: 0.2275, Test Acc: 0.9341\n",
      "Epoch: 11, Loss: 0.2118, Acc: 0.9397, Test Loss: 0.2200, Test Acc: 0.9373\n",
      "Epoch: 12, Loss: 0.2050, Acc: 0.9415, Test Loss: 0.2132, Test Acc: 0.9379\n",
      "Epoch: 13, Loss: 0.1990, Acc: 0.9434, Test Loss: 0.2087, Test Acc: 0.9397\n",
      "Epoch: 14, Loss: 0.1930, Acc: 0.9449, Test Loss: 0.2062, Test Acc: 0.9401\n",
      "Epoch: 15, Loss: 0.1876, Acc: 0.9467, Test Loss: 0.2010, Test Acc: 0.9416\n",
      "Epoch: 16, Loss: 0.1826, Acc: 0.9484, Test Loss: 0.1950, Test Acc: 0.9427\n",
      "Epoch: 17, Loss: 0.1780, Acc: 0.9495, Test Loss: 0.1925, Test Acc: 0.9431\n",
      "Epoch: 18, Loss: 0.1736, Acc: 0.9509, Test Loss: 0.1898, Test Acc: 0.9442\n",
      "Epoch: 19, Loss: 0.1694, Acc: 0.9516, Test Loss: 0.1850, Test Acc: 0.9463\n"
     ]
    }
   ],
   "source": [
    "# Train model\n",
    "metrics=model.train_minibatch(epochs=20, X_train=X_train, y_train=y_train, X_test=X_test, y_test=y_test, loss_fn=categorical_cross_entropy, metrics_fn=accuracy, learningRate=0.01)\n",
    "losses=metrics[\"train_loss\"]"
   ]
  },
  {
   "cell_type": "markdown",
   "id": "6ad4b7a5",
   "metadata": {},
   "source": [
    "### 9.1 Plot Loss Curves\n",
    "\n",
    "Untuk mendapatkan informasi dan memvisualisasikan bagaimana model belajar, akan sangat membantu untuk memplot *training loss* dan akurasi seiring waktu. Ini bisa dilakukan dengan menggunakan library seperti matplotlib. Visualisasikan metrik ini berfungsi untuk menilai konvergensi, mendeteksi *overfitting*, dan mengevaluasi kinerja model sepanjang training."
   ]
  },
  {
   "cell_type": "code",
   "execution_count": 17,
   "id": "13ca6f4c",
   "metadata": {},
   "outputs": [
    {
     "data": {
      "image/png": "[encoded data removed]",
      "text/plain": [
       "<Figure size 1500x700 with 2 Axes>"
      ]
     },
     "metadata": {},
     "output_type": "display_data"
    }
   ],
   "source": [
    "def plot_loss_curves(results):\n",
    "    \"\"\"Plots training curves of a results dictionary.\n",
    "\n",
    "    Args:\n",
    "        results (dict): dictionary containing list of values, e.g.\n",
    "            {\"train_loss\": [...],\n",
    "             \"train_acc\": [...],\n",
    "             \"test_loss\": [...],\n",
    "             \"test_acc\": [...]}\n",
    "    \"\"\"\n",
    "    loss = results[\"train_loss\"]\n",
    "    test_loss = results[\"test_loss\"]\n",
    "\n",
    "    accuracy = results[\"train_metrics\"]\n",
    "    test_accuracy = results[\"test_metrics\"]\n",
    "\n",
    "    epochs = range(len(results[\"train_loss\"]))\n",
    "\n",
    "    plt.figure(figsize=(15, 7))\n",
    "\n",
    "    # Plot loss\n",
    "    plt.subplot(1, 2, 1)\n",
    "    plt.plot(epochs, loss, label=\"train_loss\")\n",
    "    plt.plot(epochs, test_loss, label=\"test_loss\")\n",
    "    plt.title(\"Loss\")\n",
    "    plt.xlabel(\"Epochs\")\n",
    "    plt.legend()\n",
    "\n",
    "    # Plot accuracy\n",
    "    plt.subplot(1, 2, 2)\n",
    "    plt.plot(epochs, accuracy, label=\"train_accuracy\")\n",
    "    plt.plot(epochs, test_accuracy, label=\"test_accuracy\")\n",
    "    plt.title(\"Accuracy\")\n",
    "    plt.xlabel(\"Epochs\")\n",
    "    plt.legend()\n",
    "\n",
    "plot_loss_curves(metrics)"
   ]
  },
  {
   "cell_type": "markdown",
   "id": "2aed09eb",
   "metadata": {},
   "source": [
    "### 9.2 Test Trained Prediction\n",
    "Setelah training selesai, evaluasi model dengan membuat prediksi pada gambar acak dari dataset testing. Selanjutnya, sel *kode* di bawah ini dapat dijalankan beberapa kali untuk melihat bagaimana kinerja model pada sampel yang berbeda.\n"
   ]
  },
  {
   "cell_type": "code",
   "execution_count": 18,
   "id": "90b6f5ed",
   "metadata": {},
   "outputs": [
    {
     "name": "stdout",
     "output_type": "stream",
     "text": [
      "True label: 4, Predicted label: 4\n"
     ]
    },
    {
     "data": {
      "image/png": "[encoded data removed]",
      "text/plain": [
       "<Figure size 640x480 with 1 Axes>"
      ]
     },
     "metadata": {},
     "output_type": "display_data"
    }
   ],
   "source": [
    "import random\n",
    "i = random.randint(0,400)\n",
    "image_raw=testImages[i]\n",
    "image = testImages[i].reshape(1, -1) / 255.0  \n",
    "label = testLabels[i]\n",
    "y_logits = model.ForwardProp(image)\n",
    "y_pred = softmax(y_logits)\n",
    "\n",
    "\n",
    "\n",
    "predicted_class = np.argmax(y_pred)\n",
    "\n",
    "print(f\"True label: {label}, Predicted label: {predicted_class}\")\n",
    "plt.imshow(image_raw, cmap='gray')\n",
    "plt.title(f\"True Label: {label} \\n Pred Label: {predicted_class}\")\n",
    "plt.axis('off')\n",
    "plt.show()"
   ]
  },
  {
   "cell_type": "markdown",
   "id": "e6b83dd7",
   "metadata": {},
   "source": [
    "## 10. Build Confusion Matrix\n",
    "---\n",
    "Langkah terakhir, untuk mengevaluasi model secara tepat, tampilkan perbandingan antara nilai prediksi dan nilai aktual dengan **confusion matrix**. Confusion Matrix adalah tabel berukuran $N \\times N$ yang merangkum jumlah prediksi yang benar dan salah yang dilakukan oleh model klasifikasi. Untuk masalah klasifikasi multi-kelas, matriks ini membantu mengidentifikasi pola kesalahan."
   ]
  },
  {
   "cell_type": "code",
   "execution_count": 19,
   "id": "453b1c5e",
   "metadata": {},
   "outputs": [],
   "source": [
    "from sklearn.metrics import confusion_matrix\n",
    "import seaborn as sns\n",
    "# source: https://medium.com/@dtuk81/confusion-matrix-visualization-fc31e3f30fea\n",
    "def make_confusion_matrix(cf,\n",
    "                          group_names=None,\n",
    "                          categories='auto',\n",
    "                          count=True,\n",
    "                          percent=True,\n",
    "                          cbar=True,\n",
    "                          xyticks=True,\n",
    "                          xyplotlabels=True,\n",
    "                          sum_stats=True,\n",
    "                          figsize=None,\n",
    "                          cmap='Blues',\n",
    "                          title=None):\n",
    "    '''\n",
    "    This function will make a pretty plot of an sklearn Confusion Matrix cm using a Seaborn heatmap visualization.\n",
    "\n",
    "    Arguments\n",
    "    ---------\n",
    "    cf:            confusion matrix to be passed in\n",
    "\n",
    "    group_names:   List of strings that represent the labels row by row to be shown in each square.\n",
    "\n",
    "    categories:    List of strings containing the categories to be displayed on the x,y axis. Default is 'auto'\n",
    "\n",
    "    count:         If True, show the raw number in the confusion matrix. Default is True.\n",
    "\n",
    "    normalize:     If True, show the proportions for each category. Default is True.\n",
    "\n",
    "    cbar:          If True, show the color bar. The cbar values are based off the values in the confusion matrix.\n",
    "                   Default is True.\n",
    "\n",
    "    xyticks:       If True, show x and y ticks. Default is True.\n",
    "\n",
    "    xyplotlabels:  If True, show 'True Label' and 'Predicted Label' on the figure. Default is True.\n",
    "\n",
    "    sum_stats:     If True, display summary statistics below the figure. Default is True.\n",
    "\n",
    "    figsize:       Tuple representing the figure size. Default will be the matplotlib rcParams value.\n",
    "\n",
    "    cmap:          Colormap of the values displayed from matplotlib.pyplot.cm. Default is 'Blues'\n",
    "                   See http://matplotlib.org/examples/color/colormaps_reference.html\n",
    "                   \n",
    "    title:         Title for the heatmap. Default is None.\n",
    "\n",
    "    '''\n",
    "\n",
    "\n",
    "    # CODE TO GENERATE TEXT INSIDE EACH SQUARE\n",
    "    blanks = ['' for i in range(cf.size)]\n",
    "\n",
    "    if group_names and len(group_names)==cf.size:\n",
    "        group_labels = [\"{}\\n\".format(value) for value in group_names]\n",
    "    else:\n",
    "        group_labels = blanks\n",
    "\n",
    "    if count:\n",
    "        group_counts = [\"{0:0.0f}\\n\".format(value) for value in cf.flatten()]\n",
    "    else:\n",
    "        group_counts = blanks\n",
    "\n",
    "    if percent:\n",
    "        group_percentages = [\"{0:.2%}\".format(value) for value in cf.flatten()/np.sum(cf)]\n",
    "    else:\n",
    "        group_percentages = blanks\n",
    "\n",
    "    box_labels = [f\"{v1}{v2}{v3}\".strip() for v1, v2, v3 in zip(group_labels,group_counts,group_percentages)]\n",
    "    box_labels = np.asarray(box_labels).reshape(cf.shape[0],cf.shape[1])\n",
    "\n",
    "\n",
    "    # CODE TO GENERATE SUMMARY STATISTICS & TEXT FOR SUMMARY STATS\n",
    "    if sum_stats:\n",
    "        #Accuracy is sum of diagonal divided by total observations\n",
    "        accuracy  = np.trace(cf) / float(np.sum(cf))\n",
    "\n",
    "        #if it is a binary confusion matrix, show some more stats\n",
    "        if len(cf)==2:\n",
    "            #Metrics for Binary Confusion Matrices\n",
    "            precision = cf[1,1] / sum(cf[:,1])\n",
    "            recall    = cf[1,1] / sum(cf[1,:])\n",
    "            f1_score  = 2*precision*recall / (precision + recall)\n",
    "            stats_text = \"\\n\\nAccuracy={:0.3f}\\nPrecision={:0.3f}\\nRecall={:0.3f}\\nF1 Score={:0.3f}\".format(\n",
    "                accuracy,precision,recall,f1_score)\n",
    "        else:\n",
    "            stats_text = \"\\n\\nAccuracy={:0.3f}\".format(accuracy)\n",
    "    else:\n",
    "        stats_text = \"\"\n",
    "\n",
    "\n",
    "    # SET FIGURE PARAMETERS ACCORDING TO OTHER ARGUMENTS\n",
    "    if figsize==None:\n",
    "        #Get default figure size if not set\n",
    "        figsize = plt.rcParams.get('figure.figsize')\n",
    "\n",
    "    if xyticks==False:\n",
    "        #Do not show categories if xyticks is False\n",
    "        categories=False\n",
    "\n",
    "\n",
    "    # MAKE THE HEATMAP VISUALIZATION\n",
    "    plt.figure(figsize=figsize)\n",
    "    sns.heatmap(cf,annot=box_labels,fmt=\"\",cmap=cmap,cbar=cbar,xticklabels=categories,yticklabels=categories)\n",
    "\n",
    "    if xyplotlabels:\n",
    "        plt.ylabel('True label')\n",
    "        plt.xlabel('Predicted label' + stats_text)\n",
    "    else:\n",
    "        plt.xlabel(stats_text)\n",
    "    \n",
    "    if title:\n",
    "        plt.title(title)"
   ]
  },
  {
   "cell_type": "markdown",
   "id": "fa886dcc",
   "metadata": {},
   "source": [
    "Here in the confusion matrix, it can be clearly seen how much the model missclassifies, and how much it correctly classifies hand drawn digits"
   ]
  },
  {
   "cell_type": "code",
   "execution_count": 20,
   "id": "4de290c0",
   "metadata": {},
   "outputs": [
    {
     "data": {
      "image/png": "[encoded data removed]",
      "text/plain": [
       "<Figure size 800x600 with 2 Axes>"
      ]
     },
     "metadata": {},
     "output_type": "display_data"
    }
   ],
   "source": [
    "preds = softmax(model.ForwardProp(X_test))\n",
    "y_true_cls = np.argmax(y_test, axis=1)\n",
    "y_pred_cls = np.argmax(preds, axis=1)\n",
    "cf_matrix = confusion_matrix(y_true_cls, y_pred_cls)\n",
    "make_confusion_matrix(cf_matrix, figsize=(8,6), cbar=True,sum_stats=True)"
   ]
  },
  {
   "cell_type": "markdown",
   "id": "a4d93877",
   "metadata": {},
   "source": [
    "## Credits\n",
    "[Github- Mnist Dataset](https://github.com/cvdfoundation/mnist?tab=readme-ov-file)\n",
    "\n",
    "[Dtuk - Confusion Matrix](https://medium.com/@dtuk81/confusion-matrix-visualization-fc31e3f30fea)\n",
    "\n",
    "[PapersWithCode - MNIST Dataset Explanation](https://paperswithcode.com/dataset/mnist)\n",
    "\n",
    "[Google - One-hot encoding](https://developers.google.com/machine-learning/crash-course/categorical-data/one-hot-encoding)\n",
    "\n",
    "[Google - Neural Network](https://developers.google.com/machine-learning/glossary#neural_network)\n",
    "\n",
    "[Google - Activation Function](https://developers-dot-devsite-v2-prod.appspot.com/machine-learning/glossary)\n",
    "\n",
    "[MachineLearningMastery - Gradient Descent](https://machinelearningmastery.com/gentle-introduction-mini-batch-gradient-descent-configure-batch-size/)"
   ]
  }
 ],
 "metadata": {
  "kernelspec": {
   "display_name": ".venv",
   "language": "python",
   "name": "python3"
  },
  "language_info": {
   "codemirror_mode": {
    "name": "ipython",
    "version": 3
   },
   "file_extension": ".py",
   "mimetype": "text/x-python",
   "name": "python",
   "nbconvert_exporter": "python",
   "pygments_lexer": "ipython3",
   "version": "3.11.2"
  }
 },
 "nbformat": 4,
 "nbformat_minor": 5
}
