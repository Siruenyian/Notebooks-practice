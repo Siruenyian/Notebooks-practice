{
 "cells": [
  {
   "cell_type": "markdown",
   "id": "409b9b89",
   "metadata": {},
   "source": [
    "# 📘 Mnist Classifier From Scratch -EN\n",
    "---"
   ]
  },
  {
   "cell_type": "markdown",
   "id": "434f0f7d",
   "metadata": {},
   "source": [
    "This notebook provides a **hands-on implementation of a Deep Neural Network (DNN)** from scratch using NumPy. Instead of relying on high-level libraries like TensorFlow or PyTorch, this exercise focuses on building the core components manually to better understand how neural networks function under the hood — including forward pass, backward pass, weight updates, and training loops."
   ]
  },
  {
   "cell_type": "markdown",
   "id": "cee5abca",
   "metadata": {},
   "source": [
    "## Table of Contents\n",
    "\n",
    "- [1. Download Mnist Dataset and Unzip](#1-download-mnist-dataset-and-unzip)\n",
    "- [2. Preprocess the Data](#2-preprocess-the-data)\n",
    "- [3. Split Dataset to Training and Testing](#3-split-dataset-to-training-and-testing)\n",
    "- [4. Define Activation Functions](#4-define-activation-functions)\n",
    "- [5. Define Loss Function and Metrics](#5-define-loss-function-and-metrics)\n",
    "- [6. Define Layer Class](#6-define-layer-class)\n",
    "- [7. Define Model Class](#7-define-model-class)\n",
    "- [8. Build Model Object](#8-build-model-object)\n",
    "- [9. Train Model](#9-train-model)\n",
    "- [10. Build Confusion Matrix](#10-build-confusion-matrix)"
   ]
  },
  {
   "cell_type": "code",
   "execution_count": 41,
   "id": "e1bc106d",
   "metadata": {},
   "outputs": [],
   "source": [
    "import os\n",
    "import requests\n",
    "import gzip\n",
    "import shutil\n",
    "import random\n",
    "import numpy as np\n",
    "import matplotlib.pyplot as plt"
   ]
  },
  {
   "cell_type": "markdown",
   "id": "c32b859c",
   "metadata": {},
   "source": [
    "## 1. Download Mnist Dataset and Unzip\n",
    "---"
   ]
  },
  {
   "cell_type": "markdown",
   "id": "6216ea03",
   "metadata": {},
   "source": [
    "The **MNIST**(Modified National Insitute of Standard and Technology) database is a large collection of handwritten digits. MNIST itself contains 60000 images for the training set and 10000 images for the testing set. In the dataset, the digits have been size-normalized and centered in a fixed-size image of size 28x28. "
   ]
  },
  {
   "cell_type": "code",
   "execution_count": 42,
   "id": "a1ece16c",
   "metadata": {},
   "outputs": [],
   "source": [
    "# https://github.com/cvdfoundation/mnist?tab=readme-ov-file\n",
    "DATA_DIR = \"/app/dataset/MNIST\"\n",
    "os.makedirs(DATA_DIR, exist_ok=True)"
   ]
  },
  {
   "cell_type": "code",
   "execution_count": 43,
   "id": "10cb955d",
   "metadata": {},
   "outputs": [],
   "source": [
    "\n",
    "def download_mnist():\n",
    "    MNIST_FILES = {\n",
    "    \"train_images\": \"https://storage.googleapis.com/cvdf-datasets/mnist/train-images-idx3-ubyte.gz\",\n",
    "    \"train_labels\": \"https://storage.googleapis.com/cvdf-datasets/mnist/train-labels-idx1-ubyte.gz\",\n",
    "    \"test_images\":  \"https://storage.googleapis.com/cvdf-datasets/mnist/t10k-images-idx3-ubyte.gz\",\n",
    "    \"test_labels\":  \"https://storage.googleapis.com/cvdf-datasets/mnist/t10k-labels-idx1-ubyte.gz\",\n",
    "    }\n",
    "    for name, url in MNIST_FILES.items():\n",
    "        out_path = os.path.join(DATA_DIR, url.split('/')[-1])\n",
    "        result_path = out_path[:-3] \n",
    "        if not os.path.exists(result_path):\n",
    "            if not os.path.exists(out_path):\n",
    "                print(f\"Downloading {name}...\")\n",
    "                r = requests.get(url)\n",
    "                with open(out_path, 'wb') as f:\n",
    "                    f.write(r.content)\n",
    "            else:\n",
    "                print(f\"{name} already downloaded.\")\n",
    "            print(f\"Unzipping {out_path}...\")\n",
    "            with gzip.open(out_path, 'rb') as f_in:\n",
    "                with open(result_path, 'wb') as f_out:\n",
    "                    shutil.copyfileobj(f_in, f_out)\n",
    "        \n",
    "        else:\n",
    "            print(f\"{name} already unzipped.\")"
   ]
  },
  {
   "cell_type": "code",
   "execution_count": 44,
   "id": "0ee1b841",
   "metadata": {},
   "outputs": [
    {
     "name": "stdout",
     "output_type": "stream",
     "text": [
      "train_images already unzipped.\n",
      "train_labels already unzipped.\n",
      "test_images already unzipped.\n",
      "test_labels already unzipped.\n"
     ]
    }
   ],
   "source": [
    "download_mnist()"
   ]
  },
  {
   "cell_type": "code",
   "execution_count": 45,
   "id": "47042820",
   "metadata": {},
   "outputs": [
    {
     "name": "stdout",
     "output_type": "stream",
     "text": [
      "/app/dataset/MNIST/train-images-idx3-ubyte\n",
      "/app/dataset/MNIST/t10k-images-idx3-ubyte\n"
     ]
    }
   ],
   "source": [
    "def loadMNIST( prefix, folder ):\n",
    "    intType = np.dtype( 'int32' ).newbyteorder( '>' )\n",
    "    nMetaDataBytes = 4 * intType.itemsize\n",
    "\n",
    "    data = np.fromfile( folder + \"/\" + prefix + '-images-idx3-ubyte', dtype = 'ubyte' )\n",
    "    print(folder + \"/\" + prefix + '-images-idx3-ubyte')\n",
    "    magicBytes, nImages, width, height = np.frombuffer( data[:nMetaDataBytes].tobytes(), intType )\n",
    "    data = data[nMetaDataBytes:].astype( dtype = 'float32' ).reshape( [ nImages, width, height ] )\n",
    "\n",
    "    labels = np.fromfile( folder + \"/\" + prefix + '-labels-idx1-ubyte',\n",
    "                          dtype = 'ubyte' )[2 * intType.itemsize:]\n",
    "\n",
    "    return data, labels\n",
    "\n",
    "trainingImages, trainingLabels = loadMNIST( \"train\", \"/app/dataset/MNIST\" )\n",
    "testImages, testLabels = loadMNIST( \"t10k\", \"/app/dataset/MNIST\" )"
   ]
  },
  {
   "cell_type": "markdown",
   "id": "f933b9ea",
   "metadata": {},
   "source": [
    "## 2. Preprocess the Data\n",
    "---"
   ]
  },
  {
   "cell_type": "markdown",
   "id": "bd2037b6",
   "metadata": {},
   "source": [
    "To prepare the Mnist data for training a neural network, two preprocessing steps are applied:\n",
    "\n",
    "- **Normalize Pixel Values**: Pixel values in images typically range from 0 to 255. These values are normalized to a range of 0 to 1 by dividing each pixel by 255. This helps the network train more effectively.\n",
    "\n",
    "- **One-hot Encode Labels**: Labels are converted to one-hot encoded vectors to represent categorical classes in a format the neural network can understand. In one hot vectors, each category is represented by a vector (array) of $N$ elements, where $N$ is the number of categories.\n",
    "![One hot vector representation](https://developers.google.com/static/machine-learning/crash-course/images/vocabulary-index-sparse-feature.svg)\n"
   ]
  },
  {
   "cell_type": "code",
   "execution_count": 46,
   "id": "8f6c6dcd",
   "metadata": {},
   "outputs": [],
   "source": [
    "def toHotEncoding( classification ):\n",
    "    # emulates the functionality of tf.keras.utils.to_categorical( y )\n",
    "    classification = classification.astype(int)  # Ensure integer class labels\n",
    "    num_samples = classification.shape[0]\n",
    "    num_classes = np.max(classification) + 1\n",
    "    hotEncoding = np.zeros((num_samples, num_classes), dtype=np.float32)\n",
    "    hotEncoding[np.arange(num_samples), classification] = 1\n",
    "    return hotEncoding"
   ]
  },
  {
   "cell_type": "code",
   "execution_count": 47,
   "id": "222c9c80",
   "metadata": {},
   "outputs": [],
   "source": [
    "X_train = trainingImages / 255.0\n",
    "X_train = X_train.reshape(X_train.shape[0], -1)\n",
    "\n",
    "X_test = testImages / 255.0\n",
    "X_test = X_test.reshape(X_test.shape[0], -1)\n",
    "\n",
    "y_train = toHotEncoding( trainingLabels )\n",
    "y_test = toHotEncoding( testLabels )"
   ]
  },
  {
   "cell_type": "markdown",
   "id": "67f5ab0d",
   "metadata": {},
   "source": [
    "### 2.1 Show Sample image from the dataset\n",
    "To better understand the structure and appearance of a single Mnist Image, it can be visualized with matplotlib. This helps in getting familiar with when working with the data."
   ]
  },
  {
   "cell_type": "code",
   "execution_count": 48,
   "id": "c5b6f8b6",
   "metadata": {},
   "outputs": [
    {
     "data": {
      "image/png": "[encoded data removed]",
      "text/plain": [
       "<Figure size 640x480 with 1 Axes>"
      ]
     },
     "metadata": {},
     "output_type": "display_data"
    }
   ],
   "source": [
    "i = 0\n",
    "\n",
    "image = trainingImages[i]  \n",
    "label = trainingLabels[i]\n",
    "\n",
    "plt.imshow(image, cmap='gray')\n",
    "plt.title(f\"Label: {label}\")\n",
    "plt.axis('off')\n",
    "plt.show()"
   ]
  },
  {
   "cell_type": "markdown",
   "id": "d0fb13e9",
   "metadata": {},
   "source": [
    "## 3. Split Dataset to Training and Testing\n",
    "---"
   ]
  },
  {
   "cell_type": "markdown",
   "id": "92e31fe9",
   "metadata": {},
   "source": [
    "After preprocessing, the dataset is **shuffled** to ensure that the training and testing sets are representative of the overall data distribution. Once shuffled, the dataset is **split** into 80% for training and 20% for testing, helping to evaluate the model's performance on unseen data."
   ]
  },
  {
   "cell_type": "code",
   "execution_count": 49,
   "id": "7e19efec",
   "metadata": {},
   "outputs": [
    {
     "name": "stdout",
     "output_type": "stream",
     "text": [
      "(48000, 784):(48000, 10)\n",
      "(12000, 784):(12000, 10)\n"
     ]
    }
   ],
   "source": [
    "# Uncomment if want a 48k:12k split manually\n",
    "# Shuffle the training set randomly\n",
    "indices = np.random.permutation(X_train.shape[0])\n",
    "X_train = X_train[indices]\n",
    "y_train = y_train[indices]\n",
    "\n",
    "# Split the training and testing data to a 80:20 ratio\n",
    "split_index = int(X_train.shape[0] * 0.8)\n",
    "X_test = X_train[split_index:]\n",
    "y_test = y_train[split_index:]\n",
    "X_train = X_train[:split_index]\n",
    "y_train = y_train[:split_index]\n",
    "\n",
    "# Uncomment if want to split using sklearn\n",
    "# from sklearn.model_selection import train_test_split    \n",
    "# X_train, X_test, y_train, y_test = train_test_split(\n",
    "#     X_train, y_train, test_size=0.2, random_state=42, shuffle=True\n",
    "# )\n",
    "\n",
    "# print out the shape of each\n",
    "# The training image set has 60000 images with 784 columns(each image is 28x28, flattened, 784)\n",
    "# The training image labels has 60000 labels with 10 columns\n",
    "\n",
    "print(f\"{X_train.shape}:{y_train.shape}\")\n",
    "print(f\"{X_test.shape}:{y_test.shape}\")"
   ]
  },
  {
   "cell_type": "markdown",
   "id": "060bde05",
   "metadata": {},
   "source": [
    "## 4. Define Activation Functions\n",
    "---"
   ]
  },
  {
   "cell_type": "markdown",
   "id": "7336b164",
   "metadata": {},
   "source": [
    "In Deep Learning, an **activation function** allows neural networks to model complex, nonlinear relationships between input features and target labels. It transforms the raw output (logits) into a more useful representation by applying a specific mathematical function. There are several activation functions available, each with its own strengths and use cases.\n",
    "\n",
    "<br>\n",
    "\n",
    "**SoftMax**\n",
    "\n",
    "\\begin{align*}\n",
    "\\sigma(z_i) = \\frac{e^{z_i}}{\\sum_{j=1}^{K} e^{z_j}} \\quad \\text{for } i = 1, 2, \\dots, K\n",
    "\\end{align*}\n",
    "\n",
    "Softmax is a function that determines probabilities for each possible class $K$ in a multi-class classification model. These probabilities add up to exactly 1.0.\n",
    "\n",
    "\n",
    "**ReLU**\n",
    "\n",
    "\\begin{align*}\n",
    "\\text{ReLU}(x) =\n",
    "\\begin{cases}\n",
    "x & \\text{if } x > 0 \\\\\n",
    "0 & \\text{if } x \\leq 0\n",
    "\\end{cases}\n",
    "\\end{align*}\n",
    "\n",
    "ReLU, short for Rectified Linear Unit is a fucntion that only produces an output if the input is a positive number. It is one of the most popular activation fucntion despite of it's simple behavior\n",
    "\n",
    "**Sigmoid**\n",
    "\n",
    "\\begin{align*}\n",
    "sigmoid(x) = \\frac{1}{1 + e^{-\\text{x}}}\n",
    "\\end{align*}\n",
    "\n",
    "Sigmoid is an activation function that maps any real-valued input into a range between 0 and 1, effectively \"squishing\" values into a narrow band. However, it suffers from the vanishing gradient problem — for very large or small input values, the gradient becomes extremely small, which can slow down or stall learning in deep networks.\n",
    "\n",
    "\n",
    "**Leaky ReLU**\n",
    "\n",
    "\\begin{align*}\n",
    "\\text{LeakyReLU}(x) =\n",
    "\\begin{cases}\n",
    "x & \\text{if } x \\geq 0 \\\\\n",
    "\\alpha x & \\text{if } x < 0\n",
    "\\end{cases}\n",
    "\\quad \\text{where } \\alpha \\in (0, 1)\n",
    "\\end{align*}\n",
    "\n",
    "Leaky ReLU is a type of activation function based on a ReLU, but it has a small slope for negative values instead of a flat slope. This activation function is popular in training generative adversarial networks.\n",
    "\n",
    "\n",
    "**TanH**\n",
    "\n",
    "\\begin{align*}\n",
    "\\tanh(x) = \\frac{e^x - e^{-x}}{e^x + e^{-x}} = \\frac{2}{1 + e^{-2x}} - 1\n",
    "\\end{align*}\n",
    "\n",
    "TanH is an activation function whose output ranges from -1 to 1, making it more effective at handling negative input values compared to functions like Sigmoid, which only outputs values between 0 and 1.\n",
    "\n",
    "\n",
    "**Many more..**\n",
    "\n",
    "Since an activation function transforms the raw output (logits) into a more meaningful representation through a mathematical operation, the possibilities for creating various activation functions are virtually limitless.\n",
    "\n",
    "<br>\n"
   ]
  },
  {
   "cell_type": "code",
   "execution_count": null,
   "id": "eaa3d092",
   "metadata": {},
   "outputs": [],
   "source": [
    "def softmax(x):\n",
    "    x = x.astype(np.float64)\n",
    "    x_max = np.max(x, axis=-1, keepdims=True)\n",
    "    exps = np.exp(np.clip(x - x_max, -700, 700)) \n",
    "    return exps / np.sum(exps, axis=-1, keepdims=True)\n",
    "\n",
    "def relu(x):\n",
    "    return np.maximum(0, x)\n",
    "\n",
    "def relu_derivative(x):\n",
    "    return np.where(x > 0, 1, 0).astype(np.float64)\n",
    "\n",
    "def sigmoid(x):\n",
    "    return np.where(\n",
    "        x >= 0,\n",
    "        1 / (1 + np.exp(-x)),\n",
    "        np.exp(x) / (1 + np.exp(x))\n",
    "    )\n",
    "\n",
    "def sigmoid_derivative(x):\n",
    "    sig = sigmoid(x)\n",
    "    return sig * (1 - sig)\n",
    "\n",
    "def leaky_relu(x, alpha=0.01):\n",
    "    return np.where(x > 0, x, alpha * x)\n",
    "\n",
    "def leaky_relu_derivative(x, alpha=0.01):\n",
    "    dx = np.ones_like(x)\n",
    "    dx[x < 0] = alpha\n",
    "    return dx\n",
    "\n",
    "def tanh(x):\n",
    "    return np.tanh(x)\n",
    "\n",
    "def tanh_derivative(x):\n",
    "    return 1 - np.tanh(x) ** 2\n",
    "\n",
    "# every activation and derivative is stored on a map, \n",
    "# this is useful for taking its derivative for backpropagation later pn\n",
    "activation_map = {\n",
    "    'sigmoid': (sigmoid, sigmoid_derivative),\n",
    "    'relu': (relu, relu_derivative),\n",
    "    'tanh': (tanh, tanh_derivative),\n",
    "    None: (lambda x: x, lambda x: np.ones_like(x))  # No activation\n",
    "}"
   ]
  },
  {
   "cell_type": "markdown",
   "id": "03eb5e8e",
   "metadata": {},
   "source": [
    "## 5. Define Loss Function and Metrics\n",
    "---"
   ]
  },
  {
   "cell_type": "markdown",
   "id": "0854965b",
   "metadata": {},
   "source": [
    "In deep learning, the **loss function** is a measure of how far a model's prediction is from its label. The goal of training is to minimize this loss, which indicates that the model's predictions are getting closer to the actual values. Common loss fucntions include:\n",
    "- **Mean Squared Error (MSE)**: used for regression tasks.\n",
    "- **Cross-Entropy Loss**: used for classification tasks, which is often paired with the **Softmax** activation function in multi-class problems.\n",
    "\n",
    "On the other hand, Metrics are used to evaluate the performance of the model, but unlike the loss function, they are not used to optimize the model directly. Common metrics include:\n",
    "- **Accuracy**: The percentage of correct predictions made by the model.\n",
    "- **Precision, Recall, and F1-Score**: Useful for imbalanced datasets, especially in binary classification tasks.\n",
    "- **AUC-ROC**: Measures the area under the receiver operating characteristic curve, often used in binary classification to evaluate performance."
   ]
  },
  {
   "cell_type": "code",
   "execution_count": 51,
   "id": "84ca664d",
   "metadata": {},
   "outputs": [],
   "source": [
    "\n",
    "def binary_cross_entropy(y_pred, y_true, epsilon=1e-12):\n",
    "    y_pred = np.clip(y_pred, epsilon, 1. - epsilon)\n",
    "    loss = - (y_true * np.log(y_pred) + (1 - y_true) * np.log(1 - y_pred))\n",
    "    return np.mean(loss)\n",
    "\n",
    "def categorical_cross_entropy(y_pred, y_true,  epsilon=1e-8):\n",
    "    y_pred = np.clip(y_pred, epsilon, 1 - epsilon)\n",
    "    loss = -np.sum(y_true * np.log(y_pred)) / y_true.shape[0]\n",
    "    return loss\n",
    "\n",
    "def accuracy(y_pred, y_true):\n",
    "    # Get predicted class indicesa\n",
    "    pred_labels = np.argmax(y_pred, axis=1)\n",
    "    \n",
    "    # Convert one-hot to class indices if needed\n",
    "    if y_true.ndim == 2:\n",
    "        true_labels = np.argmax(y_true, axis=1)\n",
    "    else:\n",
    "        true_labels = y_true\n",
    "\n",
    "    correct = np.sum(pred_labels == true_labels)\n",
    "    total = y_true.shape[0]\n",
    "    return correct / total"
   ]
  },
  {
   "cell_type": "markdown",
   "id": "af3396a9",
   "metadata": {},
   "source": [
    "## 6. Define Layer Class\n",
    "---"
   ]
  },
  {
   "cell_type": "markdown",
   "id": "7c33b1a8",
   "metadata": {},
   "source": [
    "<!-- ![neural network](img/neuralnetwork.png) -->\n",
    "<p align=\"center\">\n",
    "  <img src=\"../img/neuralnetwork.png\"/>\n",
    "</p>\n"
   ]
  },
  {
   "cell_type": "markdown",
   "id": "fcd738a8",
   "metadata": {},
   "source": [
    "A Neural Network can be treated as a system with multiple **layers**, where each layer transforms the data. It typically typically consists of an input layer, one or more hidden layers, and an output layer. Each layer applies a linear transformation followed by an activation function to capture non-linear relationships.\n",
    "\n",
    "- **Input Layer**: This layer receives the raw data and passes it on to the next layer.\n",
    "\n",
    "- **Hidden Layers**: These layers process the data through a series of transformations, learning complex patterns and features from the input. Each hidden layer has neurons that apply a weight(how much this neuron signal is worth) to the incoming signals, then an activation function to get the final output which is then passed to the next layer.\n",
    "\n",
    "- **Output Layer**: This layer produces the final prediction, which could represent a class probability, a regression value, or something else depending on the task at hand.\n",
    "\n",
    "During training, an initial prediction will be produced by a **Forward Pass**, then the weights in each layer are adjusted through **Backward Pass(Backpropagation)**, which optimizes the model's performance by reducing the error in the network's predictions.\n"
   ]
  },
  {
   "cell_type": "markdown",
   "id": "6174aae6",
   "metadata": {},
   "source": [
    "### 6.1 Forward Pass"
   ]
  },
  {
   "cell_type": "markdown",
   "id": "ecb34237",
   "metadata": {},
   "source": [
    "\\begin{align*}\n",
    "z &= XW + b \\\\\n",
    "y &= \\phi(z)\n",
    "\\end{align*}\n",
    "\n",
    "Where:\n",
    "\n",
    "- $X$: Input data or activations from the previous layer  \n",
    "- $W$: Weight  \n",
    "- $b$: Bias  \n",
    "- $z$: Linear combination of inputs and weights  \n",
    "- $\\phi(z)$: Activation function applied to $z$, producing the output $y$"
   ]
  },
  {
   "cell_type": "markdown",
   "id": "499874ce",
   "metadata": {},
   "source": [
    "A neural network forward pass is a process where **input data is passed through the layers of the network to generate an output prediction**. this can be done by computing the output y individually for each neuron and connection or better yet, it can be treated as a matrix multiplication problem to compute simultaneously."
   ]
  },
  {
   "cell_type": "markdown",
   "id": "d0a6c074",
   "metadata": {},
   "source": [
    "##### 6.1.1 Matrix Representation of a Forward Pass\n",
    "For a horizontally flat input with n items, it can be stacked vertically as a row with other inputs(for example k input), effectively making a matrix of a (k, n) (k rows, n columns) size. These stacked values can now be used instead of multiplying each input item by hand with the weight. The multiplication can be done simultaneously using a weight matrix that is (m, n). In this matrix, each column of n represents each weight that is assigned to a single neuron, stacking the column n horizontally for each m neurons gives a matrix of weight connection of each layer, ready to be multiplied.\n",
    "\n",
    "The resulting matrix is a horizontal stack of each result. To this horizontal stack, the bias is added across all k row(note that the resulting input and weight is (k,n) ). The result is the matrix of raw output(often called logits) z. Finally, each item of the logits matrix will be passed into an activation function to produce the final output y."
   ]
  },
  {
   "cell_type": "markdown",
   "id": "b32a1095",
   "metadata": {},
   "source": [
    "### 6.2 Backward pass\n",
    "The Backward Pass, or often called Backpropagation, is the process of computing gradients of the loss with respect to each weight in the network **using the chain rule**. These gradients are then used by **Gradient Descent** (or its variants) to update the weights and reduce the loss. The typical weight update equation for Gradient Descent is as follows:"
   ]
  },
  {
   "cell_type": "markdown",
   "id": "f6f02e84",
   "metadata": {},
   "source": [
    "\\begin{align*}\n",
    "W_u &= W_0 - \\alpha \\frac{dE}{dW}\n",
    "\\end{align*}\n",
    "\n",
    "Where:\n",
    "\n",
    "- $W_u$ : Updated weight after backpropagation  \n",
    "- $W_0$ : Original weight before the update  \n",
    "- $\\alpha$ : Learning rate, a small scalar value that controls how much the weight is adjusted in repect to the error\n",
    "- $\\frac{dE}{dW}$ : Gradient of the loss function with respect to the weights"
   ]
  },
  {
   "cell_type": "markdown",
   "id": "f2f78b97",
   "metadata": {},
   "source": [
    "#### 6.2.1 Gradient Descent\n",
    "There are several types of **Gradient Descent**, each with a different approach to updating weights:\n",
    "\n",
    "- **Stochastic Gradient Descent (SGD)**  \n",
    "  A variation of Gradient Descent that updates the weights **after each individual training example**. This introduces noise in updates but can help escape local minima. This is often used in online learning explanation.\n",
    "\n",
    "- **Batch Gradient Descent**  \n",
    "  Computes the error (loss) for **all training examples**, then performs **a single update** after the entire dataset is evaluated. Matrix operations are used for efficient computation.\n",
    "  > This is why we divide by batch size — to normalize the gradients and approximate the average error contribution.\n",
    "\n",
    "- **Mini-Batch Gradient Descent**  \n",
    "  Splits the dataset into small batches. For each batch, it computes the loss and updates the weights.  This is the most common implementation of gradient descent in deep learning.   \n",
    "  > Implementation may vary — some sum gradients over the batch, while others average them.  \n",
    "  This method combines the benefits of both SGD and Batch Gradient Descent."
   ]
  },
  {
   "cell_type": "markdown",
   "id": "1b452c12",
   "metadata": {},
   "source": [
    "#### 6.2.2 Backward Pass Breakdown\n",
    "At the beginning of training a neural network, the weights $W$ are initialized randomly, and the learning rate $\\alpha$ is defined by the user. What remains is the computation of the update gradient $\\frac{dE}{dW}$, which is essential for adjusting the weights during backward pass. The complete backward pass process proceeds is illustrated as follows:"
   ]
  },
  {
   "cell_type": "markdown",
   "id": "df30478e",
   "metadata": {},
   "source": [
    "<p align=\"center\">\n",
    "  <img src=\"../img/backpropagation.png\"/>\n",
    "</p>"
   ]
  },
  {
   "cell_type": "markdown",
   "id": "4d5013a4",
   "metadata": {},
   "source": [
    "As shown in the image, to compute $ \\frac{dE}{dW} $ (update gradient) and assist with weight updates across layers, several intermediate components are stored in each layer:\n",
    "\n",
    "- $ \\frac{dE}{dX} $: The gradient of the error with respect to the input of the current layer. This is useful for propagating the error backward to previous layers.\n",
    "\n",
    "- $ \\frac{dE}{dy} $: The gradient of the error passed from the next layer; this gradient flows backward through the network and serves as the starting point for backpropagation.\n",
    "\n",
    "- $ z_0 $: The pre-activation output $ z_0 = XW + b $, which is used when computing the derivative of the activation function.\n",
    "\n",
    "- $ y_0 $: The post-activation output, obtained by applying the activation function $ \\phi(z_0) $, which is used in both forward and backward pass.\n",
    "\n",
    "- $ X $: The input to the layer, required to compute the weight gradients $ \\frac{dE}{dW} $."
   ]
  },
  {
   "cell_type": "markdown",
   "id": "9c66d113",
   "metadata": {},
   "source": [
    "To implement this process programmatically, a Layer class is defined to represent a layer with $m$ input features and $n$ output neurons. Once instantiated, each layer contains variables such as the weight matrix $W$, the bias vector $b$, and stores values like $X$, $z_0$,and $y_0$ during the forward pass. These stored variables are then reused during backpropagation to compute gradients and update weights efficiently."
   ]
  },
  {
   "cell_type": "code",
   "execution_count": 52,
   "id": "94621efe",
   "metadata": {},
   "outputs": [],
   "source": [
    "\n",
    "class Layer():\n",
    "\n",
    "    def __init__(self, inFeature, outFeature, activationFunction=None) -> None:\n",
    "        # intialize weight with random values with shape(input connection, neuron count)\n",
    "        scale = np.sqrt(2.0 / (inFeature+outFeature))\n",
    "        # Uniform distribution in range [-scale/2, scale/2]\n",
    "        self.W = (np.random.rand(inFeature, outFeature) * scale) - (scale / 2.0)\n",
    "        # intialize weight with random values with shape(1, neuron count)\n",
    "        self.b = np.zeros((1, outFeature), dtype=np.float64)\n",
    "        # Set layer to be trainable\n",
    "        self.trainable = True\n",
    "        # Get activation and its derivative from map(key:value pair)\n",
    "        self.activation, self.activation_deriv = activation_map.get(activationFunction, (None, None))\n",
    "        self.y = self.z = self.X = None\n",
    "\n",
    "    #Feed Forward function defined as \n",
    "    def Forward(self, X, isInference):\n",
    "        if isInference==True:\n",
    "            return self.activation(X @ self.W + self.b)\n",
    "        self.X = X\n",
    "        # Calculate output\n",
    "        # z = W * X + b, with\n",
    "        self.z = X @ self.W + self.b\n",
    "        # Apply Activation Fucntion\n",
    "        # y = activation(z)\n",
    "        self.y = self.activation(self.z)\n",
    "        return self.y\n",
    "\n",
    "\n",
    "    #Back Propagation fucntion to calculate gradients for this layer as \n",
    "    def BackwardHidden(self, dEdy, lr=0.01):\n",
    "        # Using the derivative of the activation fucntion\n",
    "        # Find out change of output in respect of to input\n",
    "        dydx = self.activation_deriv(self.z)\n",
    "        # Use the derivative chain rule to get dEdx\n",
    "        dEdx = dEdy * dydx\n",
    "        # Use the derivative chain rule to get dEdW\n",
    "        # dEdW = dxdW * dEdx\n",
    "        # where dxdW is defined as the previous layers output/this layers input, X \n",
    "        dEdW = self.X.T @ dEdx\n",
    "        # dEdb = sum of the total change of error in respect to input\n",
    "        dEdb = np.sum(dEdx, axis=0, keepdims=True)\n",
    "        \n",
    "        # Update Layer Parameter if trainable\n",
    "        # New Weight = Intial weight - learning rate * change of error in respect to weight\n",
    "        # New Bias = Intial weight - learning rate * change of error in respect to bias\n",
    "        if self.trainable:\n",
    "            self.W -= lr * dEdW\n",
    "            self.b -= lr * dEdb\n",
    "        # Propagate gradient\n",
    "        # calculate the change of error in respect to the previous output\n",
    "        # dEdy = dEdx * dxdy\n",
    "        # where dxdy is the change of input in repect to the final output, \n",
    "        # as how it contributes to the final output. in other words W\n",
    "        return dEdx @ self.W.T"
   ]
  },
  {
   "cell_type": "markdown",
   "id": "be2ac7ec",
   "metadata": {},
   "source": [
    "## 7. Define Model Class\n",
    "---"
   ]
  },
  {
   "cell_type": "markdown",
   "id": "74be54a0",
   "metadata": {},
   "source": [
    "To assist with the methods of forward pass, backward pass, and training, a model class which accepts a list of layers as a constructor is used. In the model class, there are three separate methods:\n",
    "\n",
    "- **ForwardProp**: Performs a forward pass through each layer, computing the output based on the current weights and activations.\n",
    "\n",
    "- **BackwardProp**: Executes a backward pass through the network, calculating gradients and updating the weights accordingly using backpropagation.\n",
    "\n",
    "- **Train**: Orchestrates the training loop, including multiple epochs of forward and backward passes, while applying gradient descent.\n",
    "\n",
    "- **Train Batched**: Orchestrates the training loop, while applying the minibatch gradient descent."
   ]
  },
  {
   "cell_type": "code",
   "execution_count": 53,
   "id": "94e8ccdc",
   "metadata": {},
   "outputs": [],
   "source": [
    "\n",
    "class Model():\n",
    "    \n",
    "    # Construct Model with layers\n",
    "    def __init__(self, layers) -> None:\n",
    "        self.layers = layers\n",
    "    \n",
    "    # Forward Propagation for each layer\n",
    "    def ForwardProp(self, X, isinference=False):\n",
    "        for layer in self.layers:\n",
    "            X = layer.Forward(X, isinference)\n",
    "        return X\n",
    "    \n",
    "    # Backward Propagation for each layer\n",
    "    # Starts at the last layer\n",
    "    def BackwardProp(self, dEdy, learningRate=0.01):\n",
    "        for layer in reversed(self.layers):\n",
    "            dEdy = layer.BackwardHidden(dEdy, lr=learningRate)\n",
    "\n",
    "    # Train function to train the network\n",
    "    def train(self, epochs, X_train, y_train, loss_fn, metrics_fn, learningRate=0.01, X_test=None, y_test=None):\n",
    "        train_loss=[]\n",
    "        train_metrics=[]\n",
    "        test_loss=[]\n",
    "        test_metrics=[]\n",
    "        for epoch in range(epochs):\n",
    "            # 1. Get raw output with Forward Propagation\n",
    "            logits = self.ForwardProp(X_train)\n",
    "            # 2. Apply softmax to get probabilities, it wont be directly in the output layer \n",
    "            # because it simplifies with the categorical cross entropy loss\n",
    "            probs = softmax(logits)\n",
    "            # 3. Calculate the loss and metrics\n",
    "            loss = loss_fn(probs, y_train)\n",
    "            metrics = metrics_fn(probs, y_train)\n",
    "            train_loss.append(loss)\n",
    "            train_metrics.append(metrics)\n",
    "            # 4. Calculate the change of error in respect to the output of the final layer\n",
    "            # The derivative of the loss fucntion simplifies to ypred - ytrue\n",
    "            # and it is finally divided by its batch size\n",
    "            dEdy = (probs - y_train) / y_train.shape[0]\n",
    "            # 5. Calculate Gradients and update model parameter with Backward Propagation\n",
    "            # Do the same procedure with testing data and output logs\n",
    "            if X_test.shape and y_test.shape is not None:\n",
    "                test_logits = self.ForwardProp(X_test, True)\n",
    "                test_probs = softmax(test_logits)\n",
    "                test_loss_value = loss_fn(test_probs, y_test)\n",
    "                test_metrics_value = metrics_fn(test_probs, y_test)\n",
    "                test_loss.append(test_loss_value)\n",
    "                test_metrics.append(test_metrics_value)\n",
    "                print(f\"Epoch: {epoch}, Loss: {loss:.4f}, Acc: {metrics:.4f}, Test Loss: {test_loss_value:.4f}, Test Acc: {test_metrics_value:.4f},\")\n",
    "            else:\n",
    "                print(f\"Epoch: {epoch}, Loss: {loss:.4f}, Acc: {metrics:.4f}\")\n",
    "            self.BackwardProp(dEdy, learningRate)\n",
    "\n",
    "                \n",
    "                \n",
    "        return {\"train_loss\": train_loss,\n",
    "             \"train_metrics\": train_metrics,\n",
    "             \"test_loss\": test_loss,\n",
    "             \"test_metrics\": test_metrics}\n",
    "    \n",
    "    def train_minibatch(self, epochs, X_train, y_train, loss_fn, metrics_fn, learningRate=0.01, batch_size=32, X_test=None, y_test=None):\n",
    "        train_loss = []\n",
    "        train_metrics = []\n",
    "        test_loss = []\n",
    "        test_metrics = []\n",
    "        # get sample size\n",
    "        num_samples = X_train.shape[0]\n",
    "        \n",
    "        for epoch in range(epochs):\n",
    "            # Shuffle the dataset at the start of each epoch\n",
    "            perm = np.random.permutation(num_samples)\n",
    "            X_train_shuffled = X_train[perm]\n",
    "            y_train_shuffled = y_train[perm]\n",
    "\n",
    "            epoch_loss = 0\n",
    "            epoch_metric = 0\n",
    "            num_batches = 0\n",
    "            # For each epoch, iterate from 0 until the sample size, step batch size\n",
    "            # this is the same as doing batchCount = num_samples / batch_size\n",
    "            for i in range(0, num_samples, batch_size):\n",
    "                X_batch = X_train_shuffled[i:i+batch_size]\n",
    "                y_batch = y_train_shuffled[i:i+batch_size]\n",
    "                # 1. Get raw output with Forward Propagation\n",
    "                logits = self.ForwardProp(X_batch)\n",
    "                # 2. Apply softmax to get probabilities, it wont be directly in the output layer \n",
    "                # because it simplifies with the categorical cross entropy loss\n",
    "                probs = softmax(logits)\n",
    "                # 3. Calculate the loss and metrics\n",
    "                loss = loss_fn(probs, y_batch)\n",
    "                metrics = metrics_fn(probs, y_batch)\n",
    "                # 4. Calculate the change of error in respect to the output of the final layer\n",
    "                # The derivative of the loss fucntion simplifies to ypred - ytrue\n",
    "                # and it is finally divided by its batch size\n",
    "                dEdy = (probs - y_batch) / y_batch.shape[0]\n",
    "                self.BackwardProp(dEdy, learningRate)\n",
    "                # Add to epoch loss\n",
    "                epoch_loss += loss\n",
    "                epoch_metric += metrics\n",
    "                num_batches += 1\n",
    "\n",
    "            # Get the average loss and metrics since this is batched\n",
    "            avg_loss = epoch_loss / num_batches\n",
    "            avg_metrics = epoch_metric / num_batches\n",
    "            train_loss.append(avg_loss)\n",
    "\n",
    "            train_metrics.append(avg_metrics)\n",
    "            # 5. Calculate Gradients and update model parameter with Backward Propagation\n",
    "            # Do the same procedure with testing data and output logs\n",
    "            if X_test is not None and y_test is not None:\n",
    "                test_logits = self.ForwardProp(X_test, True)\n",
    "                test_probs = softmax(test_logits)\n",
    "                test_loss_value = loss_fn(test_probs, y_test)\n",
    "                test_metrics_value = metrics_fn(test_probs, y_test)\n",
    "                test_loss.append(test_loss_value)\n",
    "                test_metrics.append(test_metrics_value)\n",
    "                print(f\"Epoch: {epoch}, Loss: {avg_loss:.4f}, Acc: {avg_metrics:.4f}, Test Loss: {test_loss_value:.4f}, Test Acc: {test_metrics_value:.4f}\")\n",
    "            else:\n",
    "                print(f\"Epoch: {epoch}, Loss: {avg_loss:.4f}, Acc: {avg_metrics:.4f}\")\n",
    "\n",
    "        return {\n",
    "            \"train_loss\": train_loss,\n",
    "            \"train_metrics\": train_metrics,\n",
    "            \"test_loss\": test_loss,\n",
    "            \"test_metrics\": test_metrics\n",
    "        }\n"
   ]
  },
  {
   "cell_type": "markdown",
   "id": "c48b34b1",
   "metadata": {},
   "source": [
    "## 8. Build Model Object\n",
    "---"
   ]
  },
  {
   "cell_type": "markdown",
   "id": "7742799a",
   "metadata": {},
   "source": [
    "Using the Layer and Model class together, a list of layers with set parameters is defined and passed to the created Model object. In the case of Mnist, 2 layers is used with the input feature of 784(28x28 pixel)"
   ]
  },
  {
   "cell_type": "code",
   "execution_count": 54,
   "id": "0e12eb66",
   "metadata": {},
   "outputs": [],
   "source": [
    "layerSequence = [\n",
    "    Layer(inFeature=784, outFeature=256,activationFunction=\"relu\"),\n",
    "    # final layer (softmax applied outside)\n",
    "    Layer(inFeature=256, outFeature=10,activationFunction=None)  \n",
    "]\n",
    "model=Model(layerSequence)"
   ]
  },
  {
   "cell_type": "markdown",
   "id": "a4386087",
   "metadata": {},
   "source": [
    "### 8.1 Test Initial Prediction"
   ]
  },
  {
   "cell_type": "markdown",
   "id": "373e8091",
   "metadata": {},
   "source": [
    "Before training the model, it's insightful to test its initial performance. Select a random image from the test dataset and pass it through the untrained model to observe the output. This step helps to verify that the model runs and provides a baseline prediction for comparison after training."
   ]
  },
  {
   "cell_type": "code",
   "execution_count": 55,
   "id": "57499f72",
   "metadata": {},
   "outputs": [
    {
     "name": "stdout",
     "output_type": "stream",
     "text": [
      "True label: 1, Predicted label: 0\n"
     ]
    },
    {
     "data": {
      "image/png": "[encoded data removed]",
      "text/plain": [
       "<Figure size 640x480 with 1 Axes>"
      ]
     },
     "metadata": {},
     "output_type": "display_data"
    }
   ],
   "source": [
    "# Display random image\n",
    "i = random.randint(0,400)\n",
    "image_raw=testImages[i]\n",
    "image = testImages[i].reshape(1, -1) / 255.0  \n",
    "label = testLabels[i]\n",
    "y_logits = model.ForwardProp(image)\n",
    "# Apply own softmax\n",
    "y_pred = softmax(y_logits)\n",
    "\n",
    "\n",
    "# Take the maximum array value\n",
    "predicted_class = np.argmax(y_pred)\n",
    "\n",
    "# Using mathplotlib, display the image\n",
    "print(f\"True label: {label}, Predicted label: {predicted_class}\")\n",
    "plt.imshow(image_raw, cmap='gray')\n",
    "plt.title(f\"True Label: {label} \\n Pred Label: {predicted_class}\")\n",
    "plt.axis('off')\n",
    "plt.show()"
   ]
  },
  {
   "cell_type": "markdown",
   "id": "6c7a8117",
   "metadata": {},
   "source": [
    "## 9. Train Model\n",
    "---"
   ]
  },
  {
   "cell_type": "markdown",
   "id": "dfbcabee",
   "metadata": {},
   "source": [
    "Using the train method defined in the Model class, perform full-batch training by passing in the training and test datasets. This method should handle the full forward pass, loss computation, backpropagation, and weight updates across all epochs. From there, store the resulting metrics in a dictionary."
   ]
  },
  {
   "cell_type": "code",
   "execution_count": 56,
   "id": "f02a3aa2",
   "metadata": {},
   "outputs": [
    {
     "name": "stdout",
     "output_type": "stream",
     "text": [
      "Epoch: 0, Loss: 1.0934, Acc: 0.7704, Test Loss: 0.5020, Test Acc: 0.8665\n",
      "Epoch: 1, Loss: 0.4191, Acc: 0.8880, Test Loss: 0.3790, Test Acc: 0.8922\n",
      "Epoch: 2, Loss: 0.3483, Acc: 0.9023, Test Loss: 0.3402, Test Acc: 0.9030\n",
      "Epoch: 3, Loss: 0.3165, Acc: 0.9101, Test Loss: 0.3164, Test Acc: 0.9113\n",
      "Epoch: 4, Loss: 0.2944, Acc: 0.9165, Test Loss: 0.2966, Test Acc: 0.9170\n",
      "Epoch: 5, Loss: 0.2761, Acc: 0.9208, Test Loss: 0.2814, Test Acc: 0.9200\n",
      "Epoch: 6, Loss: 0.2604, Acc: 0.9262, Test Loss: 0.2670, Test Acc: 0.9241\n",
      "Epoch: 7, Loss: 0.2461, Acc: 0.9297, Test Loss: 0.2531, Test Acc: 0.9283\n",
      "Epoch: 8, Loss: 0.2333, Acc: 0.9335, Test Loss: 0.2417, Test Acc: 0.9314\n",
      "Epoch: 9, Loss: 0.2217, Acc: 0.9376, Test Loss: 0.2337, Test Acc: 0.9333\n",
      "Epoch: 10, Loss: 0.2111, Acc: 0.9406, Test Loss: 0.2233, Test Acc: 0.9374\n",
      "Epoch: 11, Loss: 0.2013, Acc: 0.9431, Test Loss: 0.2127, Test Acc: 0.9400\n",
      "Epoch: 12, Loss: 0.1926, Acc: 0.9458, Test Loss: 0.2055, Test Acc: 0.9413\n",
      "Epoch: 13, Loss: 0.1842, Acc: 0.9486, Test Loss: 0.1971, Test Acc: 0.9429\n",
      "Epoch: 14, Loss: 0.1766, Acc: 0.9502, Test Loss: 0.1921, Test Acc: 0.9453\n",
      "Epoch: 15, Loss: 0.1695, Acc: 0.9532, Test Loss: 0.1847, Test Acc: 0.9467\n",
      "Epoch: 16, Loss: 0.1629, Acc: 0.9544, Test Loss: 0.1791, Test Acc: 0.9493\n",
      "Epoch: 17, Loss: 0.1566, Acc: 0.9561, Test Loss: 0.1740, Test Acc: 0.9497\n",
      "Epoch: 18, Loss: 0.1509, Acc: 0.9578, Test Loss: 0.1696, Test Acc: 0.9508\n",
      "Epoch: 19, Loss: 0.1456, Acc: 0.9597, Test Loss: 0.1627, Test Acc: 0.9530\n"
     ]
    }
   ],
   "source": [
    "# Train model\n",
    "metrics=model.train_minibatch(epochs=20, X_train=X_train, y_train=y_train, X_test=X_test, y_test=y_test, loss_fn=categorical_cross_entropy, metrics_fn=accuracy, learningRate=0.01)\n",
    "losses=metrics[\"train_loss\"]"
   ]
  },
  {
   "cell_type": "markdown",
   "id": "6ad4b7a5",
   "metadata": {},
   "source": [
    "### 9.1 Plot Loss Curves\n",
    "\n",
    "To gain insight and visualize how the model is learning, it's helpful to plot the training loss and accuracy over time. This can be done using libraries such as matplotlib. Visualizing these metrics allows you to assess convergence, detect overfitting, and evaluate model performance throughout training."
   ]
  },
  {
   "cell_type": "code",
   "execution_count": 57,
   "id": "13ca6f4c",
   "metadata": {},
   "outputs": [
    {
     "data": {
      "image/png": "[encoded data removed]",
      "text/plain": [
       "<Figure size 1500x700 with 2 Axes>"
      ]
     },
     "metadata": {},
     "output_type": "display_data"
    }
   ],
   "source": [
    "def plot_loss_curves(results):\n",
    "    \"\"\"Plots training curves of a results dictionary.\n",
    "\n",
    "    Args:\n",
    "        results (dict): dictionary containing list of values, e.g.\n",
    "            {\"train_loss\": [...],\n",
    "             \"train_acc\": [...],\n",
    "             \"test_loss\": [...],\n",
    "             \"test_acc\": [...]}\n",
    "    \"\"\"\n",
    "    loss = results[\"train_loss\"]\n",
    "    test_loss = results[\"test_loss\"]\n",
    "\n",
    "    accuracy = results[\"train_metrics\"]\n",
    "    test_accuracy = results[\"test_metrics\"]\n",
    "\n",
    "    epochs = range(len(results[\"train_loss\"]))\n",
    "\n",
    "    plt.figure(figsize=(15, 7))\n",
    "\n",
    "    # Plot loss\n",
    "    plt.subplot(1, 2, 1)\n",
    "    plt.plot(epochs, loss, label=\"train_loss\")\n",
    "    plt.plot(epochs, test_loss, label=\"test_loss\")\n",
    "    plt.title(\"Loss\")\n",
    "    plt.xlabel(\"Epochs\")\n",
    "    plt.legend()\n",
    "\n",
    "    # Plot accuracy\n",
    "    plt.subplot(1, 2, 2)\n",
    "    plt.plot(epochs, accuracy, label=\"train_accuracy\")\n",
    "    plt.plot(epochs, test_accuracy, label=\"test_accuracy\")\n",
    "    plt.title(\"Accuracy\")\n",
    "    plt.xlabel(\"Epochs\")\n",
    "    plt.legend()\n",
    "\n",
    "plot_loss_curves(metrics)"
   ]
  },
  {
   "cell_type": "markdown",
   "id": "2aed09eb",
   "metadata": {},
   "source": [
    "### 9.2 Test Trained Prediction\n",
    "After training, evaluate the model by making predictions on random images from the test set. The cell below can be run multiple times to see how well the model performs on different samples."
   ]
  },
  {
   "cell_type": "code",
   "execution_count": 58,
   "id": "90b6f5ed",
   "metadata": {},
   "outputs": [
    {
     "name": "stdout",
     "output_type": "stream",
     "text": [
      "True label: 4, Predicted label: 4\n"
     ]
    },
    {
     "data": {
      "image/png": "[encoded data removed]",
      "text/plain": [
       "<Figure size 640x480 with 1 Axes>"
      ]
     },
     "metadata": {},
     "output_type": "display_data"
    }
   ],
   "source": [
    "i = random.randint(0,400)\n",
    "image_raw=testImages[i]\n",
    "image = testImages[i].reshape(1, -1) / 255.0  \n",
    "label = testLabels[i]\n",
    "y_logits = model.ForwardProp(image)\n",
    "y_pred = softmax(y_logits)\n",
    "\n",
    "predicted_class = np.argmax(y_pred)\n",
    "\n",
    "print(f\"True label: {label}, Predicted label: {predicted_class}\")\n",
    "plt.imshow(image_raw, cmap='gray')\n",
    "plt.title(f\"True Label: {label} \\n Pred Label: {predicted_class}\")\n",
    "plt.axis('off')\n",
    "plt.show()"
   ]
  },
  {
   "cell_type": "markdown",
   "id": "e6b83dd7",
   "metadata": {},
   "source": [
    "## 10. Build Confusion Matrix\n",
    "---\n",
    "The final step, to properly evaluate model performance, display the comparison of predicted values and actual values with a **confusion matrix**. A confusion matrix is an $N \\times N$ table that summarizes the number of correct and incorrect predictions that a classification model made. For a multi-class classification problem it helps to identify patterns of mistakes. "
   ]
  },
  {
   "cell_type": "code",
   "execution_count": null,
   "id": "453b1c5e",
   "metadata": {},
   "outputs": [],
   "source": [
    "from sklearn.metrics import confusion_matrix\n",
    "import seaborn as sns\n",
    "# source: https://medium.com/@dtuk81/confusion-matrix-visualization-fc31e3f30fea\n",
    "def make_confusion_matrix(cf,\n",
    "                          group_names=None,\n",
    "                          categories='auto',\n",
    "                          count=True,\n",
    "                          percent=True,\n",
    "                          cbar=True,\n",
    "                          xyticks=True,\n",
    "                          xyplotlabels=True,\n",
    "                          sum_stats=True,\n",
    "                          figsize=None,\n",
    "                          cmap='Blues',\n",
    "                          title=None):\n",
    "    '''\n",
    "    This function will make a pretty plot of an sklearn Confusion Matrix cm using a Seaborn heatmap visualization.\n",
    "\n",
    "    Arguments\n",
    "    ---------\n",
    "    cf:            confusion matrix to be passed in\n",
    "\n",
    "    group_names:   List of strings that represent the labels row by row to be shown in each square.\n",
    "\n",
    "    categories:    List of strings containing the categories to be displayed on the x,y axis. Default is 'auto'\n",
    "\n",
    "    count:         If True, show the raw number in the confusion matrix. Default is True.\n",
    "\n",
    "    normalize:     If True, show the proportions for each category. Default is True.\n",
    "\n",
    "    cbar:          If True, show the color bar. The cbar values are based off the values in the confusion matrix.\n",
    "                   Default is True.\n",
    "\n",
    "    xyticks:       If True, show x and y ticks. Default is True.\n",
    "\n",
    "    xyplotlabels:  If True, show 'True Label' and 'Predicted Label' on the figure. Default is True.\n",
    "\n",
    "    sum_stats:     If True, display summary statistics below the figure. Default is True.\n",
    "\n",
    "    figsize:       Tuple representing the figure size. Default will be the matplotlib rcParams value.\n",
    "\n",
    "    cmap:          Colormap of the values displayed from matplotlib.pyplot.cm. Default is 'Blues'\n",
    "                   See http://matplotlib.org/examples/color/colormaps_reference.html\n",
    "                   \n",
    "    title:         Title for the heatmap. Default is None.\n",
    "\n",
    "    '''\n",
    "\n",
    "\n",
    "    # CODE TO GENERATE TEXT INSIDE EACH SQUARE\n",
    "    blanks = ['' for i in range(cf.size)]\n",
    "\n",
    "    if group_names and len(group_names)==cf.size:\n",
    "        group_labels = [\"{}\\n\".format(value) for value in group_names]\n",
    "    else:\n",
    "        group_labels = blanks\n",
    "\n",
    "    if count:\n",
    "        group_counts = [\"{0:0.0f}\\n\".format(value) for value in cf.flatten()]\n",
    "    else:\n",
    "        group_counts = blanks\n",
    "\n",
    "    if percent:\n",
    "        group_percentages = [\"{0:.2%}\".format(value) for value in cf.flatten()/np.sum(cf)]\n",
    "    else:\n",
    "        group_percentages = blanks\n",
    "\n",
    "    box_labels = [f\"{v1}{v2}{v3}\".strip() for v1, v2, v3 in zip(group_labels,group_counts,group_percentages)]\n",
    "    box_labels = np.asarray(box_labels).reshape(cf.shape[0],cf.shape[1])\n",
    "\n",
    "\n",
    "    # CODE TO GENERATE SUMMARY STATISTICS & TEXT FOR SUMMARY STATS\n",
    "    if sum_stats:\n",
    "        #Accuracy is sum of diagonal divided by total observations\n",
    "        accuracy  = np.trace(cf) / float(np.sum(cf))\n",
    "\n",
    "        #if it is a binary confusion matrix, show some more stats\n",
    "        if len(cf)==2:\n",
    "            #Metrics for Binary Confusion Matrices\n",
    "            precision = cf[1,1] / sum(cf[:,1])\n",
    "            recall    = cf[1,1] / sum(cf[1,:])\n",
    "            f1_score  = 2*precision*recall / (precision + recall)\n",
    "            stats_text = \"\\n\\nAccuracy={:0.3f}\\nPrecision={:0.3f}\\nRecall={:0.3f}\\nF1 Score={:0.3f}\".format(\n",
    "                accuracy,precision,recall,f1_score)\n",
    "        else:\n",
    "            stats_text = \"\\n\\nAccuracy={:0.3f}\".format(accuracy)\n",
    "    else:\n",
    "        stats_text = \"\"\n",
    "\n",
    "\n",
    "    # SET FIGURE PARAMETERS ACCORDING TO OTHER ARGUMENTS\n",
    "    if figsize==None:\n",
    "        #Get default figure size if not set\n",
    "        figsize = plt.rcParams.get('figure.figsize')\n",
    "\n",
    "    if xyticks==False:\n",
    "        #Do not show categories if xyticks is False\n",
    "        categories=False\n",
    "\n",
    "\n",
    "    # MAKE THE HEATMAP VISUALIZATION\n",
    "    plt.figure(figsize=figsize)\n",
    "    sns.heatmap(cf,annot=box_labels,fmt=\"\",cmap=cmap,cbar=cbar,xticklabels=categories,yticklabels=categories)\n",
    "\n",
    "    if xyplotlabels:\n",
    "        plt.ylabel('True label')\n",
    "        plt.xlabel('Predicted label' + stats_text)\n",
    "    else:\n",
    "        plt.xlabel(stats_text)\n",
    "    \n",
    "    if title:\n",
    "        plt.title(title)"
   ]
  },
  {
   "cell_type": "markdown",
   "id": "fa886dcc",
   "metadata": {},
   "source": [
    "Here in the confusion matrix, it can be clearly seen how much the model missclassifies, and how much it correctly classifies hand drawn digits"
   ]
  },
  {
   "cell_type": "code",
   "execution_count": 60,
   "id": "4de290c0",
   "metadata": {},
   "outputs": [
    {
     "data": {
      "image/png": "[encoded data removed]",
      "text/plain": [
       "<Figure size 800x600 with 2 Axes>"
      ]
     },
     "metadata": {},
     "output_type": "display_data"
    }
   ],
   "source": [
    "preds = softmax(model.ForwardProp(X_test))\n",
    "y_true_cls = np.argmax(y_test, axis=1)\n",
    "y_pred_cls = np.argmax(preds, axis=1)\n",
    "cf_matrix = confusion_matrix(y_true_cls, y_pred_cls)\n",
    "make_confusion_matrix(cf_matrix, figsize=(8,6), cbar=True,sum_stats=True)"
   ]
  },
  {
   "cell_type": "markdown",
   "id": "a4d93877",
   "metadata": {},
   "source": [
    "## Credits\n",
    "[Github- Mnist Dataset](https://github.com/cvdfoundation/mnist?tab=readme-ov-file)\n",
    "\n",
    "[Dtuk - Confusion Matrix](https://medium.com/@dtuk81/confusion-matrix-visualization-fc31e3f30fea)\n",
    "\n",
    "[PapersWithCode - MNIST Dataset Explanation](https://paperswithcode.com/dataset/mnist)\n",
    "\n",
    "[Google - One-hot encoding](https://developers.google.com/machine-learning/crash-course/categorical-data/one-hot-encoding)\n",
    "\n",
    "[Google - Neural Network](https://developers.google.com/machine-learning/glossary#neural_network)\n",
    "\n",
    "[Google - Activation Function](https://developers-dot-devsite-v2-prod.appspot.com/machine-learning/glossary)\n",
    "\n",
    "[MachineLearningMastery - Gradient Descent](https://machinelearningmastery.com/gentle-introduction-mini-batch-gradient-descent-configure-batch-size/)"
   ]
  }
 ],
 "metadata": {
  "kernelspec": {
   "display_name": ".venv",
   "language": "python",
   "name": "python3"
  },
  "language_info": {
   "codemirror_mode": {
    "name": "ipython",
    "version": 3
   },
   "file_extension": ".py",
   "mimetype": "text/x-python",
   "name": "python",
   "nbconvert_exporter": "python",
   "pygments_lexer": "ipython3",
   "version": "3.11.2"
  }
 },
 "nbformat": 4,
 "nbformat_minor": 5
}
