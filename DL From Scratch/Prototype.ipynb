{
 "cells": [
  {
   "cell_type": "code",
   "execution_count": 575,
   "id": "e1bc106d",
   "metadata": {},
   "outputs": [],
   "source": [
    "import os\n",
    "import requests\n",
    "import zipfile\n",
    "import numpy as np\n",
    "from pathlib import Path\n",
    "import matplotlib.pyplot as plt"
   ]
  },
  {
   "cell_type": "code",
   "execution_count": 576,
   "id": "a1ece16c",
   "metadata": {},
   "outputs": [],
   "source": [
    "# https://github.com/cvdfoundation/mnist?tab=readme-ov-file\n",
    "DATA_DIR = \"/app/dataset/MNIST\"\n",
    "os.makedirs(DATA_DIR, exist_ok=True)"
   ]
  },
  {
   "cell_type": "code",
   "execution_count": 577,
   "id": "10cb955d",
   "metadata": {},
   "outputs": [],
   "source": [
    "import gzip\n",
    "import shutil\n",
    "\n",
    "\n",
    "def download_mnist():\n",
    "    MNIST_FILES = {\n",
    "    \"train_images\": \"https://storage.googleapis.com/cvdf-datasets/mnist/train-images-idx3-ubyte.gz\",\n",
    "    \"train_labels\": \"https://storage.googleapis.com/cvdf-datasets/mnist/train-labels-idx1-ubyte.gz\",\n",
    "    \"test_images\":  \"https://storage.googleapis.com/cvdf-datasets/mnist/t10k-images-idx3-ubyte.gz\",\n",
    "    \"test_labels\":  \"https://storage.googleapis.com/cvdf-datasets/mnist/t10k-labels-idx1-ubyte.gz\",\n",
    "    }\n",
    "    for name, url in MNIST_FILES.items():\n",
    "        out_path = os.path.join(DATA_DIR, url.split('/')[-1])\n",
    "        result_path = out_path[:-3] \n",
    "        if not os.path.exists(result_path):\n",
    "            if not os.path.exists(out_path):\n",
    "                print(f\"Downloading {name}...\")\n",
    "                r = requests.get(url)\n",
    "                with open(out_path, 'wb') as f:\n",
    "                    f.write(r.content)\n",
    "            else:\n",
    "                print(f\"{name} already downloaded.\")\n",
    "            print(f\"Unzipping {out_path}...\")\n",
    "            with gzip.open(out_path, 'rb') as f_in:\n",
    "                with open(result_path, 'wb') as f_out:\n",
    "                    shutil.copyfileobj(f_in, f_out)\n",
    "        \n",
    "        else:\n",
    "            print(f\"{name} already unzipped.\")"
   ]
  },
  {
   "cell_type": "code",
   "execution_count": 578,
   "id": "0ee1b841",
   "metadata": {},
   "outputs": [
    {
     "name": "stdout",
     "output_type": "stream",
     "text": [
      "train_images already unzipped.\n",
      "train_labels already unzipped.\n",
      "test_images already unzipped.\n",
      "test_labels already unzipped.\n"
     ]
    }
   ],
   "source": [
    "download_mnist()"
   ]
  },
  {
   "cell_type": "code",
   "execution_count": 579,
   "id": "47042820",
   "metadata": {},
   "outputs": [
    {
     "name": "stdout",
     "output_type": "stream",
     "text": [
      "/app/dataset/MNIST/train-images-idx3-ubyte\n",
      "/app/dataset/MNIST/t10k-images-idx3-ubyte\n"
     ]
    }
   ],
   "source": [
    "def loadMNIST( prefix, folder ):\n",
    "    intType = np.dtype( 'int32' ).newbyteorder( '>' )\n",
    "    nMetaDataBytes = 4 * intType.itemsize\n",
    "\n",
    "    data = np.fromfile( folder + \"/\" + prefix + '-images-idx3-ubyte', dtype = 'ubyte' )\n",
    "    print(folder + \"/\" + prefix + '-images-idx3-ubyte')\n",
    "    magicBytes, nImages, width, height = np.frombuffer( data[:nMetaDataBytes].tobytes(), intType )\n",
    "    data = data[nMetaDataBytes:].astype( dtype = 'float32' ).reshape( [ nImages, width, height ] )\n",
    "\n",
    "    labels = np.fromfile( folder + \"/\" + prefix + '-labels-idx1-ubyte',\n",
    "                          dtype = 'ubyte' )[2 * intType.itemsize:]\n",
    "\n",
    "    return data, labels\n",
    "\n",
    "trainingImages, trainingLabels = loadMNIST( \"train\", \"/app/dataset/MNIST\" )\n",
    "testImages, testLabels = loadMNIST( \"t10k\", \"/app/dataset/MNIST\" )"
   ]
  },
  {
   "cell_type": "code",
   "execution_count": 580,
   "id": "8f6c6dcd",
   "metadata": {},
   "outputs": [],
   "source": [
    "def toHotEncoding( classification ):\n",
    "    # emulates the functionality of tf.keras.utils.to_categorical( y )\n",
    "    classification = classification.astype(int)  # Ensure integer class labels\n",
    "    num_samples = classification.shape[0]\n",
    "    num_classes = np.max(classification) + 1\n",
    "    hotEncoding = np.zeros((num_samples, num_classes), dtype=np.float32)\n",
    "    hotEncoding[np.arange(num_samples), classification] = 1\n",
    "    return hotEncoding\n"
   ]
  },
  {
   "cell_type": "code",
   "execution_count": 581,
   "id": "222c9c80",
   "metadata": {},
   "outputs": [
    {
     "name": "stdout",
     "output_type": "stream",
     "text": [
      "(60000, 784):(60000, 10)\n"
     ]
    }
   ],
   "source": [
    "X_train = trainingImages / 255.0\n",
    "X_train = X_train.reshape(X_train.shape[0], -1)\n",
    "\n",
    "X_test = testImages / 255.0\n",
    "X_test = X_test.reshape(X_test.shape[0], -1)\n",
    "\n",
    "\n",
    "y_train = toHotEncoding( trainingLabels )\n",
    "y_test = toHotEncoding( testLabels )\n",
    "\n",
    "print(f\"{X_train.shape}:{y_train.shape}\")"
   ]
  },
  {
   "cell_type": "code",
   "execution_count": 582,
   "id": "c5b6f8b6",
   "metadata": {},
   "outputs": [
    {
     "data": {
      "image/png": "[encoded data removed]",
      "text/plain": [
       "<Figure size 640x480 with 1 Axes>"
      ]
     },
     "metadata": {},
     "output_type": "display_data"
    }
   ],
   "source": [
    "i = 0\n",
    "\n",
    "image = trainingImages[i]  \n",
    "label = trainingLabels[i]\n",
    "\n",
    "plt.imshow(image, cmap='gray')\n",
    "plt.title(f\"Label: {label}\")\n",
    "plt.axis('off')\n",
    "plt.show()"
   ]
  },
  {
   "cell_type": "code",
   "execution_count": 583,
   "id": "eaa3d092",
   "metadata": {},
   "outputs": [],
   "source": [
    "\n",
    "# https://datascience.stackexchange.com/questions/75855/what-types-of-matrix-multiplication-are-used-in-machine-learning-when-are-they\n",
    "# I wanna be able to stack layers\n",
    "# idea is if tthis get passed to antoher then it will build the neural net\n",
    "# build weight matrix\n",
    "# get frontprop calc to work\n",
    "def softmax(x):\n",
    "    exps = np.exp(x - np.max(x, axis=-1, keepdims=True))\n",
    "    return exps / np.sum(exps, axis=-1, keepdims=True)\n",
    "\n",
    "def relu(x):\n",
    "    return np.maximum(0, x)\n",
    "\n",
    "def sigmoid(x):\n",
    "    return np.where(\n",
    "        x >= 0,\n",
    "        1 / (1 + np.exp(-x)),\n",
    "        np.exp(x) / (1 + np.exp(x))\n",
    "    )\n",
    "\n",
    "def sigmoid_derivative(x):\n",
    "    sig = sigmoid(x)\n",
    "    return sig * (1 - sig)\n",
    "\n",
    "def tanh(x):\n",
    "    return np.tanh(x)\n",
    "\n",
    "def binary_cross_entropy(y_pred, y_true, epsilon=1e-12):\n",
    "    y_pred = np.clip(y_pred, epsilon, 1. - epsilon)\n",
    "    loss = - (y_true * np.log(y_pred) + (1 - y_true) * np.log(1 - y_pred))\n",
    "    return np.mean(loss)\n",
    "\n",
    "def binary_cross_entropy_derivative(y_pred, y_true, epsilon=1e-12):\n",
    "    y_pred = np.clip(y_pred, epsilon, 1 - epsilon)\n",
    "    return -(y_true / y_pred) + (1 - y_true) / (1 - y_pred)\n",
    "\n",
    "def categorical_cross_entropy(y_pred, y_true,  epsilon=1e-8):\n",
    "    y_pred = np.clip(y_pred, epsilon, 1 - epsilon)\n",
    "    loss = -np.sum(y_true * np.log(y_pred)) / y_true.shape[0]\n",
    "    return loss\n",
    "\n",
    "activation_map = {\n",
    "    'sigmoid': (sigmoid, sigmoid_derivative),\n",
    "    'relu': (relu, lambda x: (x > 0).astype(float)),\n",
    "    'tanh': (tanh, lambda x: 1 - np.tanh(x)**2),\n",
    "    None: (lambda x: x, lambda x: 1)  # No activation\n",
    "}\n",
    "\n",
    "class LinearLayer():\n",
    "    def __init__(self, inFeature, outFeature, activationFunction=None) -> None:\n",
    "        # self.W=np.random.randint(10, size=(outFeature, inFeature)).astype(np.float64)\n",
    "        self.W = np.random.randn(outFeature, inFeature) * 0.01  # small Gaussian\n",
    "        self.b = np.zeros((1, inFeature), dtype=np.float64)\n",
    "        self.trainable=True\n",
    "        self.activation_name = activationFunction\n",
    "        self.activation, self.activation_deriv = activation_map.get(\n",
    "            self.activation_name, (lambda x: x, lambda x: 1)\n",
    "        )\n",
    "        self.dEdx=0\n",
    "        self.dEdy=0\n",
    "        self.y=0\n",
    "        # print(self.W)\n",
    "    def Forward(self, X):\n",
    "        self.X = X \n",
    "        # print(f\"{X.shape}:{self.W.shape}\")\n",
    "        output=X@self.W+self.b\n",
    "       \n",
    "        output = self.activation(output)\n",
    "        # print(output)\n",
    "        self.y=output\n",
    "        return self.y\n",
    "    def Backward(self, y, lr=0.01):\n",
    "        self.dEdy=self.y-y\n",
    "        dydx=self.activation_deriv(self.y)\n",
    "        self.dEdx= dydx*self.dEdy\n",
    "        # find out how the weight and bias affect the error\n",
    "        dEdW=self.X.T@self.dEdx\n",
    "        dEdb = np.sum(self.dEdx, axis=0, keepdims=True)\n",
    "\n",
    "        self.W-=lr*dEdW\n",
    "        self.b-=lr*dEdb\n",
    "        return self.dEdx @ self.W.T   \n",
    "    def BackwardHidden(self, dEdy, lr=0.01):\n",
    "        # honestly, dont hardcode it like this, but I got no choice\n",
    "        dydx=self.activation_deriv(self.y)\n",
    "        self.dEdx= dydx*dEdy\n",
    "        # find out how the weight and bias affect the error\n",
    "        dEdW=self.X.T@self.dEdx\n",
    "        dEdb = np.sum(self.dEdx, axis=0, keepdims=True)\n",
    "\n",
    "        self.W-=lr*dEdW\n",
    "        self.b-=lr*dEdb\n",
    "        return self.dEdx @ self.W.T \n",
    "    def Reset():\n",
    "        pass\n",
    "    def Build():\n",
    "        # we want to just cache the derivative of the function\n",
    "        pass\n",
    "\n",
    "\n",
    "\n",
    "class Model():\n",
    "    def __init__(self, layers) -> None:\n",
    "        self.layers=layers\n",
    "    def ForwardProp(self, X):\n",
    "        for i in range(len(self.layers)):\n",
    "            X=self.layers[i].Forward(X)\n",
    "        return X\n",
    "    def BackwardProp(self, y, learningRate=0.01):\n",
    "        print(\"running backprop\")\n",
    "        for i, layer in enumerate(self.layers[::-1]):\n",
    "            if i == 0:\n",
    "                dEdx = layer.Backward(y, lr=learningRate)\n",
    "            else:\n",
    "                dEdx = layer.BackwardHidden(dEdx, lr=learningRate)\n",
    "\n",
    "    "
   ]
  },
  {
   "cell_type": "code",
   "execution_count": 584,
   "id": "0e12eb66",
   "metadata": {},
   "outputs": [],
   "source": [
    "layerSequence = [\n",
    "    LinearLayer(inFeature=128, outFeature=784, activationFunction=\"sigmoid\"),\n",
    "    LinearLayer(inFeature=64, outFeature=128, activationFunction=\"sigmoid\"),\n",
    "    LinearLayer(inFeature=10, outFeature=64)  # final logits (softmax applied outside)\n",
    "]\n",
    "model=Model(layerSequence)"
   ]
  },
  {
   "cell_type": "code",
   "execution_count": 585,
   "id": "57499f72",
   "metadata": {},
   "outputs": [
    {
     "name": "stdout",
     "output_type": "stream",
     "text": [
      "True label: 1, Predicted label: 4\n"
     ]
    }
   ],
   "source": [
    "i = 3\n",
    "image = trainingImages[i].reshape(1, -1) / 255.0  \n",
    "label = trainingLabels[i]\n",
    "y_logits = model.ForwardProp(image)\n",
    "y_pred = softmax(y_logits)\n",
    "\n",
    "predicted_class = np.argmax(y_pred)\n",
    "\n",
    "print(f\"True label: {label}, Predicted label: {predicted_class}\")"
   ]
  },
  {
   "cell_type": "code",
   "execution_count": null,
   "id": "f02a3aa2",
   "metadata": {},
   "outputs": [
    {
     "name": "stdout",
     "output_type": "stream",
     "text": [
      "Epoch 1\n",
      "(784,)\n",
      "running backprop\n"
     ]
    },
    {
     "name": "stderr",
     "output_type": "stream",
     "text": [
      "/tmp/ipykernel_1092743/996587337.py:17: RuntimeWarning: overflow encountered in exp\n",
      "  np.exp(x) / (1 + np.exp(x))\n",
      "/tmp/ipykernel_1092743/996587337.py:17: RuntimeWarning: invalid value encountered in divide\n",
      "  np.exp(x) / (1 + np.exp(x))\n"
     ]
    },
    {
     "ename": "ValueError",
     "evalue": "matmul: Input operand 1 has a mismatch in its core dimension 0, with gufunc signature (n?,k),(k,m?)->(n?,m?) (size 60000 is different from 1)",
     "output_type": "error",
     "traceback": [
      "\u001b[0;31m---------------------------------------------------------------------------\u001b[0m",
      "\u001b[0;31mValueError\u001b[0m                                Traceback (most recent call last)",
      "Cell \u001b[0;32mIn[588], line 20\u001b[0m\n\u001b[1;32m     17\u001b[0m losses\u001b[38;5;241m.\u001b[39mappend(loss)\n\u001b[1;32m     19\u001b[0m \u001b[38;5;66;03m# Backward pass and update weights\u001b[39;00m\n\u001b[0;32m---> 20\u001b[0m \u001b[43mmodel\u001b[49m\u001b[38;5;241;43m.\u001b[39;49m\u001b[43mBackwardProp\u001b[49m\u001b[43m(\u001b[49m\u001b[43my_train\u001b[49m\u001b[43m,\u001b[49m\u001b[43m \u001b[49m\u001b[43mlearning_rate\u001b[49m\u001b[43m)\u001b[49m\n\u001b[1;32m     22\u001b[0m \u001b[38;5;28mprint\u001b[39m(\u001b[38;5;124mf\u001b[39m\u001b[38;5;124m\"\u001b[39m\u001b[38;5;124mLoss: \u001b[39m\u001b[38;5;132;01m{\u001b[39;00mloss\u001b[38;5;132;01m:\u001b[39;00m\u001b[38;5;124m.4f\u001b[39m\u001b[38;5;132;01m}\u001b[39;00m\u001b[38;5;124m\"\u001b[39m)\n",
      "Cell \u001b[0;32mIn[583], line 112\u001b[0m, in \u001b[0;36mModel.BackwardProp\u001b[0;34m(self, y, learningRate)\u001b[0m\n\u001b[1;32m    110\u001b[0m \u001b[38;5;28;01mfor\u001b[39;00m i, layer \u001b[38;5;129;01min\u001b[39;00m \u001b[38;5;28menumerate\u001b[39m(\u001b[38;5;28mself\u001b[39m\u001b[38;5;241m.\u001b[39mlayers[::\u001b[38;5;241m-\u001b[39m\u001b[38;5;241m1\u001b[39m]):\n\u001b[1;32m    111\u001b[0m     \u001b[38;5;28;01mif\u001b[39;00m i \u001b[38;5;241m==\u001b[39m \u001b[38;5;241m0\u001b[39m:\n\u001b[0;32m--> 112\u001b[0m         dEdx \u001b[38;5;241m=\u001b[39m \u001b[43mlayer\u001b[49m\u001b[38;5;241;43m.\u001b[39;49m\u001b[43mBackward\u001b[49m\u001b[43m(\u001b[49m\u001b[43my\u001b[49m\u001b[43m,\u001b[49m\u001b[43m \u001b[49m\u001b[43mlr\u001b[49m\u001b[38;5;241;43m=\u001b[39;49m\u001b[43mlearningRate\u001b[49m\u001b[43m)\u001b[49m\n\u001b[1;32m    113\u001b[0m     \u001b[38;5;28;01melse\u001b[39;00m:\n\u001b[1;32m    114\u001b[0m         dEdx \u001b[38;5;241m=\u001b[39m layer\u001b[38;5;241m.\u001b[39mBackwardHidden(dEdx, lr\u001b[38;5;241m=\u001b[39mlearningRate)\n",
      "Cell \u001b[0;32mIn[583], line 76\u001b[0m, in \u001b[0;36mLinearLayer.Backward\u001b[0;34m(self, y, lr)\u001b[0m\n\u001b[1;32m     74\u001b[0m \u001b[38;5;28mself\u001b[39m\u001b[38;5;241m.\u001b[39mdEdx\u001b[38;5;241m=\u001b[39m dydx\u001b[38;5;241m*\u001b[39m\u001b[38;5;28mself\u001b[39m\u001b[38;5;241m.\u001b[39mdEdy\n\u001b[1;32m     75\u001b[0m \u001b[38;5;66;03m# find out how the weight and bias affect the error\u001b[39;00m\n\u001b[0;32m---> 76\u001b[0m dEdW\u001b[38;5;241m=\u001b[39m\u001b[38;5;28;43mself\u001b[39;49m\u001b[38;5;241;43m.\u001b[39;49m\u001b[43mX\u001b[49m\u001b[38;5;241;43m.\u001b[39;49m\u001b[43mT\u001b[49m\u001b[38;5;129;43m@self\u001b[39;49m\u001b[38;5;241;43m.\u001b[39;49m\u001b[43mdEdx\u001b[49m\n\u001b[1;32m     77\u001b[0m dEdb \u001b[38;5;241m=\u001b[39m np\u001b[38;5;241m.\u001b[39msum(\u001b[38;5;28mself\u001b[39m\u001b[38;5;241m.\u001b[39mdEdx, axis\u001b[38;5;241m=\u001b[39m\u001b[38;5;241m0\u001b[39m, keepdims\u001b[38;5;241m=\u001b[39m\u001b[38;5;28;01mTrue\u001b[39;00m)\n\u001b[1;32m     79\u001b[0m \u001b[38;5;28mself\u001b[39m\u001b[38;5;241m.\u001b[39mW\u001b[38;5;241m-\u001b[39m\u001b[38;5;241m=\u001b[39mlr\u001b[38;5;241m*\u001b[39mdEdW\n",
      "\u001b[0;31mValueError\u001b[0m: matmul: Input operand 1 has a mismatch in its core dimension 0, with gufunc signature (n?,k),(k,m?)->(n?,m?) (size 60000 is different from 1)"
     ]
    }
   ],
   "source": [
    "epochs = 10\n",
    "learning_rate = 0.01\n",
    "losses = []\n",
    "\n",
    "# Training loop\n",
    "for epoch in range(epochs):\n",
    "    print(f\"Epoch {epoch + 1}\")\n",
    "    \n",
    "    # Forward pass\n",
    "    y_logits = model.ForwardProp(X_train)\n",
    "    print(X_train.shape)\n",
    "    y_pred = softmax(y_logits)  # Apply softmax to get probabilities\n",
    "\n",
    "    # Compute categorical cross-entropy loss\n",
    "    loss = categorical_cross_entropy(y_pred, y_train)\n",
    "    losses.append(loss)\n",
    "    \n",
    "    # Backward pass and update weights\n",
    "    model.BackwardProp(y_train, learning_rate)\n",
    "\n",
    "    print(f\"Loss: {loss:.4f}\")"
   ]
  },
  {
   "cell_type": "code",
   "execution_count": 587,
   "id": "13ca6f4c",
   "metadata": {},
   "outputs": [
    {
     "data": {
      "image/png": "[encoded data removed]",
      "text/plain": [
       "<Figure size 640x480 with 1 Axes>"
      ]
     },
     "metadata": {},
     "output_type": "display_data"
    }
   ],
   "source": [
    "plt.plot(losses)\n",
    "plt.title(\"Training Loss over Epochs\")\n",
    "plt.xlabel(\"Epoch\")\n",
    "plt.ylabel(\"Loss\")\n",
    "plt.grid(True)\n",
    "plt.show()"
   ]
  }
 ],
 "metadata": {
  "kernelspec": {
   "display_name": ".venv",
   "language": "python",
   "name": "python3"
  },
  "language_info": {
   "codemirror_mode": {
    "name": "ipython",
    "version": 3
   },
   "file_extension": ".py",
   "mimetype": "text/x-python",
   "name": "python",
   "nbconvert_exporter": "python",
   "pygments_lexer": "ipython3",
   "version": "3.11.2"
  }
 },
 "nbformat": 4,
 "nbformat_minor": 5
}
