{
 "cells": [
  {
   "cell_type": "code",
   "execution_count": 40,
   "id": "e1bc106d",
   "metadata": {},
   "outputs": [],
   "source": [
    "import os\n",
    "import requests\n",
    "import zipfile\n",
    "import numpy as np\n",
    "from pathlib import Path\n",
    "import matplotlib.pyplot as plt"
   ]
  },
  {
   "cell_type": "code",
   "execution_count": 41,
   "id": "a1ece16c",
   "metadata": {},
   "outputs": [],
   "source": [
    "# https://github.com/cvdfoundation/mnist?tab=readme-ov-file\n",
    "DATA_DIR = \"/app/dataset/MNIST\"\n",
    "os.makedirs(DATA_DIR, exist_ok=True)"
   ]
  },
  {
   "cell_type": "code",
   "execution_count": 42,
   "id": "10cb955d",
   "metadata": {},
   "outputs": [],
   "source": [
    "import gzip\n",
    "import shutil\n",
    "\n",
    "\n",
    "def download_mnist():\n",
    "    MNIST_FILES = {\n",
    "    \"train_images\": \"https://storage.googleapis.com/cvdf-datasets/mnist/train-images-idx3-ubyte.gz\",\n",
    "    \"train_labels\": \"https://storage.googleapis.com/cvdf-datasets/mnist/train-labels-idx1-ubyte.gz\",\n",
    "    \"test_images\":  \"https://storage.googleapis.com/cvdf-datasets/mnist/t10k-images-idx3-ubyte.gz\",\n",
    "    \"test_labels\":  \"https://storage.googleapis.com/cvdf-datasets/mnist/t10k-labels-idx1-ubyte.gz\",\n",
    "    }\n",
    "    for name, url in MNIST_FILES.items():\n",
    "        out_path = os.path.join(DATA_DIR, url.split('/')[-1])\n",
    "        result_path = out_path[:-3] \n",
    "        if not os.path.exists(result_path):\n",
    "            if not os.path.exists(out_path):\n",
    "                print(f\"Downloading {name}...\")\n",
    "                r = requests.get(url)\n",
    "                with open(out_path, 'wb') as f:\n",
    "                    f.write(r.content)\n",
    "            else:\n",
    "                print(f\"{name} already downloaded.\")\n",
    "            print(f\"Unzipping {out_path}...\")\n",
    "            with gzip.open(out_path, 'rb') as f_in:\n",
    "                with open(result_path, 'wb') as f_out:\n",
    "                    shutil.copyfileobj(f_in, f_out)\n",
    "        \n",
    "        else:\n",
    "            print(f\"{name} already unzipped.\")"
   ]
  },
  {
   "cell_type": "code",
   "execution_count": 43,
   "id": "0ee1b841",
   "metadata": {},
   "outputs": [
    {
     "name": "stdout",
     "output_type": "stream",
     "text": [
      "train_images already unzipped.\n",
      "train_labels already unzipped.\n",
      "test_images already unzipped.\n",
      "test_labels already unzipped.\n"
     ]
    }
   ],
   "source": [
    "download_mnist()"
   ]
  },
  {
   "cell_type": "code",
   "execution_count": 44,
   "id": "47042820",
   "metadata": {},
   "outputs": [
    {
     "name": "stdout",
     "output_type": "stream",
     "text": [
      "/app/dataset/MNIST/train-images-idx3-ubyte\n",
      "/app/dataset/MNIST/t10k-images-idx3-ubyte\n"
     ]
    }
   ],
   "source": [
    "def loadMNIST( prefix, folder ):\n",
    "    intType = np.dtype( 'int32' ).newbyteorder( '>' )\n",
    "    nMetaDataBytes = 4 * intType.itemsize\n",
    "\n",
    "    data = np.fromfile( folder + \"/\" + prefix + '-images-idx3-ubyte', dtype = 'ubyte' )\n",
    "    print(folder + \"/\" + prefix + '-images-idx3-ubyte')\n",
    "    magicBytes, nImages, width, height = np.frombuffer( data[:nMetaDataBytes].tobytes(), intType )\n",
    "    data = data[nMetaDataBytes:].astype( dtype = 'float32' ).reshape( [ nImages, width, height ] )\n",
    "\n",
    "    labels = np.fromfile( folder + \"/\" + prefix + '-labels-idx1-ubyte',\n",
    "                          dtype = 'ubyte' )[2 * intType.itemsize:]\n",
    "\n",
    "    return data, labels\n",
    "\n",
    "trainingImages, trainingLabels = loadMNIST( \"train\", \"/app/dataset/MNIST\" )\n",
    "testImages, testLabels = loadMNIST( \"t10k\", \"/app/dataset/MNIST\" )"
   ]
  },
  {
   "cell_type": "code",
   "execution_count": 45,
   "id": "8f6c6dcd",
   "metadata": {},
   "outputs": [],
   "source": [
    "def toHotEncoding( classification ):\n",
    "    # emulates the functionality of tf.keras.utils.to_categorical( y )\n",
    "    classification = classification.astype(int)  # Ensure integer class labels\n",
    "    num_samples = classification.shape[0]\n",
    "    num_classes = np.max(classification) + 1\n",
    "    hotEncoding = np.zeros((num_samples, num_classes), dtype=np.float32)\n",
    "    hotEncoding[np.arange(num_samples), classification] = 1\n",
    "    return hotEncoding\n"
   ]
  },
  {
   "cell_type": "code",
   "execution_count": 46,
   "id": "222c9c80",
   "metadata": {},
   "outputs": [
    {
     "name": "stdout",
     "output_type": "stream",
     "text": [
      "(60000, 784):(60000, 10)\n"
     ]
    }
   ],
   "source": [
    "X_train = trainingImages / 255.0\n",
    "X_train = X_train.reshape(X_train.shape[0], -1)\n",
    "\n",
    "X_test = testImages / 255.0\n",
    "X_test = X_test.reshape(X_test.shape[0], -1)\n",
    "\n",
    "\n",
    "y_train = toHotEncoding( trainingLabels )\n",
    "y_test = toHotEncoding( testLabels )\n",
    "\n",
    "print(f\"{X_train.shape}:{y_train.shape}\")"
   ]
  },
  {
   "cell_type": "code",
   "execution_count": 47,
   "id": "c5b6f8b6",
   "metadata": {},
   "outputs": [
    {
     "data": {
      "image/png": "[encoded data removed]",
      "text/plain": [
       "<Figure size 640x480 with 1 Axes>"
      ]
     },
     "metadata": {},
     "output_type": "display_data"
    }
   ],
   "source": [
    "i = 0\n",
    "\n",
    "image = trainingImages[i]  \n",
    "label = trainingLabels[i]\n",
    "\n",
    "plt.imshow(image, cmap='gray')\n",
    "plt.title(f\"Label: {label}\")\n",
    "plt.axis('off')\n",
    "plt.show()"
   ]
  },
  {
   "cell_type": "code",
   "execution_count": 48,
   "id": "eaa3d092",
   "metadata": {},
   "outputs": [],
   "source": [
    "\n",
    "# https://datascience.stackexchange.com/questions/75855/what-types-of-matrix-multiplication-are-used-in-machine-learning-when-are-they\n",
    "# I wanna be able to stack layers\n",
    "# idea is if tthis get passed to antoher then it will build the neural net\n",
    "# build weight matrix\n",
    "# get frontprop calc to work\n",
    "\n",
    "def softmax(x):\n",
    "    exps = np.exp(x - np.max(x, axis=-1, keepdims=True))\n",
    "    return exps / np.sum(exps, axis=-1, keepdims=True)\n",
    "\n",
    "def relu(x):\n",
    "    return np.maximum(0, x)\n",
    "\n",
    "def relu_derivative(x):\n",
    "    return np.where(x > 0, 1, 0).astype(np.float64)\n",
    "\n",
    "def sigmoid(x):\n",
    "    return np.where(\n",
    "        x >= 0,\n",
    "        1 / (1 + np.exp(-x)),\n",
    "        np.exp(x) / (1 + np.exp(x))\n",
    "    )\n",
    "\n",
    "def sigmoid_derivative(x):\n",
    "    sig = sigmoid(x)\n",
    "    return sig * (1 - sig)\n",
    "\n",
    "def leaky_relu(x, alpha=0.01):\n",
    "    return np.where(x > 0, x, alpha * x)\n",
    "\n",
    "def leaky_relu_derivative(x, alpha=0.01):\n",
    "    dx = np.ones_like(x)\n",
    "    dx[x < 0] = alpha\n",
    "    return dx\n",
    "\n",
    "def tanh(x):\n",
    "    return np.tanh(x)\n",
    "\n",
    "def tanh_derivative(x):\n",
    "    return 1 - np.tanh(x) ** 2\n",
    "\n",
    "def binary_cross_entropy(y_pred, y_true, epsilon=1e-12):\n",
    "    y_pred = np.clip(y_pred, epsilon, 1. - epsilon)\n",
    "    loss = - (y_true * np.log(y_pred) + (1 - y_true) * np.log(1 - y_pred))\n",
    "    return np.mean(loss)\n",
    "\n",
    "\n",
    "def categorical_cross_entropy(y_pred, y_true,  epsilon=1e-8):\n",
    "    y_pred = np.clip(y_pred, epsilon, 1 - epsilon)\n",
    "    loss = -np.sum(y_true * np.log(y_pred)) / y_true.shape[0]\n",
    "    return loss\n",
    "\n",
    "activation_map = {\n",
    "    'sigmoid': (sigmoid, sigmoid_derivative),\n",
    "    'relu': (relu, relu_derivative),\n",
    "    'tanh': (tanh, tanh_derivative),\n",
    "    None: (lambda x: x, lambda x: np.ones_like(x))  # No activation\n",
    "}\n",
    "\n",
    "class LinearLayer():\n",
    "    def __init__(self, inFeature, outFeature, activationFunction=None) -> None:\n",
    "        self.W = (np.random.randn(inFeature, outFeature) * np.sqrt(2 / (inFeature + outFeature))).astype(np.float64)\n",
    "        self.b = np.zeros((1, outFeature), dtype=np.float64)\n",
    "        self.trainable = True\n",
    "        self.activation, self.activation_deriv = activation_map.get(activationFunction, (None, None))\n",
    "        self.y = self.z = self.X = None\n",
    "\n",
    "    def Forward(self, X):\n",
    "        self.X = X\n",
    "        self.z = X @ self.W + self.b\n",
    "        self.y = self.activation(self.z)\n",
    "        return self.y\n",
    "\n",
    "    def BackwardHidden(self, dEdy, lr=0.01):\n",
    "        dydx = self.activation_deriv(self.z)\n",
    "        dEdx = dEdy * dydx\n",
    "        dEdW = self.X.T @ dEdx\n",
    "        dEdb = np.sum(dEdx, axis=0, keepdims=True)\n",
    "        \n",
    "        if self.trainable:\n",
    "            self.W -= lr * dEdW\n",
    "            self.b -= lr * dEdb\n",
    "\n",
    "        return dEdx @ self.W.T\n",
    "\n",
    "class Model():\n",
    "    def __init__(self, layers) -> None:\n",
    "        self.layers = layers\n",
    "\n",
    "    def ForwardProp(self, X):\n",
    "        for layer in self.layers:\n",
    "            X = layer.Forward(X)\n",
    "        return X\n",
    "\n",
    "    def BackwardProp(self, dEdy, learningRate=0.01):\n",
    "        for layer in reversed(self.layers):\n",
    "            dEdy = layer.BackwardHidden(dEdy, lr=learningRate)\n",
    "        \n",
    "    def train(self, epochs, X_train, y_train, loss_fn, metrics_fn, learningRate=0.01, X_test=None, y_test=None):\n",
    "        train_loss=[]\n",
    "        train_metrics=[]\n",
    "        test_loss=[]\n",
    "        test_metrics=[]\n",
    "        for epoch in range(epochs):\n",
    "            logits = self.ForwardProp(X_train)\n",
    "            probs = softmax(logits)\n",
    "            loss = loss_fn(probs, y_train)\n",
    "            metrics = metrics_fn(probs, y_train)\n",
    "            train_loss.append(loss)\n",
    "            train_metrics.append(metrics)\n",
    "            # Gradient of softmax + categorical crossentropy\n",
    "            dEdy = (probs - y_train) / y_train.shape[0]\n",
    "            self.BackwardProp(dEdy, learningRate)\n",
    "\n",
    "            if X_test.shape and y_test.shape is not None:\n",
    "                test_logits = self.ForwardProp(X_test)\n",
    "                test_probs = softmax(test_logits)\n",
    "                test_loss_value = loss_fn(test_probs, y_test)\n",
    "                test_metrics_value = metrics_fn(test_probs, y_test)\n",
    "                test_loss.append(test_loss_value)\n",
    "                test_metrics.append(test_metrics_value)\n",
    "                print(f\"Epoch: {epoch}, Loss: {loss:.4f}, Acc: {metrics:.4f}, Test Loss: {test_loss_value:.4f}, Test Acc: {test_metrics_value:.4f},\")\n",
    "            else:\n",
    "                print(f\"Epoch: {epoch}, Loss: {loss:.4f}, Acc: {metrics:.4f}\")\n",
    "                \n",
    "        return {\"train_loss\": train_loss,\n",
    "             \"train_metrics\": train_metrics,\n",
    "             \"test_loss\": test_loss,\n",
    "             \"test_metrics\": test_metrics}\n",
    "\n",
    "def toHotEncoding( classification ):\n",
    "    # emulates the functionality of tf.keras.utils.to_categorical( y )\n",
    "    classification = classification.astype(int)  # Ensure integer class labels\n",
    "    num_samples = classification.shape[0]\n",
    "    num_classes = np.max(classification) + 1\n",
    "    hotEncoding = np.zeros((num_samples, num_classes), dtype=np.float32)\n",
    "    hotEncoding[np.arange(num_samples), classification] = 1\n",
    "    return hotEncoding\n",
    "\n",
    "def accuracy(y_pred, y_true):\n",
    "    # Get predicted class indicesa\n",
    "    pred_labels = np.argmax(y_pred, axis=1)\n",
    "    \n",
    "    # Convert one-hot to class indices if needed\n",
    "    if y_true.ndim == 2:\n",
    "        true_labels = np.argmax(y_true, axis=1)\n",
    "    else:\n",
    "        true_labels = y_true\n",
    "\n",
    "    correct = np.sum(pred_labels == true_labels)\n",
    "    total = y_true.shape[0]\n",
    "    return correct / total\n",
    "\n",
    "def plot_decision_boundary(model, X, y, resolution=0.01):\n",
    "    # Set min and max values for the mesh\n",
    "    x_min, x_max = X[:, 0].min() - 1, X[:, 0].max() + 1\n",
    "    y_min, y_max = X[:, 1].min() - 1, X[:, 1].max() + 1\n",
    "\n",
    "    # Generate a mesh grid\n",
    "    xx, yy = np.meshgrid(\n",
    "        np.arange(x_min, x_max, resolution),\n",
    "        np.arange(y_min, y_max, resolution)\n",
    "    )\n",
    "    \n",
    "    # Flatten grid and stack as input\n",
    "    grid = np.c_[xx.ravel(), yy.ravel()]\n",
    "    \n",
    "    # Predict using the model\n",
    "    logits = model.ForwardProp(grid)\n",
    "    probs = softmax(logits)\n",
    "    \n",
    "    predictions = np.argmax(probs, axis=1)\n",
    "    \n",
    "    # Reshape to match grid\n",
    "    zz = predictions.reshape(xx.shape)\n",
    "\n",
    "    # Plot decision regions\n",
    "    plt.contourf(xx, yy, zz, alpha=0.5, cmap=plt.cm.coolwarm)\n",
    "    plt.scatter(X[:, 0], X[:, 1], c=np.argmax(y, axis=1), s=30, edgecolor='k', cmap=plt.cm.coolwarm)\n",
    "    plt.xlabel(\"Feature 1\")\n",
    "    plt.ylabel(\"Feature 2\")\n",
    "    plt.title(\"Decision Boundary\")\n",
    "    plt.show()"
   ]
  },
  {
   "cell_type": "code",
   "execution_count": 49,
   "id": "0e12eb66",
   "metadata": {},
   "outputs": [],
   "source": [
    "layerSequence = [\n",
    "    LinearLayer(inFeature=784, outFeature=64,activationFunction=\"relu\"),\n",
    "    LinearLayer(inFeature=64, outFeature=64, activationFunction=\"relu\"),\n",
    "    LinearLayer(inFeature=64, outFeature=10,activationFunction=None)  # final logits (softmax applied outside)\n",
    "]\n",
    "model=Model(layerSequence)"
   ]
  },
  {
   "cell_type": "code",
   "execution_count": 50,
   "id": "57499f72",
   "metadata": {},
   "outputs": [
    {
     "name": "stdout",
     "output_type": "stream",
     "text": [
      "True label: 1, Predicted label: 4\n"
     ]
    }
   ],
   "source": [
    "i = 3\n",
    "image = trainingImages[i].reshape(1, -1) / 255.0  \n",
    "label = trainingLabels[i]\n",
    "y_logits = model.ForwardProp(image)\n",
    "y_pred = softmax(y_logits)\n",
    "\n",
    "predicted_class = np.argmax(y_pred)\n",
    "\n",
    "print(f\"True label: {label}, Predicted label: {predicted_class}\")"
   ]
  },
  {
   "cell_type": "code",
   "execution_count": 51,
   "id": "9dccbb19",
   "metadata": {},
   "outputs": [
    {
     "data": {
      "text/plain": [
       "array([[0.10885402, 0.06467855, 0.12570387, 0.08879032, 0.13834669,\n",
       "        0.11325668, 0.09888067, 0.09754801, 0.07346605, 0.09047513]])"
      ]
     },
     "execution_count": 51,
     "metadata": {},
     "output_type": "execute_result"
    }
   ],
   "source": [
    "y_pred"
   ]
  },
  {
   "cell_type": "code",
   "execution_count": 52,
   "id": "f02a3aa2",
   "metadata": {},
   "outputs": [
    {
     "name": "stdout",
     "output_type": "stream",
     "text": [
      "Epoch: 0, Loss: 2.3877, Acc: 0.0819, Test Loss: 2.3857, Test Acc: 0.0829,\n",
      "Epoch: 1, Loss: 2.3809, Acc: 0.0821, Test Loss: 2.3790, Test Acc: 0.0846,\n",
      "Epoch: 2, Loss: 2.3744, Acc: 0.0831, Test Loss: 2.3725, Test Acc: 0.0859,\n",
      "Epoch: 3, Loss: 2.3682, Acc: 0.0837, Test Loss: 2.3663, Test Acc: 0.0869,\n",
      "Epoch: 4, Loss: 2.3622, Acc: 0.0847, Test Loss: 2.3603, Test Acc: 0.0872,\n",
      "Epoch: 5, Loss: 2.3564, Acc: 0.0855, Test Loss: 2.3545, Test Acc: 0.0881,\n",
      "Epoch: 6, Loss: 2.3508, Acc: 0.0867, Test Loss: 2.3488, Test Acc: 0.0894,\n",
      "Epoch: 7, Loss: 2.3454, Acc: 0.0877, Test Loss: 2.3434, Test Acc: 0.0896,\n",
      "Epoch: 8, Loss: 2.3401, Acc: 0.0889, Test Loss: 2.3381, Test Acc: 0.0911,\n",
      "Epoch: 9, Loss: 2.3350, Acc: 0.0897, Test Loss: 2.3329, Test Acc: 0.0926,\n",
      "Epoch: 10, Loss: 2.3301, Acc: 0.0909, Test Loss: 2.3279, Test Acc: 0.0950,\n",
      "Epoch: 11, Loss: 2.3253, Acc: 0.0921, Test Loss: 2.3230, Test Acc: 0.0964,\n",
      "Epoch: 12, Loss: 2.3205, Acc: 0.0937, Test Loss: 2.3182, Test Acc: 0.1005,\n",
      "Epoch: 13, Loss: 2.3159, Acc: 0.0950, Test Loss: 2.3136, Test Acc: 0.1043,\n",
      "Epoch: 14, Loss: 2.3115, Acc: 0.0969, Test Loss: 2.3090, Test Acc: 0.1074,\n",
      "Epoch: 15, Loss: 2.3071, Acc: 0.0985, Test Loss: 2.3046, Test Acc: 0.1099,\n",
      "Epoch: 16, Loss: 2.3028, Acc: 0.1004, Test Loss: 2.3002, Test Acc: 0.1119,\n",
      "Epoch: 17, Loss: 2.2985, Acc: 0.1029, Test Loss: 2.2959, Test Acc: 0.1144,\n",
      "Epoch: 18, Loss: 2.2944, Acc: 0.1050, Test Loss: 2.2917, Test Acc: 0.1163,\n",
      "Epoch: 19, Loss: 2.2903, Acc: 0.1074, Test Loss: 2.2876, Test Acc: 0.1189,\n",
      "Epoch: 20, Loss: 2.2863, Acc: 0.1097, Test Loss: 2.2835, Test Acc: 0.1224,\n",
      "Epoch: 21, Loss: 2.2824, Acc: 0.1125, Test Loss: 2.2795, Test Acc: 0.1254,\n",
      "Epoch: 22, Loss: 2.2785, Acc: 0.1150, Test Loss: 2.2756, Test Acc: 0.1274,\n",
      "Epoch: 23, Loss: 2.2747, Acc: 0.1178, Test Loss: 2.2717, Test Acc: 0.1309,\n",
      "Epoch: 24, Loss: 2.2709, Acc: 0.1206, Test Loss: 2.2678, Test Acc: 0.1331,\n",
      "Epoch: 25, Loss: 2.2672, Acc: 0.1235, Test Loss: 2.2640, Test Acc: 0.1362,\n",
      "Epoch: 26, Loss: 2.2635, Acc: 0.1264, Test Loss: 2.2603, Test Acc: 0.1406,\n",
      "Epoch: 27, Loss: 2.2599, Acc: 0.1294, Test Loss: 2.2566, Test Acc: 0.1438,\n",
      "Epoch: 28, Loss: 2.2563, Acc: 0.1325, Test Loss: 2.2529, Test Acc: 0.1486,\n",
      "Epoch: 29, Loss: 2.2527, Acc: 0.1364, Test Loss: 2.2493, Test Acc: 0.1525,\n",
      "Epoch: 30, Loss: 2.2492, Acc: 0.1393, Test Loss: 2.2457, Test Acc: 0.1559,\n",
      "Epoch: 31, Loss: 2.2457, Acc: 0.1429, Test Loss: 2.2421, Test Acc: 0.1600,\n",
      "Epoch: 32, Loss: 2.2422, Acc: 0.1463, Test Loss: 2.2386, Test Acc: 0.1633,\n",
      "Epoch: 33, Loss: 2.2388, Acc: 0.1497, Test Loss: 2.2350, Test Acc: 0.1677,\n",
      "Epoch: 34, Loss: 2.2354, Acc: 0.1530, Test Loss: 2.2315, Test Acc: 0.1712,\n",
      "Epoch: 35, Loss: 2.2320, Acc: 0.1563, Test Loss: 2.2281, Test Acc: 0.1739,\n",
      "Epoch: 36, Loss: 2.2286, Acc: 0.1595, Test Loss: 2.2246, Test Acc: 0.1766,\n",
      "Epoch: 37, Loss: 2.2252, Acc: 0.1630, Test Loss: 2.2212, Test Acc: 0.1800,\n",
      "Epoch: 38, Loss: 2.2219, Acc: 0.1668, Test Loss: 2.2177, Test Acc: 0.1839,\n",
      "Epoch: 39, Loss: 2.2185, Acc: 0.1699, Test Loss: 2.2143, Test Acc: 0.1874,\n",
      "Epoch: 40, Loss: 2.2152, Acc: 0.1734, Test Loss: 2.2109, Test Acc: 0.1920,\n",
      "Epoch: 41, Loss: 2.2119, Acc: 0.1776, Test Loss: 2.2075, Test Acc: 0.1958,\n",
      "Epoch: 42, Loss: 2.2086, Acc: 0.1805, Test Loss: 2.2041, Test Acc: 0.1992,\n",
      "Epoch: 43, Loss: 2.2053, Acc: 0.1837, Test Loss: 2.2008, Test Acc: 0.2029,\n",
      "Epoch: 44, Loss: 2.2021, Acc: 0.1870, Test Loss: 2.1974, Test Acc: 0.2057,\n",
      "Epoch: 45, Loss: 2.1988, Acc: 0.1903, Test Loss: 2.1940, Test Acc: 0.2098,\n",
      "Epoch: 46, Loss: 2.1955, Acc: 0.1934, Test Loss: 2.1907, Test Acc: 0.2130,\n",
      "Epoch: 47, Loss: 2.1922, Acc: 0.1967, Test Loss: 2.1873, Test Acc: 0.2166,\n",
      "Epoch: 48, Loss: 2.1890, Acc: 0.1998, Test Loss: 2.1839, Test Acc: 0.2196,\n",
      "Epoch: 49, Loss: 2.1857, Acc: 0.2029, Test Loss: 2.1806, Test Acc: 0.2234,\n",
      "Epoch: 50, Loss: 2.1824, Acc: 0.2057, Test Loss: 2.1772, Test Acc: 0.2268,\n",
      "Epoch: 51, Loss: 2.1792, Acc: 0.2088, Test Loss: 2.1738, Test Acc: 0.2298,\n",
      "Epoch: 52, Loss: 2.1759, Acc: 0.2120, Test Loss: 2.1705, Test Acc: 0.2332,\n",
      "Epoch: 53, Loss: 2.1726, Acc: 0.2154, Test Loss: 2.1671, Test Acc: 0.2360,\n",
      "Epoch: 54, Loss: 2.1693, Acc: 0.2182, Test Loss: 2.1637, Test Acc: 0.2395,\n",
      "Epoch: 55, Loss: 2.1660, Acc: 0.2211, Test Loss: 2.1603, Test Acc: 0.2412,\n",
      "Epoch: 56, Loss: 2.1627, Acc: 0.2243, Test Loss: 2.1568, Test Acc: 0.2442,\n",
      "Epoch: 57, Loss: 2.1594, Acc: 0.2272, Test Loss: 2.1534, Test Acc: 0.2472,\n",
      "Epoch: 58, Loss: 2.1561, Acc: 0.2305, Test Loss: 2.1500, Test Acc: 0.2505,\n",
      "Epoch: 59, Loss: 2.1527, Acc: 0.2339, Test Loss: 2.1465, Test Acc: 0.2542,\n",
      "Epoch: 60, Loss: 2.1494, Acc: 0.2369, Test Loss: 2.1431, Test Acc: 0.2561,\n",
      "Epoch: 61, Loss: 2.1460, Acc: 0.2398, Test Loss: 2.1396, Test Acc: 0.2580,\n",
      "Epoch: 62, Loss: 2.1427, Acc: 0.2431, Test Loss: 2.1361, Test Acc: 0.2603,\n",
      "Epoch: 63, Loss: 2.1393, Acc: 0.2462, Test Loss: 2.1326, Test Acc: 0.2636,\n",
      "Epoch: 64, Loss: 2.1359, Acc: 0.2492, Test Loss: 2.1291, Test Acc: 0.2652,\n",
      "Epoch: 65, Loss: 2.1324, Acc: 0.2520, Test Loss: 2.1255, Test Acc: 0.2681,\n",
      "Epoch: 66, Loss: 2.1290, Acc: 0.2550, Test Loss: 2.1220, Test Acc: 0.2707,\n",
      "Epoch: 67, Loss: 2.1256, Acc: 0.2579, Test Loss: 2.1184, Test Acc: 0.2730,\n",
      "Epoch: 68, Loss: 2.1221, Acc: 0.2608, Test Loss: 2.1148, Test Acc: 0.2773,\n",
      "Epoch: 69, Loss: 2.1186, Acc: 0.2641, Test Loss: 2.1112, Test Acc: 0.2805,\n",
      "Epoch: 70, Loss: 2.1151, Acc: 0.2669, Test Loss: 2.1076, Test Acc: 0.2840,\n",
      "Epoch: 71, Loss: 2.1116, Acc: 0.2700, Test Loss: 2.1039, Test Acc: 0.2864,\n",
      "Epoch: 72, Loss: 2.1080, Acc: 0.2732, Test Loss: 2.1002, Test Acc: 0.2901,\n",
      "Epoch: 73, Loss: 2.1045, Acc: 0.2761, Test Loss: 2.0966, Test Acc: 0.2929,\n",
      "Epoch: 74, Loss: 2.1009, Acc: 0.2789, Test Loss: 2.0929, Test Acc: 0.2959,\n",
      "Epoch: 75, Loss: 2.0973, Acc: 0.2821, Test Loss: 2.0891, Test Acc: 0.2990,\n",
      "Epoch: 76, Loss: 2.0937, Acc: 0.2857, Test Loss: 2.0854, Test Acc: 0.3012,\n",
      "Epoch: 77, Loss: 2.0900, Acc: 0.2885, Test Loss: 2.0816, Test Acc: 0.3048,\n",
      "Epoch: 78, Loss: 2.0863, Acc: 0.2915, Test Loss: 2.0778, Test Acc: 0.3078,\n",
      "Epoch: 79, Loss: 2.0826, Acc: 0.2950, Test Loss: 2.0740, Test Acc: 0.3109,\n",
      "Epoch: 80, Loss: 2.0789, Acc: 0.2983, Test Loss: 2.0701, Test Acc: 0.3153,\n",
      "Epoch: 81, Loss: 2.0752, Acc: 0.3014, Test Loss: 2.0662, Test Acc: 0.3186,\n",
      "Epoch: 82, Loss: 2.0714, Acc: 0.3044, Test Loss: 2.0623, Test Acc: 0.3228,\n",
      "Epoch: 83, Loss: 2.0677, Acc: 0.3074, Test Loss: 2.0584, Test Acc: 0.3261,\n",
      "Epoch: 84, Loss: 2.0638, Acc: 0.3106, Test Loss: 2.0545, Test Acc: 0.3295,\n",
      "Epoch: 85, Loss: 2.0600, Acc: 0.3139, Test Loss: 2.0505, Test Acc: 0.3326,\n",
      "Epoch: 86, Loss: 2.0562, Acc: 0.3176, Test Loss: 2.0466, Test Acc: 0.3355,\n",
      "Epoch: 87, Loss: 2.0523, Acc: 0.3211, Test Loss: 2.0426, Test Acc: 0.3386,\n",
      "Epoch: 88, Loss: 2.0484, Acc: 0.3247, Test Loss: 2.0385, Test Acc: 0.3420,\n",
      "Epoch: 89, Loss: 2.0445, Acc: 0.3282, Test Loss: 2.0345, Test Acc: 0.3466,\n",
      "Epoch: 90, Loss: 2.0405, Acc: 0.3321, Test Loss: 2.0304, Test Acc: 0.3509,\n",
      "Epoch: 91, Loss: 2.0366, Acc: 0.3358, Test Loss: 2.0263, Test Acc: 0.3549,\n",
      "Epoch: 92, Loss: 2.0326, Acc: 0.3401, Test Loss: 2.0222, Test Acc: 0.3583,\n",
      "Epoch: 93, Loss: 2.0286, Acc: 0.3441, Test Loss: 2.0181, Test Acc: 0.3626,\n",
      "Epoch: 94, Loss: 2.0246, Acc: 0.3478, Test Loss: 2.0140, Test Acc: 0.3658,\n",
      "Epoch: 95, Loss: 2.0206, Acc: 0.3517, Test Loss: 2.0098, Test Acc: 0.3687,\n",
      "Epoch: 96, Loss: 2.0165, Acc: 0.3553, Test Loss: 2.0056, Test Acc: 0.3734,\n",
      "Epoch: 97, Loss: 2.0124, Acc: 0.3594, Test Loss: 2.0014, Test Acc: 0.3775,\n",
      "Epoch: 98, Loss: 2.0083, Acc: 0.3636, Test Loss: 1.9972, Test Acc: 0.3810,\n",
      "Epoch: 99, Loss: 2.0042, Acc: 0.3675, Test Loss: 1.9930, Test Acc: 0.3848,\n"
     ]
    }
   ],
   "source": [
    "\n",
    "epochs=100\n",
    "\n",
    "metrics=model.train(epochs=100, X_train=X_train, y_train=y_train, X_test=X_test, y_test=y_test, loss_fn=categorical_cross_entropy, metrics_fn=accuracy, learningRate=0.01)\n",
    "losses=metrics[\"train_loss\"]"
   ]
  },
  {
   "cell_type": "code",
   "execution_count": 53,
   "id": "13ca6f4c",
   "metadata": {},
   "outputs": [
    {
     "data": {
      "image/png": "[encoded data removed]",
      "text/plain": [
       "<Figure size 640x480 with 1 Axes>"
      ]
     },
     "metadata": {},
     "output_type": "display_data"
    }
   ],
   "source": [
    "plt.plot(losses)\n",
    "plt.title(\"Training Loss over Epochs\")\n",
    "plt.xlabel(\"Epoch\")\n",
    "plt.ylabel(\"Loss\")\n",
    "plt.grid(True)\n",
    "plt.show()"
   ]
  },
  {
   "cell_type": "code",
   "execution_count": null,
   "id": "90b6f5ed",
   "metadata": {},
   "outputs": [
    {
     "name": "stdout",
     "output_type": "stream",
     "text": [
      "True label: 4, Predicted label: 2\n"
     ]
    },
    {
     "data": {
      "image/png": "[encoded data removed]",
      "text/plain": [
       "<Figure size 640x480 with 1 Axes>"
      ]
     },
     "metadata": {},
     "output_type": "display_data"
    }
   ],
   "source": [
    "import random\n",
    "i = random.randint(0,400)\n",
    "image_raw=trainingImages[i]\n",
    "image = trainingImages[i].reshape(1, -1) / 255.0  \n",
    "label = trainingLabels[i]\n",
    "y_logits = model.ForwardProp(image)\n",
    "y_pred = softmax(y_logits)\n",
    "\n",
    "\n",
    "\n",
    "predicted_class = np.argmax(y_pred)\n",
    "\n",
    "print(f\"True label: {label}, Predicted label: {predicted_class}\")\n",
    "plt.imshow(image_raw, cmap='gray')\n",
    "plt.title(f\"Label: {label} \\nPredLabel: {predicted_class}\")\n",
    "plt.axis('off')\n",
    "plt.show()"
   ]
  },
  {
   "cell_type": "code",
   "execution_count": null,
   "id": "453b1c5e",
   "metadata": {},
   "outputs": [],
   "source": []
  }
 ],
 "metadata": {
  "kernelspec": {
   "display_name": ".venv",
   "language": "python",
   "name": "python3"
  },
  "language_info": {
   "codemirror_mode": {
    "name": "ipython",
    "version": 3
   },
   "file_extension": ".py",
   "mimetype": "text/x-python",
   "name": "python",
   "nbconvert_exporter": "python",
   "pygments_lexer": "ipython3",
   "version": "3.11.2"
  }
 },
 "nbformat": 4,
 "nbformat_minor": 5
}
