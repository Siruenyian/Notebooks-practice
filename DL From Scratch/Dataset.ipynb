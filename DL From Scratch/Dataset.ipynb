{
 "cells": [
  {
   "cell_type": "code",
   "execution_count": 11,
   "id": "e1bc106d",
   "metadata": {},
   "outputs": [],
   "source": [
    "import os\n",
    "import requests\n",
    "import zipfile\n",
    "import numpy as np\n",
    "from pathlib import Path"
   ]
  },
  {
   "cell_type": "code",
   "execution_count": null,
   "id": "a1ece16c",
   "metadata": {},
   "outputs": [],
   "source": [
    "# https://github.com/cvdfoundation/mnist?tab=readme-ov-file\n",
    "DATA_DIR = \"/app/dataset/MNIST\"\n",
    "os.makedirs(DATA_DIR, exist_ok=True)"
   ]
  },
  {
   "cell_type": "code",
   "execution_count": 13,
   "id": "10cb955d",
   "metadata": {},
   "outputs": [],
   "source": [
    "import gzip\n",
    "import shutil\n",
    "\n",
    "\n",
    "def download_mnist():\n",
    "    MNIST_FILES = {\n",
    "    \"train_images\": \"https://storage.googleapis.com/cvdf-datasets/mnist/train-images-idx3-ubyte.gz\",\n",
    "    \"train_labels\": \"https://storage.googleapis.com/cvdf-datasets/mnist/train-labels-idx1-ubyte.gz\",\n",
    "    \"test_images\":  \"https://storage.googleapis.com/cvdf-datasets/mnist/t10k-images-idx3-ubyte.gz\",\n",
    "    \"test_labels\":  \"https://storage.googleapis.com/cvdf-datasets/mnist/t10k-labels-idx1-ubyte.gz\",\n",
    "    }\n",
    "    for name, url in MNIST_FILES.items():\n",
    "        out_path = os.path.join(DATA_DIR, url.split('/')[-1])\n",
    "        result_path = out_path[:-3] \n",
    "        if not os.path.exists(result_path):\n",
    "            if not os.path.exists(out_path):\n",
    "                print(f\"Downloading {name}...\")\n",
    "                r = requests.get(url)\n",
    "                with open(out_path, 'wb') as f:\n",
    "                    f.write(r.content)\n",
    "            else:\n",
    "                print(f\"{name} already downloaded.\")\n",
    "            print(f\"Unzipping {out_path}...\")\n",
    "            with gzip.open(out_path, 'rb') as f_in:\n",
    "                with open(result_path, 'wb') as f_out:\n",
    "                    shutil.copyfileobj(f_in, f_out)\n",
    "        \n",
    "        else:\n",
    "            print(f\"{name} already unzipped.\")"
   ]
  },
  {
   "cell_type": "code",
   "execution_count": 14,
   "id": "0ee1b841",
   "metadata": {},
   "outputs": [
    {
     "name": "stdout",
     "output_type": "stream",
     "text": [
      "Downloading train_images...\n",
      "Unzipping /app/dataset/MNIST/train-images-idx3-ubyte.gz...\n",
      "Downloading train_labels...\n",
      "Unzipping /app/dataset/MNIST/train-labels-idx1-ubyte.gz...\n",
      "Downloading test_images...\n",
      "Unzipping /app/dataset/MNIST/t10k-images-idx3-ubyte.gz...\n",
      "Downloading test_labels...\n",
      "Unzipping /app/dataset/MNIST/t10k-labels-idx1-ubyte.gz...\n"
     ]
    }
   ],
   "source": [
    "download_mnist()"
   ]
  },
  {
   "cell_type": "code",
   "execution_count": 17,
   "id": "47042820",
   "metadata": {},
   "outputs": [
    {
     "name": "stdout",
     "output_type": "stream",
     "text": [
      "/app/dataset/MNIST/train-images-idx3-ubyte\n",
      "/app/dataset/MNIST/t10k-images-idx3-ubyte\n"
     ]
    }
   ],
   "source": [
    "def loadMNIST( prefix, folder ):\n",
    "    intType = np.dtype( 'int32' ).newbyteorder( '>' )\n",
    "    nMetaDataBytes = 4 * intType.itemsize\n",
    "\n",
    "    data = np.fromfile( folder + \"/\" + prefix + '-images-idx3-ubyte', dtype = 'ubyte' )\n",
    "    print(folder + \"/\" + prefix + '-images-idx3-ubyte')\n",
    "    magicBytes, nImages, width, height = np.frombuffer( data[:nMetaDataBytes].tobytes(), intType )\n",
    "    data = data[nMetaDataBytes:].astype( dtype = 'float32' ).reshape( [ nImages, width, height ] )\n",
    "\n",
    "    labels = np.fromfile( folder + \"/\" + prefix + '-labels-idx1-ubyte',\n",
    "                          dtype = 'ubyte' )[2 * intType.itemsize:]\n",
    "\n",
    "    return data, labels\n",
    "\n",
    "trainingImages, trainingLabels = loadMNIST( \"train\", \"/app/dataset/MNIST\" )\n",
    "testImages, testLabels = loadMNIST( \"t10k\", \"/app/dataset/MNIST\" )"
   ]
  },
  {
   "cell_type": "code",
   "execution_count": 16,
   "id": "8f6c6dcd",
   "metadata": {},
   "outputs": [],
   "source": [
    "def toHotEncoding( classification ):\n",
    "    # emulates the functionality of tf.keras.utils.to_categorical( y )\n",
    "    hotEncoding = np.zeros( [ len( classification ), \n",
    "                              np.max( classification ) + 1 ] )\n",
    "    hotEncoding[ np.arange( len( hotEncoding ) ), classification ] = 1\n",
    "    return hotEncoding\n",
    "\n",
    "trainingLabels = toHotEncoding( trainingLabels )\n",
    "testLabels = toHotEncoding( testLabels )"
   ]
  },
  {
   "cell_type": "code",
   "execution_count": 18,
   "id": "222c9c80",
   "metadata": {},
   "outputs": [
    {
     "data": {
      "text/plain": [
       "array([5, 0, 4, ..., 5, 6, 8], shape=(60000,), dtype=uint8)"
      ]
     },
     "execution_count": 18,
     "metadata": {},
     "output_type": "execute_result"
    }
   ],
   "source": [
    "trainingLabels"
   ]
  }
 ],
 "metadata": {
  "kernelspec": {
   "display_name": ".venv",
   "language": "python",
   "name": "python3"
  },
  "language_info": {
   "codemirror_mode": {
    "name": "ipython",
    "version": 3
   },
   "file_extension": ".py",
   "mimetype": "text/x-python",
   "name": "python",
   "nbconvert_exporter": "python",
   "pygments_lexer": "ipython3",
   "version": "3.11.2"
  }
 },
 "nbformat": 4,
 "nbformat_minor": 5
}
