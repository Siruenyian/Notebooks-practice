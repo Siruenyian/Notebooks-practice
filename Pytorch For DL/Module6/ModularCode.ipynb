{
 "cells": [
  {
   "cell_type": "markdown",
   "id": "c4b95d6d",
   "metadata": {},
   "source": [
    "# modular Experiments\n",
    "In this course, the tutor organized his files like this\n",
    "1. data_setup->create dataset and dataloader\n",
    "2. engine->the training fucntion\n",
    "3. model_builder->function to make the model\n",
    "4. train->running training and evaluation\n",
    "5. utils->saving model\n"
   ]
  },
  {
   "cell_type": "markdown",
   "id": "5a789eb5",
   "metadata": {},
   "source": [
    "# Here we will try to test the code that is in"
   ]
  }
 ],
 "metadata": {
  "language_info": {
   "name": "python"
  }
 },
 "nbformat": 4,
 "nbformat_minor": 5
}
