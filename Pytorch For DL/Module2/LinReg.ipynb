{
 "cells": [
  {
   "cell_type": "code",
   "execution_count": 1,
   "metadata": {},
   "outputs": [
    {
     "data": {
      "text/plain": [
       "'2.6.0+cu124'"
      ]
     },
     "execution_count": 1,
     "metadata": {},
     "output_type": "execute_result"
    }
   ],
   "source": [
    "import torch\n",
    "from torch import nn # nn contains all of PyTorch's building blocks for neural networks\n",
    "import matplotlib.pyplot as plt\n",
    "\n",
    "# Check PyTorch version\n",
    "torch.__version__"
   ]
  },
  {
   "cell_type": "code",
   "execution_count": 2,
   "metadata": {},
   "outputs": [
    {
     "data": {
      "text/plain": [
       "True"
      ]
     },
     "execution_count": 2,
     "metadata": {},
     "output_type": "execute_result"
    }
   ],
   "source": [
    "torch.cuda.is_available()"
   ]
  },
  {
   "cell_type": "code",
   "execution_count": 3,
   "metadata": {},
   "outputs": [
    {
     "data": {
      "text/plain": [
       "'NVIDIA A100-SXM4-40GB'"
      ]
     },
     "execution_count": 3,
     "metadata": {},
     "output_type": "execute_result"
    }
   ],
   "source": [
    "torch.cuda.get_device_name(torch.cuda.current_device())"
   ]
  },
  {
   "cell_type": "code",
   "execution_count": 5,
   "metadata": {},
   "outputs": [
    {
     "data": {
      "text/plain": [
       "(tensor([[0.0000],\n",
       "         [0.0200],\n",
       "         [0.0400],\n",
       "         [0.0600],\n",
       "         [0.0800],\n",
       "         [0.1000],\n",
       "         [0.1200],\n",
       "         [0.1400],\n",
       "         [0.1600],\n",
       "         [0.1800]]),\n",
       " tensor([[0.3000],\n",
       "         [0.3140],\n",
       "         [0.3280],\n",
       "         [0.3420],\n",
       "         [0.3560],\n",
       "         [0.3700],\n",
       "         [0.3840],\n",
       "         [0.3980],\n",
       "         [0.4120],\n",
       "         [0.4260]]))"
      ]
     },
     "execution_count": 5,
     "metadata": {},
     "output_type": "execute_result"
    }
   ],
   "source": [
    "# Create *known* parameters\n",
    "weight = 0.7\n",
    "bias = 0.3\n",
    "\n",
    "# Create data\n",
    "start = 0\n",
    "end = 1\n",
    "step = 0.02\n",
    "X = torch.arange(start, end, step).unsqueeze(dim=1)\n",
    "y = weight * X + bias\n",
    "\n",
    "X[:10], y[:10]"
   ]
  },
  {
   "cell_type": "code",
   "execution_count": 6,
   "metadata": {},
   "outputs": [
    {
     "data": {
      "text/plain": [
       "(40, 40, 10, 10)"
      ]
     },
     "execution_count": 6,
     "metadata": {},
     "output_type": "execute_result"
    }
   ],
   "source": [
    "# Create train/test split\n",
    "train_split = int(0.8 * len(X)) # 80% of data used for training set, 20% for testing \n",
    "X_train, y_train = X[:train_split], y[:train_split]\n",
    "X_test, y_test = X[train_split:], y[train_split:]\n",
    "\n",
    "len(X_train), len(y_train), len(X_test), len(y_test)"
   ]
  },
  {
   "cell_type": "code",
   "execution_count": 8,
   "metadata": {},
   "outputs": [],
   "source": [
    "def plot_predictions(train_data=X_train, \n",
    "                     train_labels=y_train, \n",
    "                     test_data=X_test, \n",
    "                     test_labels=y_test, \n",
    "                     predictions=None):\n",
    "  \"\"\"\n",
    "  Plots training data, test data and compares predictions.\n",
    "  \"\"\"\n",
    "  plt.figure(figsize=(10, 7))\n",
    "  plt.scatter(train_data, train_labels, c=\"b\", s=4, label=\"Training data\")\n",
    "  plt.scatter(test_data, test_labels, c=\"g\", s=4, label=\"Testing data\")\n",
    "  if predictions is not None:\n",
    "    plt.scatter(test_data, predictions, c=\"r\", s=4, label=\"Predictions\")\n",
    "  plt.legend(prop={\"size\": 14});"
   ]
  },
  {
   "cell_type": "code",
   "execution_count": 9,
   "metadata": {},
   "outputs": [
    {
     "data": {
      "image/png": "[encoded data removed]",
      "text/plain": [
       "<Figure size 1000x700 with 1 Axes>"
      ]
     },
     "metadata": {},
     "output_type": "display_data"
    }
   ],
   "source": [
    "plot_predictions();"
   ]
  },
  {
   "cell_type": "code",
   "execution_count": null,
   "metadata": {},
   "outputs": [],
   "source": [
    "class LRModel(nn.Module):\n",
    "    def __init__(self):\n",
    "        super().__init__()\n",
    "        # required grads computes gradients automatically\n",
    "        self.weights=nn.Parameter(torch.randn(1, dtype=torch.float), requires_grad=True)\n",
    "        self.bias=nn.Parameter(torch.randn(1, dtype=torch.float), requires_grad=True)\n",
    "    # this is each neuron output\n",
    "    def forward(self, x:torch.Tensor)->torch.Tensor:\n",
    "        return self.weights*x+self.bias"
   ]
  },
  {
   "cell_type": "markdown",
   "metadata": {},
   "source": [
    "There are \n",
    "- torch.nn -> graphs\n",
    "- torch.Parameter -> parameter in layers\n",
    "- torch.optim -> optimization algos\n",
    "- torch.nn.Module -> Base class for NN, needs forward() to be implemented, essentilly the layers\n",
    "- torch.utils.data.Dataset -> datasets\n",
    "- torch.utils.data.DataLoader -> dataloader to load data"
   ]
  },
  {
   "cell_type": "code",
   "execution_count": 23,
   "metadata": {},
   "outputs": [
    {
     "name": "stdout",
     "output_type": "stream",
     "text": [
      "[Parameter containing:\n",
      "tensor([1.5410], requires_grad=True), Parameter containing:\n",
      "tensor([-0.2934], requires_grad=True)]\n",
      "OrderedDict([('weights', tensor([1.5410])), ('bias', tensor([-0.2934]))])\n"
     ]
    }
   ],
   "source": [
    "torch.manual_seed(0)\n",
    "model_0 = LRModel()\n",
    "# access layers\n",
    "print(f'{list(model_0.parameters())}')\n",
    "# get contens via dictionary\n",
    "print(f'{model_0.state_dict()}')\n",
    "\n"
   ]
  },
  {
   "cell_type": "markdown",
   "metadata": {},
   "source": [
    "### Make Predictions\n",
    "torch.inference mode is for predictions\n",
    "torch.inference_mode() turns off a bunch of things (like gradient tracking, which is necessary for training but not for inference)"
   ]
  },
  {
   "cell_type": "code",
   "execution_count": 25,
   "metadata": {},
   "outputs": [
    {
     "name": "stdout",
     "output_type": "stream",
     "text": [
      "Number of testing samples: 10\n",
      "Number of predictions made: 10\n",
      "Predicted values:\n",
      "tensor([[0.9394],\n",
      "        [0.9702],\n",
      "        [1.0010],\n",
      "        [1.0318],\n",
      "        [1.0626],\n",
      "        [1.0935],\n",
      "        [1.1243],\n",
      "        [1.1551],\n",
      "        [1.1859],\n",
      "        [1.2167]])\n"
     ]
    }
   ],
   "source": [
    "with torch.inference_mode(): \n",
    "    y_preds = model_0(X_test)\n",
    "\n",
    "# Check the predictions\n",
    "print(f\"Number of testing samples: {len(X_test)}\") \n",
    "print(f\"Number of predictions made: {len(y_preds)}\")\n",
    "print(f\"Predicted values:\\n{y_preds}\")"
   ]
  },
  {
   "cell_type": "code",
   "execution_count": 29,
   "metadata": {},
   "outputs": [
    {
     "name": "stdout",
     "output_type": "stream",
     "text": [
      "tensor([[-0.0794],\n",
      "        [-0.0962],\n",
      "        [-0.1130],\n",
      "        [-0.1298],\n",
      "        [-0.1466],\n",
      "        [-0.1635],\n",
      "        [-0.1803],\n",
      "        [-0.1971],\n",
      "        [-0.2139],\n",
      "        [-0.2307]])\n"
     ]
    },
    {
     "data": {
      "image/png": "[encoded data removed]",
      "text/plain": [
       "<Figure size 1000x700 with 1 Axes>"
      ]
     },
     "metadata": {},
     "output_type": "display_data"
    }
   ],
   "source": [
    "# very off!\n",
    "plot_predictions(predictions=y_preds)\n",
    "print(y_test-y_preds)"
   ]
  },
  {
   "cell_type": "markdown",
   "metadata": {},
   "source": [
    "### Loss Function and Optimizer\n",
    "- Loss Fcuntion -> measures your wrongdoings :3\n",
    "    - torch.nn -> built in loss functions such as BCE or L1\n",
    "- Optimizer -> The update part \"going down the slope\"/lowering loss\n",
    "    - torch optim -> optimizer such as adam, sgd, etc"
   ]
  },
  {
   "cell_type": "code",
   "execution_count": 31,
   "metadata": {},
   "outputs": [],
   "source": [
    "# Create the loss function\n",
    "# MAE loss is same as L1Loss\n",
    "loss_fn = nn.L1Loss() \n",
    "\n",
    "# params is the parameters of target model to optimize, in this case its w and b\n",
    "# learning rate (how much the optimizer should change parameters at each step, higher=more (less stable), lower=less (might take a long time))\n",
    "# essentially like going down a mountain by jumping or walking :3\n",
    "optimizer = torch.optim.SGD(params=model_0.parameters(), lr=0.01) "
   ]
  },
  {
   "cell_type": "markdown",
   "metadata": {},
   "source": [
    "Training Loop\n",
    "1. Forward Pass\n",
    "    - Calculates parameters forward\n",
    "2. Calculating Loss\n",
    "    - compare model prediction to the actual data\n",
    "3. Zero Gradients\n",
    "    - Optimizer gradients are set to zero, so they can be recalculated on each training step\n",
    "4. Perform Backprop\n",
    "    - Computes gradients of the loss with respect to the parameters\n",
    "5. Update the Optimizer\n",
    "    - Update the parameters(Gradient Descent), basically stpping towards the minimal loss area"
   ]
  },
  {
   "cell_type": "markdown",
   "metadata": {},
   "source": [
    "Testing Loop (no need backprop here :3)\n",
    "1. Forward Pass\n",
    "    - Calculates parameters forward\n",
    "2. Calculating Loss\n",
    "    - compare model prediction to the actual data\n",
    "5. Calculate Evaluation Metrics\n",
    "    - Calculate accuracy and such"
   ]
  },
  {
   "cell_type": "code",
   "execution_count": 54,
   "metadata": {},
   "outputs": [
    {
     "name": "stdout",
     "output_type": "stream",
     "text": [
      "Epoch: 0 | MAE Train Loss: 0.008941905573010445 | MAE Test Loss: 0.00515474658459425 \n",
      "Epoch: 10 | MAE Train Loss: 0.008941905573010445 | MAE Test Loss: 0.00515474658459425 \n",
      "Epoch: 20 | MAE Train Loss: 0.008941905573010445 | MAE Test Loss: 0.00515474658459425 \n",
      "Epoch: 30 | MAE Train Loss: 0.008941905573010445 | MAE Test Loss: 0.00515474658459425 \n",
      "Epoch: 40 | MAE Train Loss: 0.008941905573010445 | MAE Test Loss: 0.00515474658459425 \n",
      "Epoch: 50 | MAE Train Loss: 0.008941905573010445 | MAE Test Loss: 0.00515474658459425 \n",
      "Epoch: 60 | MAE Train Loss: 0.008941905573010445 | MAE Test Loss: 0.00515474658459425 \n",
      "Epoch: 70 | MAE Train Loss: 0.008941905573010445 | MAE Test Loss: 0.00515474658459425 \n",
      "Epoch: 80 | MAE Train Loss: 0.008941905573010445 | MAE Test Loss: 0.00515474658459425 \n",
      "Epoch: 90 | MAE Train Loss: 0.008941905573010445 | MAE Test Loss: 0.00515474658459425 \n"
     ]
    }
   ],
   "source": [
    "# torch.manual_seed(1)\n",
    "epochs = 100\n",
    "# init list needed for tracking\n",
    "train_loss_values=[]\n",
    "test_loss_values=[]\n",
    "epoch_count =[]\n",
    "\n",
    "# using a regular loop, we can just train it!\n",
    "for epoch in range(epochs):\n",
    "    # set model mode to training\n",
    "    model_0.train()\n",
    "    # Forward Pass\n",
    "    y_pred = model_0(X_train)\n",
    "    # Calculate how much we lose\n",
    "    loss=loss_fn(y_pred, y_train)\n",
    "    # Zero out the gradient in this step so it doesnt accumulate\n",
    "    optimizer.zero_grad()\n",
    "    # Backprop\n",
    "    loss.backward()\n",
    "    # Update parameters\n",
    "    optimizer.step()\n",
    "    \n",
    "    # put model on ealuation mode\n",
    "    model_0.eval()\n",
    "    # using inference mode to calculate loss\n",
    "    with torch.inference_mode():\n",
    "        test_pred=model_0(X_test)\n",
    "        # compare pred to actual value\n",
    "        test_loss:nn.L1Loss=loss_fn(test_pred, y_test.type(torch.float))\n",
    "        if epoch%10==0:\n",
    "            epoch_count.append(epoch)\n",
    "            train_loss_values.append(loss.detach().numpy())\n",
    "            test_loss_values.append(test_loss.detach().numpy()) \n",
    "            print(f\"Epoch: {epoch} | MAE Train Loss: {loss} | MAE Test Loss: {test_loss} \")\n"
   ]
  },
  {
   "cell_type": "code",
   "execution_count": 55,
   "metadata": {},
   "outputs": [],
   "source": [
    "def plot_loss(epoch_count, train_loss_values, test_loss_values):\n",
    "    plt.plot(epoch_count, train_loss_values, label=\"Train loss\")\n",
    "    plt.plot(epoch_count, test_loss_values, label=\"Test loss\")\n",
    "    plt.title(\"Training and test loss curves\")\n",
    "    plt.ylabel(\"Loss\")\n",
    "    plt.xlabel(\"Epochs\")\n",
    "    plt.legend()"
   ]
  },
  {
   "cell_type": "code",
   "execution_count": 58,
   "metadata": {},
   "outputs": [
    {
     "data": {
      "image/png": "[encoded data removed]",
      "text/plain": [
       "<Figure size 640x480 with 1 Axes>"
      ]
     },
     "metadata": {},
     "output_type": "display_data"
    }
   ],
   "source": [
    "plot_loss(epoch_count, train_loss_values, test_loss_values)"
   ]
  },
  {
   "cell_type": "code",
   "execution_count": 59,
   "metadata": {},
   "outputs": [
    {
     "name": "stdout",
     "output_type": "stream",
     "text": [
      "The model learned the following values for weights and bias:\n",
      "OrderedDict([('weights', tensor([0.7013])), ('bias', tensor([0.2906]))])\n",
      "\n",
      "And the original values for weights and bias are:\n",
      "weights: 0.7, bias: 0.3\n"
     ]
    }
   ],
   "source": [
    "# Find our model's learned parameters\n",
    "print(\"The model learned the following values for weights and bias:\")\n",
    "print(model_0.state_dict())\n",
    "print(\"\\nAnd the original values for weights and bias are:\")\n",
    "print(f\"weights: {weight}, bias: {bias}\")"
   ]
  },
  {
   "cell_type": "markdown",
   "metadata": {},
   "source": [
    "### Predicitions\n",
    "1. Set Mode to eval\n",
    "2. Make predictions with inference mode - has to be both on gpu or cpu"
   ]
  },
  {
   "cell_type": "code",
   "execution_count": 61,
   "metadata": {},
   "outputs": [
    {
     "data": {
      "image/png": "[encoded data removed]",
      "text/plain": [
       "<Figure size 1000x700 with 1 Axes>"
      ]
     },
     "metadata": {},
     "output_type": "display_data"
    }
   ],
   "source": [
    "model_0.eval()\n",
    "with torch.inference_mode():\n",
    "    y_preds=model_0(X_test)\n",
    "    plot_predictions(predictions=y_preds)"
   ]
  },
  {
   "cell_type": "markdown",
   "metadata": {},
   "source": [
    "### Saving and loading models(uses pickle)\n",
    "- torch.save()\n",
    "- torch.load()\n",
    "- torch.nn.Module.load_state_dict() -> load the parameter dictionary"
   ]
  },
  {
   "cell_type": "code",
   "execution_count": 62,
   "metadata": {},
   "outputs": [
    {
     "name": "stdout",
     "output_type": "stream",
     "text": [
      "Saving model to: models/01_pytorch_workflow_model_0.pth\n"
     ]
    }
   ],
   "source": [
    "from pathlib import Path\n",
    "\n",
    "# 1. Create models directory \n",
    "MODEL_PATH = Path(\"models\")\n",
    "MODEL_PATH.mkdir(parents=True, exist_ok=True)\n",
    "\n",
    "# 2. Create model save path \n",
    "MODEL_NAME = \"01_pytorch_workflow_model_0.pth\"\n",
    "MODEL_SAVE_PATH = MODEL_PATH / MODEL_NAME\n",
    "\n",
    "# 3. Save the model state dict \n",
    "print(f\"Saving model to: {MODEL_SAVE_PATH}\")\n",
    "torch.save(obj=model_0.state_dict(), # only saving the state_dict() only saves the models learned parameters\n",
    "           f=MODEL_SAVE_PATH)"
   ]
  },
  {
   "cell_type": "code",
   "execution_count": 63,
   "metadata": {},
   "outputs": [
    {
     "name": "stdout",
     "output_type": "stream",
     "text": [
      "-rw-r--r-- 1 root root 1680 Feb 27 04:52 models/01_pytorch_workflow_model_0.pth\n"
     ]
    }
   ],
   "source": [
    "!ls -l models/01_pytorch_workflow_model_0.pth"
   ]
  },
  {
   "cell_type": "code",
   "execution_count": null,
   "metadata": {},
   "outputs": [
    {
     "data": {
      "text/plain": [
       "<All keys matched successfully>"
      ]
     },
     "execution_count": 70,
     "metadata": {},
     "output_type": "execute_result"
    }
   ],
   "source": [
    "# Loading model\n",
    "# we call torch load because we only save the parameter dictionary\n",
    "loaded_model_0 = LRModel()\n",
    "# If you use strict=False in load_state_dict\n",
    "# you inform PyTorch that the target model and the original model are not identical\n",
    "loaded_model_0.load_state_dict(torch.load(f=MODEL_SAVE_PATH), strict=True)"
   ]
  },
  {
   "cell_type": "code",
   "execution_count": 73,
   "metadata": {},
   "outputs": [],
   "source": [
    "# 1. Put the loaded model into evaluation mode\n",
    "loaded_model_0.eval()\n",
    "# 2. Use the inference mode context manager to make predictions\n",
    "with torch.inference_mode():\n",
    "    loaded_model_preds = loaded_model_0(X_test) # perform a forward pass on the test data with the loaded model"
   ]
  },
  {
   "cell_type": "code",
   "execution_count": 72,
   "metadata": {},
   "outputs": [
    {
     "data": {
      "text/plain": [
       "tensor([[True],\n",
       "        [True],\n",
       "        [True],\n",
       "        [True],\n",
       "        [True],\n",
       "        [True],\n",
       "        [True],\n",
       "        [True],\n",
       "        [True],\n",
       "        [True]])"
      ]
     },
     "execution_count": 72,
     "metadata": {},
     "output_type": "execute_result"
    }
   ],
   "source": [
    "# Compare previous model predictions with loaded model predictions (these should be the same)\n",
    "y_preds == loaded_model_preds"
   ]
  }
 ],
 "metadata": {
  "kernelspec": {
   "display_name": ".venv",
   "language": "python",
   "name": "python3"
  },
  "language_info": {
   "codemirror_mode": {
    "name": "ipython",
    "version": 3
   },
   "file_extension": ".py",
   "mimetype": "text/x-python",
   "name": "python",
   "nbconvert_exporter": "python",
   "pygments_lexer": "ipython3",
   "version": "3.11.2"
  }
 },
 "nbformat": 4,
 "nbformat_minor": 2
}
